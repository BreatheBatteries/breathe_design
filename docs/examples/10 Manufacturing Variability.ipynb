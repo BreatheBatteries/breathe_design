{
 "cells": [
  {
   "cell_type": "markdown",
   "id": "ee71bd66",
   "metadata": {},
   "source": [
    "# Manufacturing variability"
   ]
  },
  {
   "cell_type": "markdown",
   "id": "b597a719",
   "metadata": {},
   "source": [
    "In this example we will use breathe design to see how variations in cell parameters due the manufacturing process, effect the KPIs of the cells.\n",
    "\n",
    "We start by import breathe design api, as well as the montecarlo utils"
   ]
  },
  {
   "cell_type": "code",
   "execution_count": 1,
   "id": "51035e64",
   "metadata": {},
   "outputs": [],
   "source": [
    "import breathe_design as bd\n",
    "from breathe_design import api_interface as api\n",
    "import breathe_design.montecarlo_utils as mc"
   ]
  },
  {
   "cell_type": "markdown",
   "id": "05c8c59a",
   "metadata": {},
   "source": [
    "We'll use the `Molicel P45B` cell as an example, so lets load up the base design for that cell"
   ]
  },
  {
   "cell_type": "code",
   "execution_count": 2,
   "id": "f8f82912",
   "metadata": {},
   "outputs": [],
   "source": [
    "base_battery = \"Molicel P45B\"\n",
    "base_design = api.get_design_parameters(base_battery)"
   ]
  },
  {
   "cell_type": "markdown",
   "id": "498bd5e7",
   "metadata": {},
   "source": [
    "Lets look in the base dsign to see what parameters we could vary"
   ]
  },
  {
   "cell_type": "code",
   "execution_count": 3,
   "id": "649fbda4",
   "metadata": {},
   "outputs": [
    {
     "data": {
      "text/plain": [
       "{'anode': 'Molicel P45B Anode',\n",
       " 'cathode': 'Molicel P45B Cathode',\n",
       " 'NPratio': 1.039106051327928,\n",
       " 'Vmin_V': 2.5,\n",
       " 'Vmax_V': 4.2,\n",
       " 'cathodePorosity': 0.14216134985845785,\n",
       " 'anodePorosity': 0.16663641853607114,\n",
       " 'cathodeThickness_um': 37.483333333333334,\n",
       " 'anodeThickness_um': 48.900000000000006,\n",
       " 'copperThickness_um': 11.2,\n",
       " 'aluminumThickness_um': 22.2,\n",
       " 'separatorThickness_um': 16.8,\n",
       " 'format': 'Molicel P45B',\n",
       " 'electrolyte': 'LP30',\n",
       " 'electrolyteBuffer_rel': 0.2,\n",
       " 'lampe': 0,\n",
       " 'lamne': 0,\n",
       " 'lli': 0}"
      ]
     },
     "execution_count": 3,
     "metadata": {},
     "output_type": "execute_result"
    }
   ],
   "source": [
    "base_design"
   ]
  },
  {
   "cell_type": "markdown",
   "id": "5be2a51e",
   "metadata": {},
   "source": [
    "We'll use the Montecarlo tools to generate samples where we vary some design parameters.\n",
    "\n",
    "Essentially, we generate a number of different cell designs, where each design is a slight variation on the base design, to represent a possible deviation from the nominal design, due to variations in the manufacturing process.\n",
    "\n",
    "We'll choose to vary the porosity and thickness of both electrodes as pairs."
   ]
  },
  {
   "cell_type": "code",
   "execution_count": 4,
   "id": "5b2ee249",
   "metadata": {},
   "outputs": [],
   "source": [
    "param_pairs = [\n",
    "    (\"anodePorosity\", \"cathodePorosity\"),\n",
    "    (\"anodeThickness_um\", \"cathodeThickness_um\"),\n",
    "]\n",
    "sigma_fraction = [\n",
    "    0.035,  # vary the porosity by 3.5%\n",
    "    0.05,  # vary the thickness by 5%\n",
    "]\n",
    "bound_range = 0.2  # bound all parameters to within 20% of the base value\n",
    "changes = mc.make_manufacturing_variations(\n",
    "    base_design=base_design,\n",
    "    n_samples=200,\n",
    "    bound_range=bound_range,\n",
    "    sigma_fraction=sigma_fraction,\n",
    "    seed=42,\n",
    "    param_pairs=param_pairs,\n",
    ")"
   ]
  },
  {
   "cell_type": "markdown",
   "id": "1b60073f",
   "metadata": {},
   "source": [
    "We can visualise the distribution of the samples from design parameter tolerance. This will help us understand the range of possible outcomes from the manufacturing process."
   ]
  },
  {
   "cell_type": "code",
   "execution_count": 5,
   "id": "322e81d4",
   "metadata": {},
   "outputs": [
    {
     "data": {
      "application/vnd.plotly.v1+json": {
       "config": {
        "plotlyServerURL": "https://plot.ly"
       },
       "data": [
        {
         "marker": {
          "color": "#00c34e"
         },
         "name": "anodePorosity",
         "nbinsx": 30,
         "opacity": 0.75,
         "type": "histogram",
         "x": [
          0.1658,
          0.16589,
          0.16537,
          0.17047,
          0.16807,
          0.16974,
          0.17173,
          0.1712,
          0.15136,
          0.17051,
          0.16613,
          0.17036,
          0.16298,
          0.16518,
          0.17112,
          0.17496,
          0.17219,
          0.1648,
          0.17025,
          0.17219,
          0.16242,
          0.16333,
          0.16816,
          0.16823,
          0.17379,
          0.17593,
          0.16576,
          0.15278,
          0.16298,
          0.16414,
          0.16721,
          0.1718,
          0.1746,
          0.17682,
          0.17558,
          0.15936,
          0.16307,
          0.16816,
          0.16012,
          0.16255,
          0.17407,
          0.16806,
          0.16733,
          0.15657,
          0.17172,
          0.16549,
          0.16229,
          0.16897,
          0.16665,
          0.16485,
          0.17971,
          0.16261,
          0.15436,
          0.16076,
          0.15792,
          0.17416,
          0.17387,
          0.17479,
          0.1594,
          0.17002,
          0.15989,
          0.16926,
          0.16431,
          0.17243,
          0.17025,
          0.17542,
          0.1712,
          0.16622,
          0.1595,
          0.17243,
          0.16584,
          0.15401,
          0.16247,
          0.16368,
          0.16591,
          0.17267,
          0.16846,
          0.16995,
          0.16663641853607114,
          0.15988,
          0.17715,
          0.17605,
          0.17039,
          0.16729,
          0.16849,
          0.16781,
          0.16113,
          0.16292,
          0.16932,
          0.17109,
          0.16596,
          0.16089,
          0.17993,
          0.1662,
          0.16396,
          0.16571,
          0.16264,
          0.1748,
          0.16432,
          0.15969,
          0.16286,
          0.16765,
          0.1631,
          0.1647,
          0.16685,
          0.15957,
          0.16228,
          0.1667,
          0.17323,
          0.16669,
          0.15806,
          0.17287,
          0.1702,
          0.16218,
          0.16734,
          0.17087,
          0.16355,
          0.16606,
          0.16321,
          0.15887,
          0.16617,
          0.17538,
          0.15904,
          0.16533,
          0.16375,
          0.16566,
          0.17488,
          0.17205,
          0.16704,
          0.1666,
          0.17205,
          0.16098,
          0.16996,
          0.16287,
          0.17057,
          0.173,
          0.16331,
          0.16613,
          0.17468,
          0.17877,
          0.16158,
          0.17299,
          0.15942,
          0.1651,
          0.16012,
          0.16532,
          0.16985,
          0.16562,
          0.1691,
          0.16522,
          0.17463,
          0.16357,
          0.17008,
          0.16088,
          0.1665,
          0.16661,
          0.157,
          0.15732,
          0.16608,
          0.16706,
          0.17394,
          0.17123,
          0.16047,
          0.17283,
          0.17398,
          0.16205,
          0.16736,
          0.16032,
          0.17161,
          0.16576,
          0.16482,
          0.17302,
          0.1677,
          0.16156,
          0.15944,
          0.15899,
          0.16916,
          0.16591,
          0.17307,
          0.17265,
          0.17916,
          0.18852,
          0.17612,
          0.16983,
          0.16409,
          0.1611,
          0.16329,
          0.16177,
          0.16086,
          0.16083,
          0.16697,
          0.1539,
          0.17798,
          0.17065,
          0.17951,
          0.17002,
          0.16501,
          0.16119,
          0.1751,
          0.15493
         ],
         "xaxis": "x",
         "yaxis": "y"
        },
        {
         "marker": {
          "color": "#9bda9e"
         },
         "name": "cathodePorosity",
         "nbinsx": 30,
         "opacity": 0.75,
         "type": "histogram",
         "x": [
          0.1413,
          0.13471,
          0.14274,
          0.14271,
          0.14868,
          0.13493,
          0.14096,
          0.13662,
          0.13914,
          0.1361,
          0.1407,
          0.1439,
          0.13859,
          0.15378,
          0.14924,
          0.14169,
          0.13498,
          0.14576,
          0.13913,
          0.13934,
          0.1407,
          0.14423,
          0.143,
          0.13713,
          0.14201,
          0.14273,
          0.14924,
          0.1457,
          0.14215,
          0.14894,
          0.13599,
          0.14218,
          0.13568,
          0.1338,
          0.14571,
          0.14313,
          0.14376,
          0.14626,
          0.14444,
          0.1478,
          0.14519,
          0.14069,
          0.14475,
          0.14365,
          0.14518,
          0.13478,
          0.14476,
          0.14721,
          0.15344,
          0.14166,
          0.13996,
          0.14247,
          0.15212,
          0.14362,
          0.13944,
          0.14088,
          0.14448,
          0.15274,
          0.13797,
          0.13978,
          0.14536,
          0.14973,
          0.13846,
          0.14459,
          0.14369,
          0.1352,
          0.13545,
          0.14165,
          0.1321,
          0.1461,
          0.13887,
          0.14294,
          0.14401,
          0.13922,
          0.14247,
          0.13861,
          0.14424,
          0.13269,
          0.14448,
          0.14601,
          0.13193,
          0.14342,
          0.13275,
          0.13985,
          0.15119,
          0.13873,
          0.15093,
          0.13826,
          0.14124,
          0.14125,
          0.13788,
          0.14647,
          0.14228,
          0.13476,
          0.13834,
          0.13803,
          0.14456,
          0.13942,
          0.14811,
          0.14496,
          0.14339,
          0.13925,
          0.13883,
          0.13902,
          0.14781,
          0.14575,
          0.14229,
          0.13363,
          0.15335,
          0.15182,
          0.12932,
          0.13784,
          0.13668,
          0.14277,
          0.13615,
          0.14407,
          0.14148,
          0.14042,
          0.14387,
          0.13829,
          0.14253,
          0.13235,
          0.14023,
          0.14264,
          0.14385,
          0.14135,
          0.14337,
          0.14367,
          0.13732,
          0.14422,
          0.14216134985845785,
          0.13536,
          0.14253,
          0.1408,
          0.14808,
          0.13049,
          0.14909,
          0.14023,
          0.14728,
          0.15201,
          0.14424,
          0.13466,
          0.13513,
          0.12932,
          0.1408,
          0.15182,
          0.13964,
          0.14299,
          0.15081,
          0.13835,
          0.14623,
          0.13549,
          0.14411,
          0.1394,
          0.1377,
          0.14468,
          0.14028,
          0.14295,
          0.1444,
          0.14292,
          0.14115,
          0.13791,
          0.14319,
          0.14011,
          0.14531,
          0.14053,
          0.1354,
          0.14139,
          0.1419,
          0.1301,
          0.1397,
          0.14225,
          0.1499,
          0.13173,
          0.13233,
          0.13346,
          0.14585,
          0.14465,
          0.1401,
          0.14347,
          0.14907,
          0.1362,
          0.14425,
          0.14058,
          0.14227,
          0.13355,
          0.15381,
          0.14337,
          0.14555,
          0.1408,
          0.13519,
          0.13869,
          0.15141,
          0.14744,
          0.14163,
          0.13708,
          0.1515,
          0.14061,
          0.13533,
          0.14807
         ],
         "xaxis": "x2",
         "yaxis": "y2"
        },
        {
         "marker": {
          "color": "#ffffff"
         },
         "name": "anodeThickness_um",
         "nbinsx": 30,
         "opacity": 0.75,
         "type": "histogram",
         "x": [
          48.62783,
          49.71252,
          49.46797,
          47.0948,
          49.00185,
          48.13648,
          49.82079,
          50.28937,
          46.66084,
          50.9718,
          49.17976,
          50.48912,
          47.75093,
          46.89683,
          50.13642,
          45.42087,
          48.98198,
          50.32001,
          47.5264,
          48.72821,
          44.39806,
          51.81809,
          51.55219,
          51.10878,
          53.67533,
          47.63772,
          50.89604,
          50.25906,
          53.11732,
          47.80916,
          49.43777,
          54.48299,
          48.60137,
          51.32207,
          49.02731,
          48.4313,
          45.06379,
          52.44061,
          50.16403,
          49.11491,
          49.60053,
          49.17376,
          51.82356,
          49.4617,
          46.46724,
          50.00746,
          50.09339,
          47.15753,
          44.34667,
          53.54939,
          49.757,
          48.20911,
          48.49169,
          56.63828,
          50.05523,
          44.9825,
          44.11528,
          50.27332,
          49.01471,
          46.0835,
          43.24647,
          49.07433,
          47.25111,
          57.04251,
          48.35749,
          47.92238,
          43.38515,
          49.74406,
          49.70486,
          48.4337,
          47.62719,
          49.51097,
          53.09775,
          48.72945,
          53.41024,
          50.53796,
          47.02613,
          50.25174,
          49.85485,
          52.08144,
          50.78138,
          46.10984,
          49.61753,
          52.25819,
          46.87808,
          50.4841,
          50.8355,
          51.90965,
          50.40712,
          50.92834,
          46.60141,
          48.78606,
          45.1151,
          48.28754,
          47.04484,
          47.98826,
          50.67968,
          51.66953,
          50.91071,
          47.35874,
          43.71408,
          51.43529,
          50.59965,
          49.07085,
          49.45761,
          50.19132,
          48.7565,
          50.91709,
          48.12013,
          44.66717,
          43.95906,
          48.34387,
          52.12166,
          48.96042,
          47.52998,
          48.60809,
          49.34196,
          46.34293,
          44.25056,
          51.48823,
          46.45853,
          45.35722,
          49.21675,
          47.00089,
          47.64904,
          46.42131,
          50.69056,
          49.41897,
          48.95831,
          51.92197,
          46.3976,
          50.44942,
          51.4527,
          47.59723,
          48.88428,
          49.33393,
          51.27345,
          47.64787,
          50.85152,
          49.3598,
          46.66768,
          53.80401,
          48.20703,
          48.34082,
          45.25791,
          49.40572,
          45.62539,
          49.81799,
          46.19143,
          54.83455,
          44.79095,
          44.56817,
          48.15225,
          46.37418,
          48.33264,
          49.33552,
          49.57663,
          51.8497,
          49.5042,
          46.98692,
          48.48786,
          51.12618,
          49.21829,
          49.98312,
          50.21179,
          50.12685,
          49.34277,
          44.36085,
          46.4702,
          49.34127,
          49.34491,
          47.21354,
          48.11693,
          49.70635,
          46.16652,
          49.33585,
          48.87922,
          47.47459,
          47.89943,
          48.08526,
          50.54517,
          47.99094,
          45.41068,
          45.91664,
          47.62882,
          47.09218,
          50.10168,
          46.02066,
          52.47002,
          49.78562,
          49.00348,
          45.39766,
          47.4985,
          47.87618,
          47.71339,
          48.29266,
          50.71351,
          51.46904,
          48.19084,
          44.37338
         ],
         "xaxis": "x3",
         "yaxis": "y3"
        },
        {
         "marker": {
          "color": "#e0dcda"
         },
         "name": "cathodeThickness_um",
         "nbinsx": 30,
         "opacity": 0.75,
         "type": "histogram",
         "x": [
          38.79897,
          36.9823,
          39.66404,
          35.58169,
          37.28407,
          38.40235,
          37.94853,
          34.64487,
          39.12513,
          35.60504,
          39.01759,
          38.38011,
          38.41915,
          35.42386,
          39.04979,
          36.48613,
          37.95794,
          41.83404,
          35.92481,
          38.88765,
          35.45459,
          37.44872,
          39.15763,
          38.19748,
          36.81074,
          35.36843,
          38.77442,
          36.45268,
          35.5059,
          36.80067,
          35.21631,
          38.00968,
          38.08896,
          38.59163,
          36.50567,
          41.26965,
          36.74217,
          37.40059,
          38.40478,
          38.79492,
          41.51803,
          40.26229,
          36.52215,
          36.34382,
          38.45456,
          37.39859,
          36.40093,
          38.19718,
          38.78641,
          37.46727,
          36.5634,
          37.86284,
          40.74983,
          35.85332,
          38.78277,
          36.66801,
          37.41764,
          38.06302,
          38.42641,
          36.02564,
          36.85871,
          39.35991,
          40.34582,
          37.42272,
          41.82422,
          38.28611,
          33.91048,
          36.04083,
          38.17688,
          40.01207,
          36.3873,
          36.80439,
          37.55503,
          35.11295,
          39.25156,
          35.34794,
          41.2305,
          36.71978,
          33.66162,
          41.05016,
          33.89189,
          41.25022,
          36.11306,
          34.81586,
          37.87812,
          37.66522,
          37.17015,
          37.20881,
          37.26597,
          38.74349,
          36.09507,
          40.42596,
          36.76843,
          38.02112,
          40.83188,
          39.27193,
          38.88731,
          35.99739,
          37.48726,
          35.75182,
          38.15946,
          38.62927,
          34.64196,
          37.87902,
          36.89299,
          40.20239,
          37.31914,
          38.70755,
          37.41559,
          38.39374,
          34.89367,
          35.30272,
          35.62209,
          40.15344,
          36.40984,
          39.11312,
          40.3474,
          38.76911,
          39.43844,
          34.98231,
          40.00021,
          38.9981,
          38.77998,
          39.90543,
          37.6826,
          38.97594,
          39.05401,
          39.10263,
          33.94413,
          37.76685,
          34.83817,
          37.09423,
          39.47031,
          34.44472,
          36.55901,
          37.75187,
          36.99388,
          35.03155,
          35.43237,
          35.78867,
          37.41922,
          40.41961,
          35.5508,
          40.86219,
          38.6795,
          36.78581,
          38.04923,
          36.52691,
          40.73956,
          37.77387,
          37.70977,
          37.67504,
          35.98678,
          37.10236,
          36.05837,
          38.36822,
          38.68498,
          37.14859,
          38.74772,
          37.1639,
          36.56217,
          35.72729,
          38.04101,
          35.77818,
          37.83545,
          37.44738,
          36.18655,
          38.79257,
          35.71155,
          38.72859,
          38.1405,
          36.61885,
          35.51072,
          34.93198,
          38.54864,
          36.84392,
          35.05111,
          34.78929,
          37.51325,
          38.76176,
          35.37999,
          36.17162,
          37.98484,
          36.1245,
          38.86126,
          40.01138,
          35.301,
          41.93369,
          37.27867,
          39.12464,
          36.22135,
          38.5832,
          36.60736,
          37.21601,
          37.70807,
          35.29738,
          37.30989,
          36.43064,
          40.74956,
          37.31451
         ],
         "xaxis": "x4",
         "yaxis": "y4"
        }
       ],
       "layout": {
        "annotations": [
         {
          "font": {
           "size": 16
          },
          "showarrow": false,
          "text": "anodePorosity",
          "x": 0.225,
          "xanchor": "center",
          "xref": "paper",
          "y": 1,
          "yanchor": "bottom",
          "yref": "paper"
         },
         {
          "font": {
           "size": 16
          },
          "showarrow": false,
          "text": "cathodePorosity",
          "x": 0.775,
          "xanchor": "center",
          "xref": "paper",
          "y": 1,
          "yanchor": "bottom",
          "yref": "paper"
         },
         {
          "font": {
           "size": 16
          },
          "showarrow": false,
          "text": "anodeThickness_um",
          "x": 0.225,
          "xanchor": "center",
          "xref": "paper",
          "y": 0.375,
          "yanchor": "bottom",
          "yref": "paper"
         },
         {
          "font": {
           "size": 16
          },
          "showarrow": false,
          "text": "cathodeThickness_um",
          "x": 0.775,
          "xanchor": "center",
          "xref": "paper",
          "y": 0.375,
          "yanchor": "bottom",
          "yref": "paper"
         }
        ],
        "bargap": 0.05,
        "height": 700,
        "paper_bgcolor": "rgba(240,240,240,1)",
        "plot_bgcolor": "rgba(240,240,240,1)",
        "template": {
         "data": {
          "bar": [
           {
            "error_x": {
             "color": "#2a3f5f"
            },
            "error_y": {
             "color": "#2a3f5f"
            },
            "marker": {
             "line": {
              "color": "#E5ECF6",
              "width": 0.5
             },
             "pattern": {
              "fillmode": "overlay",
              "size": 10,
              "solidity": 0.2
             }
            },
            "type": "bar"
           }
          ],
          "barpolar": [
           {
            "marker": {
             "line": {
              "color": "#E5ECF6",
              "width": 0.5
             },
             "pattern": {
              "fillmode": "overlay",
              "size": 10,
              "solidity": 0.2
             }
            },
            "type": "barpolar"
           }
          ],
          "carpet": [
           {
            "aaxis": {
             "endlinecolor": "#2a3f5f",
             "gridcolor": "white",
             "linecolor": "white",
             "minorgridcolor": "white",
             "startlinecolor": "#2a3f5f"
            },
            "baxis": {
             "endlinecolor": "#2a3f5f",
             "gridcolor": "white",
             "linecolor": "white",
             "minorgridcolor": "white",
             "startlinecolor": "#2a3f5f"
            },
            "type": "carpet"
           }
          ],
          "choropleth": [
           {
            "colorbar": {
             "outlinewidth": 0,
             "ticks": ""
            },
            "type": "choropleth"
           }
          ],
          "contour": [
           {
            "colorbar": {
             "outlinewidth": 0,
             "ticks": ""
            },
            "colorscale": [
             [
              0,
              "#0d0887"
             ],
             [
              0.1111111111111111,
              "#46039f"
             ],
             [
              0.2222222222222222,
              "#7201a8"
             ],
             [
              0.3333333333333333,
              "#9c179e"
             ],
             [
              0.4444444444444444,
              "#bd3786"
             ],
             [
              0.5555555555555556,
              "#d8576b"
             ],
             [
              0.6666666666666666,
              "#ed7953"
             ],
             [
              0.7777777777777778,
              "#fb9f3a"
             ],
             [
              0.8888888888888888,
              "#fdca26"
             ],
             [
              1,
              "#f0f921"
             ]
            ],
            "type": "contour"
           }
          ],
          "contourcarpet": [
           {
            "colorbar": {
             "outlinewidth": 0,
             "ticks": ""
            },
            "type": "contourcarpet"
           }
          ],
          "heatmap": [
           {
            "colorbar": {
             "outlinewidth": 0,
             "ticks": ""
            },
            "colorscale": [
             [
              0,
              "#0d0887"
             ],
             [
              0.1111111111111111,
              "#46039f"
             ],
             [
              0.2222222222222222,
              "#7201a8"
             ],
             [
              0.3333333333333333,
              "#9c179e"
             ],
             [
              0.4444444444444444,
              "#bd3786"
             ],
             [
              0.5555555555555556,
              "#d8576b"
             ],
             [
              0.6666666666666666,
              "#ed7953"
             ],
             [
              0.7777777777777778,
              "#fb9f3a"
             ],
             [
              0.8888888888888888,
              "#fdca26"
             ],
             [
              1,
              "#f0f921"
             ]
            ],
            "type": "heatmap"
           }
          ],
          "heatmapgl": [
           {
            "colorbar": {
             "outlinewidth": 0,
             "ticks": ""
            },
            "colorscale": [
             [
              0,
              "#0d0887"
             ],
             [
              0.1111111111111111,
              "#46039f"
             ],
             [
              0.2222222222222222,
              "#7201a8"
             ],
             [
              0.3333333333333333,
              "#9c179e"
             ],
             [
              0.4444444444444444,
              "#bd3786"
             ],
             [
              0.5555555555555556,
              "#d8576b"
             ],
             [
              0.6666666666666666,
              "#ed7953"
             ],
             [
              0.7777777777777778,
              "#fb9f3a"
             ],
             [
              0.8888888888888888,
              "#fdca26"
             ],
             [
              1,
              "#f0f921"
             ]
            ],
            "type": "heatmapgl"
           }
          ],
          "histogram": [
           {
            "marker": {
             "pattern": {
              "fillmode": "overlay",
              "size": 10,
              "solidity": 0.2
             }
            },
            "type": "histogram"
           }
          ],
          "histogram2d": [
           {
            "colorbar": {
             "outlinewidth": 0,
             "ticks": ""
            },
            "colorscale": [
             [
              0,
              "#0d0887"
             ],
             [
              0.1111111111111111,
              "#46039f"
             ],
             [
              0.2222222222222222,
              "#7201a8"
             ],
             [
              0.3333333333333333,
              "#9c179e"
             ],
             [
              0.4444444444444444,
              "#bd3786"
             ],
             [
              0.5555555555555556,
              "#d8576b"
             ],
             [
              0.6666666666666666,
              "#ed7953"
             ],
             [
              0.7777777777777778,
              "#fb9f3a"
             ],
             [
              0.8888888888888888,
              "#fdca26"
             ],
             [
              1,
              "#f0f921"
             ]
            ],
            "type": "histogram2d"
           }
          ],
          "histogram2dcontour": [
           {
            "colorbar": {
             "outlinewidth": 0,
             "ticks": ""
            },
            "colorscale": [
             [
              0,
              "#0d0887"
             ],
             [
              0.1111111111111111,
              "#46039f"
             ],
             [
              0.2222222222222222,
              "#7201a8"
             ],
             [
              0.3333333333333333,
              "#9c179e"
             ],
             [
              0.4444444444444444,
              "#bd3786"
             ],
             [
              0.5555555555555556,
              "#d8576b"
             ],
             [
              0.6666666666666666,
              "#ed7953"
             ],
             [
              0.7777777777777778,
              "#fb9f3a"
             ],
             [
              0.8888888888888888,
              "#fdca26"
             ],
             [
              1,
              "#f0f921"
             ]
            ],
            "type": "histogram2dcontour"
           }
          ],
          "mesh3d": [
           {
            "colorbar": {
             "outlinewidth": 0,
             "ticks": ""
            },
            "type": "mesh3d"
           }
          ],
          "parcoords": [
           {
            "line": {
             "colorbar": {
              "outlinewidth": 0,
              "ticks": ""
             }
            },
            "type": "parcoords"
           }
          ],
          "pie": [
           {
            "automargin": true,
            "type": "pie"
           }
          ],
          "scatter": [
           {
            "fillpattern": {
             "fillmode": "overlay",
             "size": 10,
             "solidity": 0.2
            },
            "type": "scatter"
           }
          ],
          "scatter3d": [
           {
            "line": {
             "colorbar": {
              "outlinewidth": 0,
              "ticks": ""
             }
            },
            "marker": {
             "colorbar": {
              "outlinewidth": 0,
              "ticks": ""
             }
            },
            "type": "scatter3d"
           }
          ],
          "scattercarpet": [
           {
            "marker": {
             "colorbar": {
              "outlinewidth": 0,
              "ticks": ""
             }
            },
            "type": "scattercarpet"
           }
          ],
          "scattergeo": [
           {
            "marker": {
             "colorbar": {
              "outlinewidth": 0,
              "ticks": ""
             }
            },
            "type": "scattergeo"
           }
          ],
          "scattergl": [
           {
            "marker": {
             "colorbar": {
              "outlinewidth": 0,
              "ticks": ""
             }
            },
            "type": "scattergl"
           }
          ],
          "scattermapbox": [
           {
            "marker": {
             "colorbar": {
              "outlinewidth": 0,
              "ticks": ""
             }
            },
            "type": "scattermapbox"
           }
          ],
          "scatterpolar": [
           {
            "marker": {
             "colorbar": {
              "outlinewidth": 0,
              "ticks": ""
             }
            },
            "type": "scatterpolar"
           }
          ],
          "scatterpolargl": [
           {
            "marker": {
             "colorbar": {
              "outlinewidth": 0,
              "ticks": ""
             }
            },
            "type": "scatterpolargl"
           }
          ],
          "scatterternary": [
           {
            "marker": {
             "colorbar": {
              "outlinewidth": 0,
              "ticks": ""
             }
            },
            "type": "scatterternary"
           }
          ],
          "surface": [
           {
            "colorbar": {
             "outlinewidth": 0,
             "ticks": ""
            },
            "colorscale": [
             [
              0,
              "#0d0887"
             ],
             [
              0.1111111111111111,
              "#46039f"
             ],
             [
              0.2222222222222222,
              "#7201a8"
             ],
             [
              0.3333333333333333,
              "#9c179e"
             ],
             [
              0.4444444444444444,
              "#bd3786"
             ],
             [
              0.5555555555555556,
              "#d8576b"
             ],
             [
              0.6666666666666666,
              "#ed7953"
             ],
             [
              0.7777777777777778,
              "#fb9f3a"
             ],
             [
              0.8888888888888888,
              "#fdca26"
             ],
             [
              1,
              "#f0f921"
             ]
            ],
            "type": "surface"
           }
          ],
          "table": [
           {
            "cells": {
             "fill": {
              "color": "#EBF0F8"
             },
             "line": {
              "color": "white"
             }
            },
            "header": {
             "fill": {
              "color": "#C8D4E3"
             },
             "line": {
              "color": "white"
             }
            },
            "type": "table"
           }
          ]
         },
         "layout": {
          "annotationdefaults": {
           "arrowcolor": "#2a3f5f",
           "arrowhead": 0,
           "arrowwidth": 1
          },
          "autotypenumbers": "strict",
          "coloraxis": {
           "colorbar": {
            "outlinewidth": 0,
            "ticks": ""
           }
          },
          "colorscale": {
           "diverging": [
            [
             0,
             "#8e0152"
            ],
            [
             0.1,
             "#c51b7d"
            ],
            [
             0.2,
             "#de77ae"
            ],
            [
             0.3,
             "#f1b6da"
            ],
            [
             0.4,
             "#fde0ef"
            ],
            [
             0.5,
             "#f7f7f7"
            ],
            [
             0.6,
             "#e6f5d0"
            ],
            [
             0.7,
             "#b8e186"
            ],
            [
             0.8,
             "#7fbc41"
            ],
            [
             0.9,
             "#4d9221"
            ],
            [
             1,
             "#276419"
            ]
           ],
           "sequential": [
            [
             0,
             "#0d0887"
            ],
            [
             0.1111111111111111,
             "#46039f"
            ],
            [
             0.2222222222222222,
             "#7201a8"
            ],
            [
             0.3333333333333333,
             "#9c179e"
            ],
            [
             0.4444444444444444,
             "#bd3786"
            ],
            [
             0.5555555555555556,
             "#d8576b"
            ],
            [
             0.6666666666666666,
             "#ed7953"
            ],
            [
             0.7777777777777778,
             "#fb9f3a"
            ],
            [
             0.8888888888888888,
             "#fdca26"
            ],
            [
             1,
             "#f0f921"
            ]
           ],
           "sequentialminus": [
            [
             0,
             "#0d0887"
            ],
            [
             0.1111111111111111,
             "#46039f"
            ],
            [
             0.2222222222222222,
             "#7201a8"
            ],
            [
             0.3333333333333333,
             "#9c179e"
            ],
            [
             0.4444444444444444,
             "#bd3786"
            ],
            [
             0.5555555555555556,
             "#d8576b"
            ],
            [
             0.6666666666666666,
             "#ed7953"
            ],
            [
             0.7777777777777778,
             "#fb9f3a"
            ],
            [
             0.8888888888888888,
             "#fdca26"
            ],
            [
             1,
             "#f0f921"
            ]
           ]
          },
          "colorway": [
           "#636efa",
           "#EF553B",
           "#00cc96",
           "#ab63fa",
           "#FFA15A",
           "#19d3f3",
           "#FF6692",
           "#B6E880",
           "#FF97FF",
           "#FECB52"
          ],
          "font": {
           "color": "#2a3f5f"
          },
          "geo": {
           "bgcolor": "white",
           "lakecolor": "white",
           "landcolor": "#E5ECF6",
           "showlakes": true,
           "showland": true,
           "subunitcolor": "white"
          },
          "hoverlabel": {
           "align": "left"
          },
          "hovermode": "closest",
          "mapbox": {
           "style": "light"
          },
          "paper_bgcolor": "white",
          "plot_bgcolor": "#E5ECF6",
          "polar": {
           "angularaxis": {
            "gridcolor": "white",
            "linecolor": "white",
            "ticks": ""
           },
           "bgcolor": "#E5ECF6",
           "radialaxis": {
            "gridcolor": "white",
            "linecolor": "white",
            "ticks": ""
           }
          },
          "scene": {
           "xaxis": {
            "backgroundcolor": "#E5ECF6",
            "gridcolor": "white",
            "gridwidth": 2,
            "linecolor": "white",
            "showbackground": true,
            "ticks": "",
            "zerolinecolor": "white"
           },
           "yaxis": {
            "backgroundcolor": "#E5ECF6",
            "gridcolor": "white",
            "gridwidth": 2,
            "linecolor": "white",
            "showbackground": true,
            "ticks": "",
            "zerolinecolor": "white"
           },
           "zaxis": {
            "backgroundcolor": "#E5ECF6",
            "gridcolor": "white",
            "gridwidth": 2,
            "linecolor": "white",
            "showbackground": true,
            "ticks": "",
            "zerolinecolor": "white"
           }
          },
          "shapedefaults": {
           "line": {
            "color": "#2a3f5f"
           }
          },
          "ternary": {
           "aaxis": {
            "gridcolor": "white",
            "linecolor": "white",
            "ticks": ""
           },
           "baxis": {
            "gridcolor": "white",
            "linecolor": "white",
            "ticks": ""
           },
           "bgcolor": "#E5ECF6",
           "caxis": {
            "gridcolor": "white",
            "linecolor": "white",
            "ticks": ""
           }
          },
          "title": {
           "x": 0.05
          },
          "xaxis": {
           "automargin": true,
           "gridcolor": "white",
           "linecolor": "white",
           "ticks": "",
           "title": {
            "standoff": 15
           },
           "zerolinecolor": "white",
           "zerolinewidth": 2
          },
          "yaxis": {
           "automargin": true,
           "gridcolor": "white",
           "linecolor": "white",
           "ticks": "",
           "title": {
            "standoff": 15
           },
           "zerolinecolor": "white",
           "zerolinewidth": 2
          }
         }
        },
        "title": {
         "text": "Parameter distributions"
        },
        "width": 900,
        "xaxis": {
         "anchor": "y",
         "domain": [
          0,
          0.45
         ]
        },
        "xaxis2": {
         "anchor": "y2",
         "domain": [
          0.55,
          1
         ]
        },
        "xaxis3": {
         "anchor": "y3",
         "domain": [
          0,
          0.45
         ]
        },
        "xaxis4": {
         "anchor": "y4",
         "domain": [
          0.55,
          1
         ]
        },
        "yaxis": {
         "anchor": "x",
         "domain": [
          0.625,
          1
         ]
        },
        "yaxis2": {
         "anchor": "x2",
         "domain": [
          0.625,
          1
         ]
        },
        "yaxis3": {
         "anchor": "x3",
         "domain": [
          0,
          0.375
         ]
        },
        "yaxis4": {
         "anchor": "x4",
         "domain": [
          0,
          0.375
         ]
        }
       }
      }
     },
     "metadata": {},
     "output_type": "display_data"
    }
   ],
   "source": [
    "param_keys = [\n",
    "    \"anodePorosity\",\n",
    "    \"cathodePorosity\",\n",
    "    \"anodeThickness_um\",\n",
    "    \"cathodeThickness_um\",\n",
    "]\n",
    "fig_hist = mc.plot_variation_histograms(\n",
    "    base_design, changes, param_keys, title=\"Parameter distributions\"\n",
    ")\n",
    "fig_hist.show()"
   ]
  },
  {
   "cell_type": "markdown",
   "id": "38eada98",
   "metadata": {},
   "source": [
    "Now, we start to investigate what effect those variations will have on the cell KPIs."
   ]
  },
  {
   "cell_type": "code",
   "execution_count": 6,
   "id": "554dd439",
   "metadata": {},
   "outputs": [
    {
     "name": "stderr",
     "output_type": "stream",
     "text": [
      "Running...: 100%|██████████| 200/200 [01:29<00:00,  2.23 designs/s]\n"
     ]
    }
   ],
   "source": [
    "results = api.get_eqm_kpis(base_battery, changes)\n",
    "var_kpis = results.get_kpis()"
   ]
  },
  {
   "cell_type": "markdown",
   "id": "12d8ba32",
   "metadata": {},
   "source": [
    "Lets see how the variations have effected the cell capacity.\n",
    "\n",
    "This could be rather important if you have an absolute minimum capacity required for your system.  We might find, using this analysis, that some expected manufacturing variations will result in cell capacities that are below our minimum, which would cause a problem at the system level."
   ]
  },
  {
   "cell_type": "code",
   "execution_count": 7,
   "id": "217f609c",
   "metadata": {},
   "outputs": [
    {
     "data": {
      "application/vnd.plotly.v1+json": {
       "config": {
        "plotlyServerURL": "https://plot.ly"
       },
       "data": [
        {
         "marker": {
          "color": "#00c34e"
         },
         "nbinsx": 15,
         "opacity": 0.75,
         "type": "histogram",
         "x": [
          4.499999999999997,
          4.668339587362082,
          4.436255656875266,
          4.693740206702114,
          4.407702961940657,
          4.429371861148426,
          4.706573549350319,
          4.505028360771135,
          4.121220697233831,
          4.830110646094572,
          4.191634509823384,
          4.659095607993293,
          4.486161833844264,
          4.701238915302329,
          4.322383585736218,
          4.547549587494514,
          4.641501239901341,
          4.6035229474171775,
          4.834294711427678,
          4.441232546635966,
          4.6927404765895435,
          4.585149744694906,
          4.282703127877322,
          4.502755676217519,
          4.466605112846582,
          4.123404435572206,
          4.353114078116151,
          4.4593477921670015,
          4.2473412359555915,
          3.9925969848003158,
          4.448718701731313,
          4.243285086665824,
          4.200700155938971,
          4.642523683636571,
          4.530872013928517,
          4.370426813269816,
          4.903710661840383,
          4.666362510724657,
          4.231395917791308,
          4.491791528012289,
          4.586266832757471,
          4.856524233871202,
          4.791069894065531,
          4.181333621962299,
          4.307367404579822,
          4.754394198222568,
          4.462530752117183,
          4.27311234066266,
          4.667221103852053,
          4.809119249170357,
          4.192395190777292,
          4.371899044010935,
          4.581919502482948,
          4.791480193875214,
          3.8040129276683112,
          4.570997761114635,
          4.694663955195662,
          4.780174826062442,
          4.413388008640412,
          4.614827018927459,
          4.549107180894893,
          4.780565519738124,
          4.645783528436332,
          4.898491603486886,
          3.9662442484183744,
          4.9025318023267594,
          4.713462612353189,
          4.518785642514836,
          4.281201911412957,
          4.579515305687145,
          4.781047688632314,
          4.4832813230414805,
          4.3575659209182955,
          4.212030134420386,
          4.252707789559472,
          4.391773773218093,
          4.177532659043821,
          4.890349668004131,
          4.389236097758497,
          3.975894878676317,
          4.634606600345553,
          4.037383562301552,
          4.847568539298464,
          4.362095943974651,
          3.9880044786799838,
          4.6242873733001435,
          4.437878970123453,
          4.268884791630457,
          4.288078922675492,
          4.383985431925587,
          4.51537514144459,
          4.527665669895381,
          4.785777646614402,
          4.69309644844065,
          4.650997858378975,
          4.913740652317669,
          4.782049270200219,
          4.512820688080258,
          4.1771723152942215,
          4.322622070342618,
          4.378573981433632,
          4.834168620842977,
          4.477434791129292,
          4.074057823651315,
          4.550801103416915,
          4.35851135490712,
          4.6734469776286245,
          4.48404153894663,
          4.556647207436741,
          4.480326989847988,
          4.799118583733891,
          4.619417214007949,
          4.324190449756734,
          4.114918892533534,
          4.773553389217313,
          4.512824011781674,
          4.691183178513901,
          4.778708755781856,
          4.817293618494564,
          4.856029079115243,
          4.053199413646521,
          4.874662905934031,
          4.855274072706376,
          4.624019631636021,
          4.866895425118819,
          4.592757482510294,
          4.8259270968304415,
          4.556150630174308,
          4.6402380116762005,
          4.114397531171942,
          4.316308775594015,
          4.37398190485637,
          4.387644491647349,
          4.548702118650035,
          4.238648615245274,
          4.363052890262307,
          4.587673330025915,
          4.235871185645433,
          4.314058168322147,
          4.115022826715983,
          4.229910393410539,
          4.625713480174196,
          4.553009840305281,
          4.360196635144701,
          4.937298799013903,
          4.857682883251688,
          4.321189981279898,
          4.797651113886636,
          4.322512464560467,
          4.856931943536515,
          4.167060178820312,
          4.774803136508117,
          4.838723550858212,
          4.372407745922187,
          4.642139264782017,
          4.405025471432532,
          4.551701716689512,
          4.585769507705867,
          4.246198359954603,
          4.582858408441784,
          4.591311494603162,
          4.441069367490914,
          4.185358781793975,
          4.524620806378967,
          4.254915529521755,
          4.440697983403141,
          4.416864229880848,
          4.367364739263344,
          4.863515267186362,
          4.4734841843800375,
          4.687733079394663,
          4.556810225703806,
          4.526575117276646,
          4.278061590817216,
          4.209954161734973,
          4.852753795638572,
          4.443886622134204,
          4.201162506633663,
          4.268232148624882,
          4.594878090143223,
          4.69497412698119,
          4.124491848441812,
          4.483983118660684,
          4.7786405751737915,
          4.56671881906318,
          4.733238004572587,
          4.912958692853428,
          4.089516135789833,
          4.898145829339609,
          4.209216897346515,
          4.621520588939991,
          4.395235526992081,
          4.857810234659674,
          4.4518148828969135,
          4.510570991634125,
          4.62759761919274,
          4.327695146415393,
          4.294686040652052,
          4.210951042196879,
          4.891114206549163,
          4.737317584788638
         ]
        }
       ],
       "layout": {
        "bargap": 0.05,
        "height": 600,
        "paper_bgcolor": "rgba(240,240,240,1)",
        "plot_bgcolor": "rgba(240,240,240,1)",
        "template": {
         "data": {
          "bar": [
           {
            "error_x": {
             "color": "#2a3f5f"
            },
            "error_y": {
             "color": "#2a3f5f"
            },
            "marker": {
             "line": {
              "color": "#E5ECF6",
              "width": 0.5
             },
             "pattern": {
              "fillmode": "overlay",
              "size": 10,
              "solidity": 0.2
             }
            },
            "type": "bar"
           }
          ],
          "barpolar": [
           {
            "marker": {
             "line": {
              "color": "#E5ECF6",
              "width": 0.5
             },
             "pattern": {
              "fillmode": "overlay",
              "size": 10,
              "solidity": 0.2
             }
            },
            "type": "barpolar"
           }
          ],
          "carpet": [
           {
            "aaxis": {
             "endlinecolor": "#2a3f5f",
             "gridcolor": "white",
             "linecolor": "white",
             "minorgridcolor": "white",
             "startlinecolor": "#2a3f5f"
            },
            "baxis": {
             "endlinecolor": "#2a3f5f",
             "gridcolor": "white",
             "linecolor": "white",
             "minorgridcolor": "white",
             "startlinecolor": "#2a3f5f"
            },
            "type": "carpet"
           }
          ],
          "choropleth": [
           {
            "colorbar": {
             "outlinewidth": 0,
             "ticks": ""
            },
            "type": "choropleth"
           }
          ],
          "contour": [
           {
            "colorbar": {
             "outlinewidth": 0,
             "ticks": ""
            },
            "colorscale": [
             [
              0,
              "#0d0887"
             ],
             [
              0.1111111111111111,
              "#46039f"
             ],
             [
              0.2222222222222222,
              "#7201a8"
             ],
             [
              0.3333333333333333,
              "#9c179e"
             ],
             [
              0.4444444444444444,
              "#bd3786"
             ],
             [
              0.5555555555555556,
              "#d8576b"
             ],
             [
              0.6666666666666666,
              "#ed7953"
             ],
             [
              0.7777777777777778,
              "#fb9f3a"
             ],
             [
              0.8888888888888888,
              "#fdca26"
             ],
             [
              1,
              "#f0f921"
             ]
            ],
            "type": "contour"
           }
          ],
          "contourcarpet": [
           {
            "colorbar": {
             "outlinewidth": 0,
             "ticks": ""
            },
            "type": "contourcarpet"
           }
          ],
          "heatmap": [
           {
            "colorbar": {
             "outlinewidth": 0,
             "ticks": ""
            },
            "colorscale": [
             [
              0,
              "#0d0887"
             ],
             [
              0.1111111111111111,
              "#46039f"
             ],
             [
              0.2222222222222222,
              "#7201a8"
             ],
             [
              0.3333333333333333,
              "#9c179e"
             ],
             [
              0.4444444444444444,
              "#bd3786"
             ],
             [
              0.5555555555555556,
              "#d8576b"
             ],
             [
              0.6666666666666666,
              "#ed7953"
             ],
             [
              0.7777777777777778,
              "#fb9f3a"
             ],
             [
              0.8888888888888888,
              "#fdca26"
             ],
             [
              1,
              "#f0f921"
             ]
            ],
            "type": "heatmap"
           }
          ],
          "heatmapgl": [
           {
            "colorbar": {
             "outlinewidth": 0,
             "ticks": ""
            },
            "colorscale": [
             [
              0,
              "#0d0887"
             ],
             [
              0.1111111111111111,
              "#46039f"
             ],
             [
              0.2222222222222222,
              "#7201a8"
             ],
             [
              0.3333333333333333,
              "#9c179e"
             ],
             [
              0.4444444444444444,
              "#bd3786"
             ],
             [
              0.5555555555555556,
              "#d8576b"
             ],
             [
              0.6666666666666666,
              "#ed7953"
             ],
             [
              0.7777777777777778,
              "#fb9f3a"
             ],
             [
              0.8888888888888888,
              "#fdca26"
             ],
             [
              1,
              "#f0f921"
             ]
            ],
            "type": "heatmapgl"
           }
          ],
          "histogram": [
           {
            "marker": {
             "pattern": {
              "fillmode": "overlay",
              "size": 10,
              "solidity": 0.2
             }
            },
            "type": "histogram"
           }
          ],
          "histogram2d": [
           {
            "colorbar": {
             "outlinewidth": 0,
             "ticks": ""
            },
            "colorscale": [
             [
              0,
              "#0d0887"
             ],
             [
              0.1111111111111111,
              "#46039f"
             ],
             [
              0.2222222222222222,
              "#7201a8"
             ],
             [
              0.3333333333333333,
              "#9c179e"
             ],
             [
              0.4444444444444444,
              "#bd3786"
             ],
             [
              0.5555555555555556,
              "#d8576b"
             ],
             [
              0.6666666666666666,
              "#ed7953"
             ],
             [
              0.7777777777777778,
              "#fb9f3a"
             ],
             [
              0.8888888888888888,
              "#fdca26"
             ],
             [
              1,
              "#f0f921"
             ]
            ],
            "type": "histogram2d"
           }
          ],
          "histogram2dcontour": [
           {
            "colorbar": {
             "outlinewidth": 0,
             "ticks": ""
            },
            "colorscale": [
             [
              0,
              "#0d0887"
             ],
             [
              0.1111111111111111,
              "#46039f"
             ],
             [
              0.2222222222222222,
              "#7201a8"
             ],
             [
              0.3333333333333333,
              "#9c179e"
             ],
             [
              0.4444444444444444,
              "#bd3786"
             ],
             [
              0.5555555555555556,
              "#d8576b"
             ],
             [
              0.6666666666666666,
              "#ed7953"
             ],
             [
              0.7777777777777778,
              "#fb9f3a"
             ],
             [
              0.8888888888888888,
              "#fdca26"
             ],
             [
              1,
              "#f0f921"
             ]
            ],
            "type": "histogram2dcontour"
           }
          ],
          "mesh3d": [
           {
            "colorbar": {
             "outlinewidth": 0,
             "ticks": ""
            },
            "type": "mesh3d"
           }
          ],
          "parcoords": [
           {
            "line": {
             "colorbar": {
              "outlinewidth": 0,
              "ticks": ""
             }
            },
            "type": "parcoords"
           }
          ],
          "pie": [
           {
            "automargin": true,
            "type": "pie"
           }
          ],
          "scatter": [
           {
            "fillpattern": {
             "fillmode": "overlay",
             "size": 10,
             "solidity": 0.2
            },
            "type": "scatter"
           }
          ],
          "scatter3d": [
           {
            "line": {
             "colorbar": {
              "outlinewidth": 0,
              "ticks": ""
             }
            },
            "marker": {
             "colorbar": {
              "outlinewidth": 0,
              "ticks": ""
             }
            },
            "type": "scatter3d"
           }
          ],
          "scattercarpet": [
           {
            "marker": {
             "colorbar": {
              "outlinewidth": 0,
              "ticks": ""
             }
            },
            "type": "scattercarpet"
           }
          ],
          "scattergeo": [
           {
            "marker": {
             "colorbar": {
              "outlinewidth": 0,
              "ticks": ""
             }
            },
            "type": "scattergeo"
           }
          ],
          "scattergl": [
           {
            "marker": {
             "colorbar": {
              "outlinewidth": 0,
              "ticks": ""
             }
            },
            "type": "scattergl"
           }
          ],
          "scattermapbox": [
           {
            "marker": {
             "colorbar": {
              "outlinewidth": 0,
              "ticks": ""
             }
            },
            "type": "scattermapbox"
           }
          ],
          "scatterpolar": [
           {
            "marker": {
             "colorbar": {
              "outlinewidth": 0,
              "ticks": ""
             }
            },
            "type": "scatterpolar"
           }
          ],
          "scatterpolargl": [
           {
            "marker": {
             "colorbar": {
              "outlinewidth": 0,
              "ticks": ""
             }
            },
            "type": "scatterpolargl"
           }
          ],
          "scatterternary": [
           {
            "marker": {
             "colorbar": {
              "outlinewidth": 0,
              "ticks": ""
             }
            },
            "type": "scatterternary"
           }
          ],
          "surface": [
           {
            "colorbar": {
             "outlinewidth": 0,
             "ticks": ""
            },
            "colorscale": [
             [
              0,
              "#0d0887"
             ],
             [
              0.1111111111111111,
              "#46039f"
             ],
             [
              0.2222222222222222,
              "#7201a8"
             ],
             [
              0.3333333333333333,
              "#9c179e"
             ],
             [
              0.4444444444444444,
              "#bd3786"
             ],
             [
              0.5555555555555556,
              "#d8576b"
             ],
             [
              0.6666666666666666,
              "#ed7953"
             ],
             [
              0.7777777777777778,
              "#fb9f3a"
             ],
             [
              0.8888888888888888,
              "#fdca26"
             ],
             [
              1,
              "#f0f921"
             ]
            ],
            "type": "surface"
           }
          ],
          "table": [
           {
            "cells": {
             "fill": {
              "color": "#EBF0F8"
             },
             "line": {
              "color": "white"
             }
            },
            "header": {
             "fill": {
              "color": "#C8D4E3"
             },
             "line": {
              "color": "white"
             }
            },
            "type": "table"
           }
          ]
         },
         "layout": {
          "annotationdefaults": {
           "arrowcolor": "#2a3f5f",
           "arrowhead": 0,
           "arrowwidth": 1
          },
          "autotypenumbers": "strict",
          "coloraxis": {
           "colorbar": {
            "outlinewidth": 0,
            "ticks": ""
           }
          },
          "colorscale": {
           "diverging": [
            [
             0,
             "#8e0152"
            ],
            [
             0.1,
             "#c51b7d"
            ],
            [
             0.2,
             "#de77ae"
            ],
            [
             0.3,
             "#f1b6da"
            ],
            [
             0.4,
             "#fde0ef"
            ],
            [
             0.5,
             "#f7f7f7"
            ],
            [
             0.6,
             "#e6f5d0"
            ],
            [
             0.7,
             "#b8e186"
            ],
            [
             0.8,
             "#7fbc41"
            ],
            [
             0.9,
             "#4d9221"
            ],
            [
             1,
             "#276419"
            ]
           ],
           "sequential": [
            [
             0,
             "#0d0887"
            ],
            [
             0.1111111111111111,
             "#46039f"
            ],
            [
             0.2222222222222222,
             "#7201a8"
            ],
            [
             0.3333333333333333,
             "#9c179e"
            ],
            [
             0.4444444444444444,
             "#bd3786"
            ],
            [
             0.5555555555555556,
             "#d8576b"
            ],
            [
             0.6666666666666666,
             "#ed7953"
            ],
            [
             0.7777777777777778,
             "#fb9f3a"
            ],
            [
             0.8888888888888888,
             "#fdca26"
            ],
            [
             1,
             "#f0f921"
            ]
           ],
           "sequentialminus": [
            [
             0,
             "#0d0887"
            ],
            [
             0.1111111111111111,
             "#46039f"
            ],
            [
             0.2222222222222222,
             "#7201a8"
            ],
            [
             0.3333333333333333,
             "#9c179e"
            ],
            [
             0.4444444444444444,
             "#bd3786"
            ],
            [
             0.5555555555555556,
             "#d8576b"
            ],
            [
             0.6666666666666666,
             "#ed7953"
            ],
            [
             0.7777777777777778,
             "#fb9f3a"
            ],
            [
             0.8888888888888888,
             "#fdca26"
            ],
            [
             1,
             "#f0f921"
            ]
           ]
          },
          "colorway": [
           "#636efa",
           "#EF553B",
           "#00cc96",
           "#ab63fa",
           "#FFA15A",
           "#19d3f3",
           "#FF6692",
           "#B6E880",
           "#FF97FF",
           "#FECB52"
          ],
          "font": {
           "color": "#2a3f5f"
          },
          "geo": {
           "bgcolor": "white",
           "lakecolor": "white",
           "landcolor": "#E5ECF6",
           "showlakes": true,
           "showland": true,
           "subunitcolor": "white"
          },
          "hoverlabel": {
           "align": "left"
          },
          "hovermode": "closest",
          "mapbox": {
           "style": "light"
          },
          "paper_bgcolor": "white",
          "plot_bgcolor": "#E5ECF6",
          "polar": {
           "angularaxis": {
            "gridcolor": "white",
            "linecolor": "white",
            "ticks": ""
           },
           "bgcolor": "#E5ECF6",
           "radialaxis": {
            "gridcolor": "white",
            "linecolor": "white",
            "ticks": ""
           }
          },
          "scene": {
           "xaxis": {
            "backgroundcolor": "#E5ECF6",
            "gridcolor": "white",
            "gridwidth": 2,
            "linecolor": "white",
            "showbackground": true,
            "ticks": "",
            "zerolinecolor": "white"
           },
           "yaxis": {
            "backgroundcolor": "#E5ECF6",
            "gridcolor": "white",
            "gridwidth": 2,
            "linecolor": "white",
            "showbackground": true,
            "ticks": "",
            "zerolinecolor": "white"
           },
           "zaxis": {
            "backgroundcolor": "#E5ECF6",
            "gridcolor": "white",
            "gridwidth": 2,
            "linecolor": "white",
            "showbackground": true,
            "ticks": "",
            "zerolinecolor": "white"
           }
          },
          "shapedefaults": {
           "line": {
            "color": "#2a3f5f"
           }
          },
          "ternary": {
           "aaxis": {
            "gridcolor": "white",
            "linecolor": "white",
            "ticks": ""
           },
           "baxis": {
            "gridcolor": "white",
            "linecolor": "white",
            "ticks": ""
           },
           "bgcolor": "#E5ECF6",
           "caxis": {
            "gridcolor": "white",
            "linecolor": "white",
            "ticks": ""
           }
          },
          "title": {
           "x": 0.05
          },
          "xaxis": {
           "automargin": true,
           "gridcolor": "white",
           "linecolor": "white",
           "ticks": "",
           "title": {
            "standoff": 15
           },
           "zerolinecolor": "white",
           "zerolinewidth": 2
          },
          "yaxis": {
           "automargin": true,
           "gridcolor": "white",
           "linecolor": "white",
           "ticks": "",
           "title": {
            "standoff": 15
           },
           "zerolinecolor": "white",
           "zerolinewidth": 2
          }
         }
        },
        "title": {
         "text": "Distribution of Capacity [Ah]"
        },
        "width": 800,
        "xaxis": {
         "title": {
          "text": "Capacity [Ah]"
         }
        },
        "yaxis": {
         "title": {
          "text": "Count"
         }
        }
       }
      }
     },
     "metadata": {},
     "output_type": "display_data"
    }
   ],
   "source": [
    "fig = mc.plot_capacity_histogram(var_kpis, bins=15)\n",
    "fig.show()"
   ]
  },
  {
   "cell_type": "markdown",
   "id": "571378bd",
   "metadata": {},
   "source": [
    "We'll now run a DCIR schedule on all of the cell samples.  We will run a DCIR schedule with a C rate of 4.5 at 70% SoC"
   ]
  },
  {
   "cell_type": "code",
   "execution_count": 8,
   "id": "3f824d21",
   "metadata": {},
   "outputs": [
    {
     "name": "stderr",
     "output_type": "stream",
     "text": [
      "Running...:   0%|          | 0/200 [00:00<?, ? designs/s]"
     ]
    },
    {
     "name": "stderr",
     "output_type": "stream",
     "text": [
      "Running...: 100%|██████████| 200/200 [04:00<00:00,  1.20s/ designs]\n"
     ]
    }
   ],
   "source": [
    "# define the cycler schedule\n",
    "cycler = bd.Cycler(\"C\", 4.5)\n",
    "\n",
    "# and submit the simulations\n",
    "results = api.run_sim(\n",
    "    base_battery=base_battery,\n",
    "    cycler=cycler.dcir(-1, 30, 5, 5, 2.5, 4.2),\n",
    "    designs=changes,\n",
    "    initialSoC=0.7,\n",
    "    initialTemperature_degC=25,\n",
    "    ambientTemperature_degC=25,\n",
    ")"
   ]
  },
  {
   "cell_type": "markdown",
   "id": "8dc4c8a5",
   "metadata": {},
   "source": [
    "We now extract the DCIR results from the dynamic simulations."
   ]
  },
  {
   "cell_type": "code",
   "execution_count": 9,
   "id": "4e373648",
   "metadata": {},
   "outputs": [],
   "source": [
    "dcir = bd.extract_dynamic_kpis(\"DCIR\", results.get_dynamic_data())"
   ]
  },
  {
   "cell_type": "markdown",
   "id": "eb9ec578",
   "metadata": {},
   "source": [
    "...and plot them"
   ]
  },
  {
   "cell_type": "code",
   "execution_count": 10,
   "id": "493c6791",
   "metadata": {},
   "outputs": [
    {
     "data": {
      "application/vnd.plotly.v1+json": {
       "config": {
        "plotlyServerURL": "https://plot.ly"
       },
       "data": [
        {
         "marker": {
          "color": "#9bda9e"
         },
         "nbinsx": 15,
         "opacity": 0.75,
         "type": "histogram",
         "x": [
          0.01731994660206158,
          0.018234252896192935,
          0.017398046465860725,
          0.01712873714933532,
          0.01752650868579668,
          0.016746255528257384,
          0.017867397738729564,
          0.016600128848212617,
          0.016145072897405868,
          0.01690123815416037,
          0.01764132554208668,
          0.01788436539908854,
          0.016922220490068182,
          0.01714567057166781,
          0.017917909672535964,
          0.015546941346979155,
          0.017849794609705396,
          0.016445024249015856,
          0.017314119167229948,
          0.016760042319640487,
          0.016527530974273896,
          0.017398069895823286,
          0.018234098704639493,
          0.0183799176336253,
          0.01711412289538457,
          0.017244932004957414,
          0.01806189194498011,
          0.01720178823084888,
          0.017257584017889693,
          0.01732611728179262,
          0.016902793089969084,
          0.017474692348905918,
          0.017232954775567612,
          0.01832688021962186,
          0.017493322333116564,
          0.01589969416789529,
          0.01581823989686071,
          0.01714828790777598,
          0.01815688632879495,
          0.017965152090783608,
          0.015650873003613005,
          0.016296160789972564,
          0.016934297576720148,
          0.017334500230102717,
          0.015139214966179353,
          0.018265903232654316,
          0.017099593297997814,
          0.016192722690254523,
          0.014256460601973314,
          0.017478075708947848,
          0.01770122382513284,
          0.017866605753058915,
          0.016437343871421685,
          0.018317941140552536,
          0.018492727194999795,
          0.014989836886353266,
          0.014230652842320096,
          0.017543277179728277,
          0.018310471924630322,
          0.017083440129605793,
          0.01448256551472692,
          0.01712087211734212,
          0.015477105196003652,
          0.017766105495395708,
          0.015420006567836934,
          0.016202558224279053,
          0.016394384767087513,
          0.017104043483243368,
          0.018599035388117177,
          0.015612506642808093,
          0.017545306400883587,
          0.017797027178667917,
          0.01743345447711494,
          0.01685947105673539,
          0.018476075296854206,
          0.016674662893085983,
          0.015143846992706505,
          0.018205837096983826,
          0.016347226744949064,
          0.01890554960254501,
          0.016577467100148586,
          0.014943328742221729,
          0.017936037546374968,
          0.016960937498745644,
          0.016396179024869475,
          0.018237779519904747,
          0.017113060847870076,
          0.017558540399111883,
          0.018038034474736064,
          0.018097658413143213,
          0.017531375326529684,
          0.01638754187848639,
          0.014712329141644595,
          0.017610831133598435,
          0.015454788151988948,
          0.01614932396335932,
          0.018175761164813575,
          0.016823635545709197,
          0.017511760755179167,
          0.017634431444480285,
          0.014454089675025244,
          0.018398208135895384,
          0.016786170895776602,
          0.018088176394795267,
          0.017694630322719722,
          0.01813974026776754,
          0.017765436366742077,
          0.01854256669867101,
          0.017280649768868225,
          0.014401556682651494,
          0.01677837264670587,
          0.017439194983892122,
          0.017004406738981435,
          0.016629962949151582,
          0.017696742290381047,
          0.016590724139105194,
          0.016713361005887658,
          0.015258067350514515,
          0.014668602156326233,
          0.017146189513912603,
          0.01507035934359274,
          0.014872915971416005,
          0.018292367920320452,
          0.015270721533920137,
          0.017546073114563347,
          0.015239255981083106,
          0.018083587590304165,
          0.017387925805047742,
          0.016411654908638187,
          0.017595268845291258,
          0.01700021019140692,
          0.018232723598417523,
          0.01834012119500386,
          0.01662581541328595,
          0.01757334411496545,
          0.01816990280284147,
          0.017012702762405497,
          0.017275008597314945,
          0.016381032096248437,
          0.016554306844613967,
          0.01703766051033127,
          0.018956309190280858,
          0.01778750596495972,
          0.0160796492263941,
          0.01502958712588876,
          0.01735672671403714,
          0.014950283914153427,
          0.017449065648121126,
          0.014724843986524579,
          0.017816691896525343,
          0.014355439779238465,
          0.014890544154960614,
          0.017503894410626945,
          0.017008464135216884,
          0.017794546847615292,
          0.01797587637798186,
          0.018463379350968125,
          0.017431446484803458,
          0.018033039420584054,
          0.017167871072892124,
          0.0173734037903542,
          0.01685528167986299,
          0.018000209969291026,
          0.01692225795252525,
          0.017683032630177432,
          0.018289705370696303,
          0.017912812164175507,
          0.014757444039489137,
          0.017210774567107123,
          0.017996003826835597,
          0.01814277764934524,
          0.017326451785452196,
          0.01688143745506025,
          0.01702937874802341,
          0.015693528329482214,
          0.0184421628651949,
          0.01641886035666404,
          0.016792363659926268,
          0.01725830883077366,
          0.016241750705310535,
          0.016210178738119134,
          0.017303699831923047,
          0.014528784784680652,
          0.016880006192573804,
          0.016308987007772478,
          0.015723321920308193,
          0.01638533385951289,
          0.015396556326150201,
          0.017306535855214876,
          0.018370479930924756,
          0.01802383732790694,
          0.015441251692698912,
          0.017053135858247064,
          0.01745309854455925,
          0.016400319031440062,
          0.017474070895609862,
          0.017220855279840595,
          0.017194370486680467,
          0.01547493802711802,
          0.015261741627921752
         ]
        }
       ],
       "layout": {
        "bargap": 0.05,
        "height": 600,
        "paper_bgcolor": "rgba(240,240,240,1)",
        "plot_bgcolor": "rgba(240,240,240,1)",
        "template": {
         "data": {
          "bar": [
           {
            "error_x": {
             "color": "#2a3f5f"
            },
            "error_y": {
             "color": "#2a3f5f"
            },
            "marker": {
             "line": {
              "color": "#E5ECF6",
              "width": 0.5
             },
             "pattern": {
              "fillmode": "overlay",
              "size": 10,
              "solidity": 0.2
             }
            },
            "type": "bar"
           }
          ],
          "barpolar": [
           {
            "marker": {
             "line": {
              "color": "#E5ECF6",
              "width": 0.5
             },
             "pattern": {
              "fillmode": "overlay",
              "size": 10,
              "solidity": 0.2
             }
            },
            "type": "barpolar"
           }
          ],
          "carpet": [
           {
            "aaxis": {
             "endlinecolor": "#2a3f5f",
             "gridcolor": "white",
             "linecolor": "white",
             "minorgridcolor": "white",
             "startlinecolor": "#2a3f5f"
            },
            "baxis": {
             "endlinecolor": "#2a3f5f",
             "gridcolor": "white",
             "linecolor": "white",
             "minorgridcolor": "white",
             "startlinecolor": "#2a3f5f"
            },
            "type": "carpet"
           }
          ],
          "choropleth": [
           {
            "colorbar": {
             "outlinewidth": 0,
             "ticks": ""
            },
            "type": "choropleth"
           }
          ],
          "contour": [
           {
            "colorbar": {
             "outlinewidth": 0,
             "ticks": ""
            },
            "colorscale": [
             [
              0,
              "#0d0887"
             ],
             [
              0.1111111111111111,
              "#46039f"
             ],
             [
              0.2222222222222222,
              "#7201a8"
             ],
             [
              0.3333333333333333,
              "#9c179e"
             ],
             [
              0.4444444444444444,
              "#bd3786"
             ],
             [
              0.5555555555555556,
              "#d8576b"
             ],
             [
              0.6666666666666666,
              "#ed7953"
             ],
             [
              0.7777777777777778,
              "#fb9f3a"
             ],
             [
              0.8888888888888888,
              "#fdca26"
             ],
             [
              1,
              "#f0f921"
             ]
            ],
            "type": "contour"
           }
          ],
          "contourcarpet": [
           {
            "colorbar": {
             "outlinewidth": 0,
             "ticks": ""
            },
            "type": "contourcarpet"
           }
          ],
          "heatmap": [
           {
            "colorbar": {
             "outlinewidth": 0,
             "ticks": ""
            },
            "colorscale": [
             [
              0,
              "#0d0887"
             ],
             [
              0.1111111111111111,
              "#46039f"
             ],
             [
              0.2222222222222222,
              "#7201a8"
             ],
             [
              0.3333333333333333,
              "#9c179e"
             ],
             [
              0.4444444444444444,
              "#bd3786"
             ],
             [
              0.5555555555555556,
              "#d8576b"
             ],
             [
              0.6666666666666666,
              "#ed7953"
             ],
             [
              0.7777777777777778,
              "#fb9f3a"
             ],
             [
              0.8888888888888888,
              "#fdca26"
             ],
             [
              1,
              "#f0f921"
             ]
            ],
            "type": "heatmap"
           }
          ],
          "heatmapgl": [
           {
            "colorbar": {
             "outlinewidth": 0,
             "ticks": ""
            },
            "colorscale": [
             [
              0,
              "#0d0887"
             ],
             [
              0.1111111111111111,
              "#46039f"
             ],
             [
              0.2222222222222222,
              "#7201a8"
             ],
             [
              0.3333333333333333,
              "#9c179e"
             ],
             [
              0.4444444444444444,
              "#bd3786"
             ],
             [
              0.5555555555555556,
              "#d8576b"
             ],
             [
              0.6666666666666666,
              "#ed7953"
             ],
             [
              0.7777777777777778,
              "#fb9f3a"
             ],
             [
              0.8888888888888888,
              "#fdca26"
             ],
             [
              1,
              "#f0f921"
             ]
            ],
            "type": "heatmapgl"
           }
          ],
          "histogram": [
           {
            "marker": {
             "pattern": {
              "fillmode": "overlay",
              "size": 10,
              "solidity": 0.2
             }
            },
            "type": "histogram"
           }
          ],
          "histogram2d": [
           {
            "colorbar": {
             "outlinewidth": 0,
             "ticks": ""
            },
            "colorscale": [
             [
              0,
              "#0d0887"
             ],
             [
              0.1111111111111111,
              "#46039f"
             ],
             [
              0.2222222222222222,
              "#7201a8"
             ],
             [
              0.3333333333333333,
              "#9c179e"
             ],
             [
              0.4444444444444444,
              "#bd3786"
             ],
             [
              0.5555555555555556,
              "#d8576b"
             ],
             [
              0.6666666666666666,
              "#ed7953"
             ],
             [
              0.7777777777777778,
              "#fb9f3a"
             ],
             [
              0.8888888888888888,
              "#fdca26"
             ],
             [
              1,
              "#f0f921"
             ]
            ],
            "type": "histogram2d"
           }
          ],
          "histogram2dcontour": [
           {
            "colorbar": {
             "outlinewidth": 0,
             "ticks": ""
            },
            "colorscale": [
             [
              0,
              "#0d0887"
             ],
             [
              0.1111111111111111,
              "#46039f"
             ],
             [
              0.2222222222222222,
              "#7201a8"
             ],
             [
              0.3333333333333333,
              "#9c179e"
             ],
             [
              0.4444444444444444,
              "#bd3786"
             ],
             [
              0.5555555555555556,
              "#d8576b"
             ],
             [
              0.6666666666666666,
              "#ed7953"
             ],
             [
              0.7777777777777778,
              "#fb9f3a"
             ],
             [
              0.8888888888888888,
              "#fdca26"
             ],
             [
              1,
              "#f0f921"
             ]
            ],
            "type": "histogram2dcontour"
           }
          ],
          "mesh3d": [
           {
            "colorbar": {
             "outlinewidth": 0,
             "ticks": ""
            },
            "type": "mesh3d"
           }
          ],
          "parcoords": [
           {
            "line": {
             "colorbar": {
              "outlinewidth": 0,
              "ticks": ""
             }
            },
            "type": "parcoords"
           }
          ],
          "pie": [
           {
            "automargin": true,
            "type": "pie"
           }
          ],
          "scatter": [
           {
            "fillpattern": {
             "fillmode": "overlay",
             "size": 10,
             "solidity": 0.2
            },
            "type": "scatter"
           }
          ],
          "scatter3d": [
           {
            "line": {
             "colorbar": {
              "outlinewidth": 0,
              "ticks": ""
             }
            },
            "marker": {
             "colorbar": {
              "outlinewidth": 0,
              "ticks": ""
             }
            },
            "type": "scatter3d"
           }
          ],
          "scattercarpet": [
           {
            "marker": {
             "colorbar": {
              "outlinewidth": 0,
              "ticks": ""
             }
            },
            "type": "scattercarpet"
           }
          ],
          "scattergeo": [
           {
            "marker": {
             "colorbar": {
              "outlinewidth": 0,
              "ticks": ""
             }
            },
            "type": "scattergeo"
           }
          ],
          "scattergl": [
           {
            "marker": {
             "colorbar": {
              "outlinewidth": 0,
              "ticks": ""
             }
            },
            "type": "scattergl"
           }
          ],
          "scattermapbox": [
           {
            "marker": {
             "colorbar": {
              "outlinewidth": 0,
              "ticks": ""
             }
            },
            "type": "scattermapbox"
           }
          ],
          "scatterpolar": [
           {
            "marker": {
             "colorbar": {
              "outlinewidth": 0,
              "ticks": ""
             }
            },
            "type": "scatterpolar"
           }
          ],
          "scatterpolargl": [
           {
            "marker": {
             "colorbar": {
              "outlinewidth": 0,
              "ticks": ""
             }
            },
            "type": "scatterpolargl"
           }
          ],
          "scatterternary": [
           {
            "marker": {
             "colorbar": {
              "outlinewidth": 0,
              "ticks": ""
             }
            },
            "type": "scatterternary"
           }
          ],
          "surface": [
           {
            "colorbar": {
             "outlinewidth": 0,
             "ticks": ""
            },
            "colorscale": [
             [
              0,
              "#0d0887"
             ],
             [
              0.1111111111111111,
              "#46039f"
             ],
             [
              0.2222222222222222,
              "#7201a8"
             ],
             [
              0.3333333333333333,
              "#9c179e"
             ],
             [
              0.4444444444444444,
              "#bd3786"
             ],
             [
              0.5555555555555556,
              "#d8576b"
             ],
             [
              0.6666666666666666,
              "#ed7953"
             ],
             [
              0.7777777777777778,
              "#fb9f3a"
             ],
             [
              0.8888888888888888,
              "#fdca26"
             ],
             [
              1,
              "#f0f921"
             ]
            ],
            "type": "surface"
           }
          ],
          "table": [
           {
            "cells": {
             "fill": {
              "color": "#EBF0F8"
             },
             "line": {
              "color": "white"
             }
            },
            "header": {
             "fill": {
              "color": "#C8D4E3"
             },
             "line": {
              "color": "white"
             }
            },
            "type": "table"
           }
          ]
         },
         "layout": {
          "annotationdefaults": {
           "arrowcolor": "#2a3f5f",
           "arrowhead": 0,
           "arrowwidth": 1
          },
          "autotypenumbers": "strict",
          "coloraxis": {
           "colorbar": {
            "outlinewidth": 0,
            "ticks": ""
           }
          },
          "colorscale": {
           "diverging": [
            [
             0,
             "#8e0152"
            ],
            [
             0.1,
             "#c51b7d"
            ],
            [
             0.2,
             "#de77ae"
            ],
            [
             0.3,
             "#f1b6da"
            ],
            [
             0.4,
             "#fde0ef"
            ],
            [
             0.5,
             "#f7f7f7"
            ],
            [
             0.6,
             "#e6f5d0"
            ],
            [
             0.7,
             "#b8e186"
            ],
            [
             0.8,
             "#7fbc41"
            ],
            [
             0.9,
             "#4d9221"
            ],
            [
             1,
             "#276419"
            ]
           ],
           "sequential": [
            [
             0,
             "#0d0887"
            ],
            [
             0.1111111111111111,
             "#46039f"
            ],
            [
             0.2222222222222222,
             "#7201a8"
            ],
            [
             0.3333333333333333,
             "#9c179e"
            ],
            [
             0.4444444444444444,
             "#bd3786"
            ],
            [
             0.5555555555555556,
             "#d8576b"
            ],
            [
             0.6666666666666666,
             "#ed7953"
            ],
            [
             0.7777777777777778,
             "#fb9f3a"
            ],
            [
             0.8888888888888888,
             "#fdca26"
            ],
            [
             1,
             "#f0f921"
            ]
           ],
           "sequentialminus": [
            [
             0,
             "#0d0887"
            ],
            [
             0.1111111111111111,
             "#46039f"
            ],
            [
             0.2222222222222222,
             "#7201a8"
            ],
            [
             0.3333333333333333,
             "#9c179e"
            ],
            [
             0.4444444444444444,
             "#bd3786"
            ],
            [
             0.5555555555555556,
             "#d8576b"
            ],
            [
             0.6666666666666666,
             "#ed7953"
            ],
            [
             0.7777777777777778,
             "#fb9f3a"
            ],
            [
             0.8888888888888888,
             "#fdca26"
            ],
            [
             1,
             "#f0f921"
            ]
           ]
          },
          "colorway": [
           "#636efa",
           "#EF553B",
           "#00cc96",
           "#ab63fa",
           "#FFA15A",
           "#19d3f3",
           "#FF6692",
           "#B6E880",
           "#FF97FF",
           "#FECB52"
          ],
          "font": {
           "color": "#2a3f5f"
          },
          "geo": {
           "bgcolor": "white",
           "lakecolor": "white",
           "landcolor": "#E5ECF6",
           "showlakes": true,
           "showland": true,
           "subunitcolor": "white"
          },
          "hoverlabel": {
           "align": "left"
          },
          "hovermode": "closest",
          "mapbox": {
           "style": "light"
          },
          "paper_bgcolor": "white",
          "plot_bgcolor": "#E5ECF6",
          "polar": {
           "angularaxis": {
            "gridcolor": "white",
            "linecolor": "white",
            "ticks": ""
           },
           "bgcolor": "#E5ECF6",
           "radialaxis": {
            "gridcolor": "white",
            "linecolor": "white",
            "ticks": ""
           }
          },
          "scene": {
           "xaxis": {
            "backgroundcolor": "#E5ECF6",
            "gridcolor": "white",
            "gridwidth": 2,
            "linecolor": "white",
            "showbackground": true,
            "ticks": "",
            "zerolinecolor": "white"
           },
           "yaxis": {
            "backgroundcolor": "#E5ECF6",
            "gridcolor": "white",
            "gridwidth": 2,
            "linecolor": "white",
            "showbackground": true,
            "ticks": "",
            "zerolinecolor": "white"
           },
           "zaxis": {
            "backgroundcolor": "#E5ECF6",
            "gridcolor": "white",
            "gridwidth": 2,
            "linecolor": "white",
            "showbackground": true,
            "ticks": "",
            "zerolinecolor": "white"
           }
          },
          "shapedefaults": {
           "line": {
            "color": "#2a3f5f"
           }
          },
          "ternary": {
           "aaxis": {
            "gridcolor": "white",
            "linecolor": "white",
            "ticks": ""
           },
           "baxis": {
            "gridcolor": "white",
            "linecolor": "white",
            "ticks": ""
           },
           "bgcolor": "#E5ECF6",
           "caxis": {
            "gridcolor": "white",
            "linecolor": "white",
            "ticks": ""
           }
          },
          "title": {
           "x": 0.05
          },
          "xaxis": {
           "automargin": true,
           "gridcolor": "white",
           "linecolor": "white",
           "ticks": "",
           "title": {
            "standoff": 15
           },
           "zerolinecolor": "white",
           "zerolinewidth": 2
          },
          "yaxis": {
           "automargin": true,
           "gridcolor": "white",
           "linecolor": "white",
           "ticks": "",
           "title": {
            "standoff": 15
           },
           "zerolinecolor": "white",
           "zerolinewidth": 2
          }
         }
        },
        "title": {
         "text": "Distribution of DCIR"
        },
        "width": 800,
        "xaxis": {
         "title": {
          "text": "Resistance (Ω)"
         }
        },
        "yaxis": {
         "title": {
          "text": "Count"
         }
        }
       }
      }
     },
     "metadata": {},
     "output_type": "display_data"
    }
   ],
   "source": [
    "fig_dcir = mc.plot_dcir_histogram(dcir, bins=15, include_baseline=False)\n",
    "fig_dcir.show()"
   ]
  },
  {
   "cell_type": "markdown",
   "id": "2debf373",
   "metadata": {},
   "source": [
    "We can also plot both the capacity and resistance on a heatmap"
   ]
  },
  {
   "cell_type": "code",
   "execution_count": 11,
   "id": "b21e9aa1",
   "metadata": {},
   "outputs": [
    {
     "data": {
      "application/vnd.plotly.v1+json": {
       "config": {
        "plotlyServerURL": "https://plot.ly"
       },
       "data": [
        {
         "hovertemplate": "%{text}<extra></extra>",
         "marker": {
          "color": "#00c34e",
          "line": {
           "color": "rgba(0,0,0,0.25)",
           "width": 0.5
          },
          "showscale": false,
          "size": 8
         },
         "mode": "markers",
         "text": [
          "Design: MC Variation sample #1<br>NPratio: 1.039106051327928<br>Vmin_V: 2.5<br>Vmax_V: 4.2<br>cathodePorosity: 0.1413<br>anodePorosity: 0.1658<br>cathodeThickness_um: 38.79897<br>anodeThickness_um: 48.62783<br>copperThickness_um: 11.2<br>aluminumThickness_um: 22.2<br>separatorThickness_um: 16.8<br>electrolyteBuffer_rel: 0.2<br>lampe: 0<br>lamne: 0<br>lli: 0",
          "Design: MC Variation sample #2<br>NPratio: 1.039106051327928<br>Vmin_V: 2.5<br>Vmax_V: 4.2<br>cathodePorosity: 0.13471<br>anodePorosity: 0.16589<br>cathodeThickness_um: 36.9823<br>anodeThickness_um: 49.71252<br>copperThickness_um: 11.2<br>aluminumThickness_um: 22.2<br>separatorThickness_um: 16.8<br>electrolyteBuffer_rel: 0.2<br>lampe: 0<br>lamne: 0<br>lli: 0",
          "Design: MC Variation sample #3<br>NPratio: 1.039106051327928<br>Vmin_V: 2.5<br>Vmax_V: 4.2<br>cathodePorosity: 0.14274<br>anodePorosity: 0.16537<br>cathodeThickness_um: 39.66404<br>anodeThickness_um: 49.46797<br>copperThickness_um: 11.2<br>aluminumThickness_um: 22.2<br>separatorThickness_um: 16.8<br>electrolyteBuffer_rel: 0.2<br>lampe: 0<br>lamne: 0<br>lli: 0",
          "Design: MC Variation sample #4<br>NPratio: 1.039106051327928<br>Vmin_V: 2.5<br>Vmax_V: 4.2<br>cathodePorosity: 0.14271<br>anodePorosity: 0.17047<br>cathodeThickness_um: 35.58169<br>anodeThickness_um: 47.0948<br>copperThickness_um: 11.2<br>aluminumThickness_um: 22.2<br>separatorThickness_um: 16.8<br>electrolyteBuffer_rel: 0.2<br>lampe: 0<br>lamne: 0<br>lli: 0",
          "Design: MC Variation sample #5<br>NPratio: 1.039106051327928<br>Vmin_V: 2.5<br>Vmax_V: 4.2<br>cathodePorosity: 0.14868<br>anodePorosity: 0.16807<br>cathodeThickness_um: 37.28407<br>anodeThickness_um: 49.00185<br>copperThickness_um: 11.2<br>aluminumThickness_um: 22.2<br>separatorThickness_um: 16.8<br>electrolyteBuffer_rel: 0.2<br>lampe: 0<br>lamne: 0<br>lli: 0",
          "Design: MC Variation sample #6<br>NPratio: 1.039106051327928<br>Vmin_V: 2.5<br>Vmax_V: 4.2<br>cathodePorosity: 0.13493<br>anodePorosity: 0.16974<br>cathodeThickness_um: 38.40235<br>anodeThickness_um: 48.13648<br>copperThickness_um: 11.2<br>aluminumThickness_um: 22.2<br>separatorThickness_um: 16.8<br>electrolyteBuffer_rel: 0.2<br>lampe: 0<br>lamne: 0<br>lli: 0",
          "Design: MC Variation sample #7<br>NPratio: 1.039106051327928<br>Vmin_V: 2.5<br>Vmax_V: 4.2<br>cathodePorosity: 0.14096<br>anodePorosity: 0.17173<br>cathodeThickness_um: 37.94853<br>anodeThickness_um: 49.82079<br>copperThickness_um: 11.2<br>aluminumThickness_um: 22.2<br>separatorThickness_um: 16.8<br>electrolyteBuffer_rel: 0.2<br>lampe: 0<br>lamne: 0<br>lli: 0",
          "Design: MC Variation sample #8<br>NPratio: 1.039106051327928<br>Vmin_V: 2.5<br>Vmax_V: 4.2<br>cathodePorosity: 0.13662<br>anodePorosity: 0.1712<br>cathodeThickness_um: 34.64487<br>anodeThickness_um: 50.28937<br>copperThickness_um: 11.2<br>aluminumThickness_um: 22.2<br>separatorThickness_um: 16.8<br>electrolyteBuffer_rel: 0.2<br>lampe: 0<br>lamne: 0<br>lli: 0",
          "Design: MC Variation sample #9<br>NPratio: 1.039106051327928<br>Vmin_V: 2.5<br>Vmax_V: 4.2<br>cathodePorosity: 0.13914<br>anodePorosity: 0.15136<br>cathodeThickness_um: 39.12513<br>anodeThickness_um: 46.66084<br>copperThickness_um: 11.2<br>aluminumThickness_um: 22.2<br>separatorThickness_um: 16.8<br>electrolyteBuffer_rel: 0.2<br>lampe: 0<br>lamne: 0<br>lli: 0",
          "Design: MC Variation sample #10<br>NPratio: 1.039106051327928<br>Vmin_V: 2.5<br>Vmax_V: 4.2<br>cathodePorosity: 0.1361<br>anodePorosity: 0.17051<br>cathodeThickness_um: 35.60504<br>anodeThickness_um: 50.9718<br>copperThickness_um: 11.2<br>aluminumThickness_um: 22.2<br>separatorThickness_um: 16.8<br>electrolyteBuffer_rel: 0.2<br>lampe: 0<br>lamne: 0<br>lli: 0",
          "Design: MC Variation sample #11<br>NPratio: 1.039106051327928<br>Vmin_V: 2.5<br>Vmax_V: 4.2<br>cathodePorosity: 0.1407<br>anodePorosity: 0.16613<br>cathodeThickness_um: 39.01759<br>anodeThickness_um: 49.17976<br>copperThickness_um: 11.2<br>aluminumThickness_um: 22.2<br>separatorThickness_um: 16.8<br>electrolyteBuffer_rel: 0.2<br>lampe: 0<br>lamne: 0<br>lli: 0",
          "Design: MC Variation sample #12<br>NPratio: 1.039106051327928<br>Vmin_V: 2.5<br>Vmax_V: 4.2<br>cathodePorosity: 0.1439<br>anodePorosity: 0.17036<br>cathodeThickness_um: 38.38011<br>anodeThickness_um: 50.48912<br>copperThickness_um: 11.2<br>aluminumThickness_um: 22.2<br>separatorThickness_um: 16.8<br>electrolyteBuffer_rel: 0.2<br>lampe: 0<br>lamne: 0<br>lli: 0",
          "Design: MC Variation sample #13<br>NPratio: 1.039106051327928<br>Vmin_V: 2.5<br>Vmax_V: 4.2<br>cathodePorosity: 0.13859<br>anodePorosity: 0.16298<br>cathodeThickness_um: 38.41915<br>anodeThickness_um: 47.75093<br>copperThickness_um: 11.2<br>aluminumThickness_um: 22.2<br>separatorThickness_um: 16.8<br>electrolyteBuffer_rel: 0.2<br>lampe: 0<br>lamne: 0<br>lli: 0",
          "Design: MC Variation sample #14<br>NPratio: 1.039106051327928<br>Vmin_V: 2.5<br>Vmax_V: 4.2<br>cathodePorosity: 0.15378<br>anodePorosity: 0.16518<br>cathodeThickness_um: 35.42386<br>anodeThickness_um: 46.89683<br>copperThickness_um: 11.2<br>aluminumThickness_um: 22.2<br>separatorThickness_um: 16.8<br>electrolyteBuffer_rel: 0.2<br>lampe: 0<br>lamne: 0<br>lli: 0",
          "Design: MC Variation sample #15<br>NPratio: 1.039106051327928<br>Vmin_V: 2.5<br>Vmax_V: 4.2<br>cathodePorosity: 0.14924<br>anodePorosity: 0.17112<br>cathodeThickness_um: 39.04979<br>anodeThickness_um: 50.13642<br>copperThickness_um: 11.2<br>aluminumThickness_um: 22.2<br>separatorThickness_um: 16.8<br>electrolyteBuffer_rel: 0.2<br>lampe: 0<br>lamne: 0<br>lli: 0",
          "Design: MC Variation sample #16<br>NPratio: 1.039106051327928<br>Vmin_V: 2.5<br>Vmax_V: 4.2<br>cathodePorosity: 0.14169<br>anodePorosity: 0.17496<br>cathodeThickness_um: 36.48613<br>anodeThickness_um: 45.42087<br>copperThickness_um: 11.2<br>aluminumThickness_um: 22.2<br>separatorThickness_um: 16.8<br>electrolyteBuffer_rel: 0.2<br>lampe: 0<br>lamne: 0<br>lli: 0",
          "Design: MC Variation sample #17<br>NPratio: 1.039106051327928<br>Vmin_V: 2.5<br>Vmax_V: 4.2<br>cathodePorosity: 0.13498<br>anodePorosity: 0.17219<br>cathodeThickness_um: 37.95794<br>anodeThickness_um: 48.98198<br>copperThickness_um: 11.2<br>aluminumThickness_um: 22.2<br>separatorThickness_um: 16.8<br>electrolyteBuffer_rel: 0.2<br>lampe: 0<br>lamne: 0<br>lli: 0",
          "Design: MC Variation sample #18<br>NPratio: 1.039106051327928<br>Vmin_V: 2.5<br>Vmax_V: 4.2<br>cathodePorosity: 0.14576<br>anodePorosity: 0.1648<br>cathodeThickness_um: 41.83404<br>anodeThickness_um: 50.32001<br>copperThickness_um: 11.2<br>aluminumThickness_um: 22.2<br>separatorThickness_um: 16.8<br>electrolyteBuffer_rel: 0.2<br>lampe: 0<br>lamne: 0<br>lli: 0",
          "Design: MC Variation sample #19<br>NPratio: 1.039106051327928<br>Vmin_V: 2.5<br>Vmax_V: 4.2<br>cathodePorosity: 0.13913<br>anodePorosity: 0.17025<br>cathodeThickness_um: 35.92481<br>anodeThickness_um: 47.5264<br>copperThickness_um: 11.2<br>aluminumThickness_um: 22.2<br>separatorThickness_um: 16.8<br>electrolyteBuffer_rel: 0.2<br>lampe: 0<br>lamne: 0<br>lli: 0",
          "Design: MC Variation sample #20<br>NPratio: 1.039106051327928<br>Vmin_V: 2.5<br>Vmax_V: 4.2<br>cathodePorosity: 0.13934<br>anodePorosity: 0.17219<br>cathodeThickness_um: 38.88765<br>anodeThickness_um: 48.72821<br>copperThickness_um: 11.2<br>aluminumThickness_um: 22.2<br>separatorThickness_um: 16.8<br>electrolyteBuffer_rel: 0.2<br>lampe: 0<br>lamne: 0<br>lli: 0",
          "Design: MC Variation sample #21<br>NPratio: 1.039106051327928<br>Vmin_V: 2.5<br>Vmax_V: 4.2<br>cathodePorosity: 0.1407<br>anodePorosity: 0.16242<br>cathodeThickness_um: 35.45459<br>anodeThickness_um: 44.39806<br>copperThickness_um: 11.2<br>aluminumThickness_um: 22.2<br>separatorThickness_um: 16.8<br>electrolyteBuffer_rel: 0.2<br>lampe: 0<br>lamne: 0<br>lli: 0",
          "Design: MC Variation sample #22<br>NPratio: 1.039106051327928<br>Vmin_V: 2.5<br>Vmax_V: 4.2<br>cathodePorosity: 0.14423<br>anodePorosity: 0.16333<br>cathodeThickness_um: 37.44872<br>anodeThickness_um: 51.81809<br>copperThickness_um: 11.2<br>aluminumThickness_um: 22.2<br>separatorThickness_um: 16.8<br>electrolyteBuffer_rel: 0.2<br>lampe: 0<br>lamne: 0<br>lli: 0",
          "Design: MC Variation sample #23<br>NPratio: 1.039106051327928<br>Vmin_V: 2.5<br>Vmax_V: 4.2<br>cathodePorosity: 0.143<br>anodePorosity: 0.16816<br>cathodeThickness_um: 39.15763<br>anodeThickness_um: 51.55219<br>copperThickness_um: 11.2<br>aluminumThickness_um: 22.2<br>separatorThickness_um: 16.8<br>electrolyteBuffer_rel: 0.2<br>lampe: 0<br>lamne: 0<br>lli: 0",
          "Design: MC Variation sample #24<br>NPratio: 1.039106051327928<br>Vmin_V: 2.5<br>Vmax_V: 4.2<br>cathodePorosity: 0.13713<br>anodePorosity: 0.16823<br>cathodeThickness_um: 38.19748<br>anodeThickness_um: 51.10878<br>copperThickness_um: 11.2<br>aluminumThickness_um: 22.2<br>separatorThickness_um: 16.8<br>electrolyteBuffer_rel: 0.2<br>lampe: 0<br>lamne: 0<br>lli: 0",
          "Design: MC Variation sample #25<br>NPratio: 1.039106051327928<br>Vmin_V: 2.5<br>Vmax_V: 4.2<br>cathodePorosity: 0.14201<br>anodePorosity: 0.17379<br>cathodeThickness_um: 36.81074<br>anodeThickness_um: 53.67533<br>copperThickness_um: 11.2<br>aluminumThickness_um: 22.2<br>separatorThickness_um: 16.8<br>electrolyteBuffer_rel: 0.2<br>lampe: 0<br>lamne: 0<br>lli: 0",
          "Design: MC Variation sample #26<br>NPratio: 1.039106051327928<br>Vmin_V: 2.5<br>Vmax_V: 4.2<br>cathodePorosity: 0.14273<br>anodePorosity: 0.17593<br>cathodeThickness_um: 35.36843<br>anodeThickness_um: 47.63772<br>copperThickness_um: 11.2<br>aluminumThickness_um: 22.2<br>separatorThickness_um: 16.8<br>electrolyteBuffer_rel: 0.2<br>lampe: 0<br>lamne: 0<br>lli: 0",
          "Design: MC Variation sample #27<br>NPratio: 1.039106051327928<br>Vmin_V: 2.5<br>Vmax_V: 4.2<br>cathodePorosity: 0.14924<br>anodePorosity: 0.16576<br>cathodeThickness_um: 38.77442<br>anodeThickness_um: 50.89604<br>copperThickness_um: 11.2<br>aluminumThickness_um: 22.2<br>separatorThickness_um: 16.8<br>electrolyteBuffer_rel: 0.2<br>lampe: 0<br>lamne: 0<br>lli: 0",
          "Design: MC Variation sample #28<br>NPratio: 1.039106051327928<br>Vmin_V: 2.5<br>Vmax_V: 4.2<br>cathodePorosity: 0.1457<br>anodePorosity: 0.15278<br>cathodeThickness_um: 36.45268<br>anodeThickness_um: 50.25906<br>copperThickness_um: 11.2<br>aluminumThickness_um: 22.2<br>separatorThickness_um: 16.8<br>electrolyteBuffer_rel: 0.2<br>lampe: 0<br>lamne: 0<br>lli: 0",
          "Design: MC Variation sample #29<br>NPratio: 1.039106051327928<br>Vmin_V: 2.5<br>Vmax_V: 4.2<br>cathodePorosity: 0.14215<br>anodePorosity: 0.16298<br>cathodeThickness_um: 35.5059<br>anodeThickness_um: 53.11732<br>copperThickness_um: 11.2<br>aluminumThickness_um: 22.2<br>separatorThickness_um: 16.8<br>electrolyteBuffer_rel: 0.2<br>lampe: 0<br>lamne: 0<br>lli: 0",
          "Design: MC Variation sample #30<br>NPratio: 1.039106051327928<br>Vmin_V: 2.5<br>Vmax_V: 4.2<br>cathodePorosity: 0.14894<br>anodePorosity: 0.16414<br>cathodeThickness_um: 36.80067<br>anodeThickness_um: 47.80916<br>copperThickness_um: 11.2<br>aluminumThickness_um: 22.2<br>separatorThickness_um: 16.8<br>electrolyteBuffer_rel: 0.2<br>lampe: 0<br>lamne: 0<br>lli: 0",
          "Design: MC Variation sample #31<br>NPratio: 1.039106051327928<br>Vmin_V: 2.5<br>Vmax_V: 4.2<br>cathodePorosity: 0.13599<br>anodePorosity: 0.16721<br>cathodeThickness_um: 35.21631<br>anodeThickness_um: 49.43777<br>copperThickness_um: 11.2<br>aluminumThickness_um: 22.2<br>separatorThickness_um: 16.8<br>electrolyteBuffer_rel: 0.2<br>lampe: 0<br>lamne: 0<br>lli: 0",
          "Design: MC Variation sample #32<br>NPratio: 1.039106051327928<br>Vmin_V: 2.5<br>Vmax_V: 4.2<br>cathodePorosity: 0.14218<br>anodePorosity: 0.1718<br>cathodeThickness_um: 38.00968<br>anodeThickness_um: 54.48299<br>copperThickness_um: 11.2<br>aluminumThickness_um: 22.2<br>separatorThickness_um: 16.8<br>electrolyteBuffer_rel: 0.2<br>lampe: 0<br>lamne: 0<br>lli: 0",
          "Design: MC Variation sample #33<br>NPratio: 1.039106051327928<br>Vmin_V: 2.5<br>Vmax_V: 4.2<br>cathodePorosity: 0.13568<br>anodePorosity: 0.1746<br>cathodeThickness_um: 38.08896<br>anodeThickness_um: 48.60137<br>copperThickness_um: 11.2<br>aluminumThickness_um: 22.2<br>separatorThickness_um: 16.8<br>electrolyteBuffer_rel: 0.2<br>lampe: 0<br>lamne: 0<br>lli: 0",
          "Design: MC Variation sample #34<br>NPratio: 1.039106051327928<br>Vmin_V: 2.5<br>Vmax_V: 4.2<br>cathodePorosity: 0.1338<br>anodePorosity: 0.17682<br>cathodeThickness_um: 38.59163<br>anodeThickness_um: 51.32207<br>copperThickness_um: 11.2<br>aluminumThickness_um: 22.2<br>separatorThickness_um: 16.8<br>electrolyteBuffer_rel: 0.2<br>lampe: 0<br>lamne: 0<br>lli: 0",
          "Design: MC Variation sample #35<br>NPratio: 1.039106051327928<br>Vmin_V: 2.5<br>Vmax_V: 4.2<br>cathodePorosity: 0.14571<br>anodePorosity: 0.17558<br>cathodeThickness_um: 36.50567<br>anodeThickness_um: 49.02731<br>copperThickness_um: 11.2<br>aluminumThickness_um: 22.2<br>separatorThickness_um: 16.8<br>electrolyteBuffer_rel: 0.2<br>lampe: 0<br>lamne: 0<br>lli: 0",
          "Design: MC Variation sample #36<br>NPratio: 1.039106051327928<br>Vmin_V: 2.5<br>Vmax_V: 4.2<br>cathodePorosity: 0.14313<br>anodePorosity: 0.15936<br>cathodeThickness_um: 41.26965<br>anodeThickness_um: 48.4313<br>copperThickness_um: 11.2<br>aluminumThickness_um: 22.2<br>separatorThickness_um: 16.8<br>electrolyteBuffer_rel: 0.2<br>lampe: 0<br>lamne: 0<br>lli: 0",
          "Design: MC Variation sample #37<br>NPratio: 1.039106051327928<br>Vmin_V: 2.5<br>Vmax_V: 4.2<br>cathodePorosity: 0.14376<br>anodePorosity: 0.16307<br>cathodeThickness_um: 36.74217<br>anodeThickness_um: 45.06379<br>copperThickness_um: 11.2<br>aluminumThickness_um: 22.2<br>separatorThickness_um: 16.8<br>electrolyteBuffer_rel: 0.2<br>lampe: 0<br>lamne: 0<br>lli: 0",
          "Design: MC Variation sample #38<br>NPratio: 1.039106051327928<br>Vmin_V: 2.5<br>Vmax_V: 4.2<br>cathodePorosity: 0.14626<br>anodePorosity: 0.16816<br>cathodeThickness_um: 37.40059<br>anodeThickness_um: 52.44061<br>copperThickness_um: 11.2<br>aluminumThickness_um: 22.2<br>separatorThickness_um: 16.8<br>electrolyteBuffer_rel: 0.2<br>lampe: 0<br>lamne: 0<br>lli: 0",
          "Design: MC Variation sample #39<br>NPratio: 1.039106051327928<br>Vmin_V: 2.5<br>Vmax_V: 4.2<br>cathodePorosity: 0.14444<br>anodePorosity: 0.16012<br>cathodeThickness_um: 38.40478<br>anodeThickness_um: 50.16403<br>copperThickness_um: 11.2<br>aluminumThickness_um: 22.2<br>separatorThickness_um: 16.8<br>electrolyteBuffer_rel: 0.2<br>lampe: 0<br>lamne: 0<br>lli: 0",
          "Design: MC Variation sample #40<br>NPratio: 1.039106051327928<br>Vmin_V: 2.5<br>Vmax_V: 4.2<br>cathodePorosity: 0.1478<br>anodePorosity: 0.16255<br>cathodeThickness_um: 38.79492<br>anodeThickness_um: 49.11491<br>copperThickness_um: 11.2<br>aluminumThickness_um: 22.2<br>separatorThickness_um: 16.8<br>electrolyteBuffer_rel: 0.2<br>lampe: 0<br>lamne: 0<br>lli: 0",
          "Design: MC Variation sample #41<br>NPratio: 1.039106051327928<br>Vmin_V: 2.5<br>Vmax_V: 4.2<br>cathodePorosity: 0.14519<br>anodePorosity: 0.17407<br>cathodeThickness_um: 41.51803<br>anodeThickness_um: 49.60053<br>copperThickness_um: 11.2<br>aluminumThickness_um: 22.2<br>separatorThickness_um: 16.8<br>electrolyteBuffer_rel: 0.2<br>lampe: 0<br>lamne: 0<br>lli: 0",
          "Design: MC Variation sample #42<br>NPratio: 1.039106051327928<br>Vmin_V: 2.5<br>Vmax_V: 4.2<br>cathodePorosity: 0.14069<br>anodePorosity: 0.16806<br>cathodeThickness_um: 40.26229<br>anodeThickness_um: 49.17376<br>copperThickness_um: 11.2<br>aluminumThickness_um: 22.2<br>separatorThickness_um: 16.8<br>electrolyteBuffer_rel: 0.2<br>lampe: 0<br>lamne: 0<br>lli: 0",
          "Design: MC Variation sample #43<br>NPratio: 1.039106051327928<br>Vmin_V: 2.5<br>Vmax_V: 4.2<br>cathodePorosity: 0.14475<br>anodePorosity: 0.16733<br>cathodeThickness_um: 36.52215<br>anodeThickness_um: 51.82356<br>copperThickness_um: 11.2<br>aluminumThickness_um: 22.2<br>separatorThickness_um: 16.8<br>electrolyteBuffer_rel: 0.2<br>lampe: 0<br>lamne: 0<br>lli: 0",
          "Design: MC Variation sample #44<br>NPratio: 1.039106051327928<br>Vmin_V: 2.5<br>Vmax_V: 4.2<br>cathodePorosity: 0.14365<br>anodePorosity: 0.15657<br>cathodeThickness_um: 36.34382<br>anodeThickness_um: 49.4617<br>copperThickness_um: 11.2<br>aluminumThickness_um: 22.2<br>separatorThickness_um: 16.8<br>electrolyteBuffer_rel: 0.2<br>lampe: 0<br>lamne: 0<br>lli: 0",
          "Design: MC Variation sample #45<br>NPratio: 1.039106051327928<br>Vmin_V: 2.5<br>Vmax_V: 4.2<br>cathodePorosity: 0.14518<br>anodePorosity: 0.17172<br>cathodeThickness_um: 38.45456<br>anodeThickness_um: 46.46724<br>copperThickness_um: 11.2<br>aluminumThickness_um: 22.2<br>separatorThickness_um: 16.8<br>electrolyteBuffer_rel: 0.2<br>lampe: 0<br>lamne: 0<br>lli: 0",
          "Design: MC Variation sample #46<br>NPratio: 1.039106051327928<br>Vmin_V: 2.5<br>Vmax_V: 4.2<br>cathodePorosity: 0.13478<br>anodePorosity: 0.16549<br>cathodeThickness_um: 37.39859<br>anodeThickness_um: 50.00746<br>copperThickness_um: 11.2<br>aluminumThickness_um: 22.2<br>separatorThickness_um: 16.8<br>electrolyteBuffer_rel: 0.2<br>lampe: 0<br>lamne: 0<br>lli: 0",
          "Design: MC Variation sample #47<br>NPratio: 1.039106051327928<br>Vmin_V: 2.5<br>Vmax_V: 4.2<br>cathodePorosity: 0.14476<br>anodePorosity: 0.16229<br>cathodeThickness_um: 36.40093<br>anodeThickness_um: 50.09339<br>copperThickness_um: 11.2<br>aluminumThickness_um: 22.2<br>separatorThickness_um: 16.8<br>electrolyteBuffer_rel: 0.2<br>lampe: 0<br>lamne: 0<br>lli: 0",
          "Design: MC Variation sample #48<br>NPratio: 1.039106051327928<br>Vmin_V: 2.5<br>Vmax_V: 4.2<br>cathodePorosity: 0.14721<br>anodePorosity: 0.16897<br>cathodeThickness_um: 38.19718<br>anodeThickness_um: 47.15753<br>copperThickness_um: 11.2<br>aluminumThickness_um: 22.2<br>separatorThickness_um: 16.8<br>electrolyteBuffer_rel: 0.2<br>lampe: 0<br>lamne: 0<br>lli: 0",
          "Design: MC Variation sample #49<br>NPratio: 1.039106051327928<br>Vmin_V: 2.5<br>Vmax_V: 4.2<br>cathodePorosity: 0.15344<br>anodePorosity: 0.16665<br>cathodeThickness_um: 38.78641<br>anodeThickness_um: 44.34667<br>copperThickness_um: 11.2<br>aluminumThickness_um: 22.2<br>separatorThickness_um: 16.8<br>electrolyteBuffer_rel: 0.2<br>lampe: 0<br>lamne: 0<br>lli: 0",
          "Design: MC Variation sample #50<br>NPratio: 1.039106051327928<br>Vmin_V: 2.5<br>Vmax_V: 4.2<br>cathodePorosity: 0.14166<br>anodePorosity: 0.16485<br>cathodeThickness_um: 37.46727<br>anodeThickness_um: 53.54939<br>copperThickness_um: 11.2<br>aluminumThickness_um: 22.2<br>separatorThickness_um: 16.8<br>electrolyteBuffer_rel: 0.2<br>lampe: 0<br>lamne: 0<br>lli: 0",
          "Design: MC Variation sample #51<br>NPratio: 1.039106051327928<br>Vmin_V: 2.5<br>Vmax_V: 4.2<br>cathodePorosity: 0.13996<br>anodePorosity: 0.17971<br>cathodeThickness_um: 36.5634<br>anodeThickness_um: 49.757<br>copperThickness_um: 11.2<br>aluminumThickness_um: 22.2<br>separatorThickness_um: 16.8<br>electrolyteBuffer_rel: 0.2<br>lampe: 0<br>lamne: 0<br>lli: 0",
          "Design: MC Variation sample #52<br>NPratio: 1.039106051327928<br>Vmin_V: 2.5<br>Vmax_V: 4.2<br>cathodePorosity: 0.14247<br>anodePorosity: 0.16261<br>cathodeThickness_um: 37.86284<br>anodeThickness_um: 48.20911<br>copperThickness_um: 11.2<br>aluminumThickness_um: 22.2<br>separatorThickness_um: 16.8<br>electrolyteBuffer_rel: 0.2<br>lampe: 0<br>lamne: 0<br>lli: 0",
          "Design: MC Variation sample #53<br>NPratio: 1.039106051327928<br>Vmin_V: 2.5<br>Vmax_V: 4.2<br>cathodePorosity: 0.15212<br>anodePorosity: 0.15436<br>cathodeThickness_um: 40.74983<br>anodeThickness_um: 48.49169<br>copperThickness_um: 11.2<br>aluminumThickness_um: 22.2<br>separatorThickness_um: 16.8<br>electrolyteBuffer_rel: 0.2<br>lampe: 0<br>lamne: 0<br>lli: 0",
          "Design: MC Variation sample #54<br>NPratio: 1.039106051327928<br>Vmin_V: 2.5<br>Vmax_V: 4.2<br>cathodePorosity: 0.14362<br>anodePorosity: 0.16076<br>cathodeThickness_um: 35.85332<br>anodeThickness_um: 56.63828<br>copperThickness_um: 11.2<br>aluminumThickness_um: 22.2<br>separatorThickness_um: 16.8<br>electrolyteBuffer_rel: 0.2<br>lampe: 0<br>lamne: 0<br>lli: 0",
          "Design: MC Variation sample #55<br>NPratio: 1.039106051327928<br>Vmin_V: 2.5<br>Vmax_V: 4.2<br>cathodePorosity: 0.13944<br>anodePorosity: 0.15792<br>cathodeThickness_um: 38.78277<br>anodeThickness_um: 50.05523<br>copperThickness_um: 11.2<br>aluminumThickness_um: 22.2<br>separatorThickness_um: 16.8<br>electrolyteBuffer_rel: 0.2<br>lampe: 0<br>lamne: 0<br>lli: 0",
          "Design: MC Variation sample #56<br>NPratio: 1.039106051327928<br>Vmin_V: 2.5<br>Vmax_V: 4.2<br>cathodePorosity: 0.14088<br>anodePorosity: 0.17416<br>cathodeThickness_um: 36.66801<br>anodeThickness_um: 44.9825<br>copperThickness_um: 11.2<br>aluminumThickness_um: 22.2<br>separatorThickness_um: 16.8<br>electrolyteBuffer_rel: 0.2<br>lampe: 0<br>lamne: 0<br>lli: 0",
          "Design: MC Variation sample #57<br>NPratio: 1.039106051327928<br>Vmin_V: 2.5<br>Vmax_V: 4.2<br>cathodePorosity: 0.14448<br>anodePorosity: 0.17387<br>cathodeThickness_um: 37.41764<br>anodeThickness_um: 44.11528<br>copperThickness_um: 11.2<br>aluminumThickness_um: 22.2<br>separatorThickness_um: 16.8<br>electrolyteBuffer_rel: 0.2<br>lampe: 0<br>lamne: 0<br>lli: 0",
          "Design: MC Variation sample #58<br>NPratio: 1.039106051327928<br>Vmin_V: 2.5<br>Vmax_V: 4.2<br>cathodePorosity: 0.15274<br>anodePorosity: 0.17479<br>cathodeThickness_um: 38.06302<br>anodeThickness_um: 50.27332<br>copperThickness_um: 11.2<br>aluminumThickness_um: 22.2<br>separatorThickness_um: 16.8<br>electrolyteBuffer_rel: 0.2<br>lampe: 0<br>lamne: 0<br>lli: 0",
          "Design: MC Variation sample #59<br>NPratio: 1.039106051327928<br>Vmin_V: 2.5<br>Vmax_V: 4.2<br>cathodePorosity: 0.13797<br>anodePorosity: 0.1594<br>cathodeThickness_um: 38.42641<br>anodeThickness_um: 49.01471<br>copperThickness_um: 11.2<br>aluminumThickness_um: 22.2<br>separatorThickness_um: 16.8<br>electrolyteBuffer_rel: 0.2<br>lampe: 0<br>lamne: 0<br>lli: 0",
          "Design: MC Variation sample #60<br>NPratio: 1.039106051327928<br>Vmin_V: 2.5<br>Vmax_V: 4.2<br>cathodePorosity: 0.13978<br>anodePorosity: 0.17002<br>cathodeThickness_um: 36.02564<br>anodeThickness_um: 46.0835<br>copperThickness_um: 11.2<br>aluminumThickness_um: 22.2<br>separatorThickness_um: 16.8<br>electrolyteBuffer_rel: 0.2<br>lampe: 0<br>lamne: 0<br>lli: 0",
          "Design: MC Variation sample #61<br>NPratio: 1.039106051327928<br>Vmin_V: 2.5<br>Vmax_V: 4.2<br>cathodePorosity: 0.14536<br>anodePorosity: 0.15989<br>cathodeThickness_um: 36.85871<br>anodeThickness_um: 43.24647<br>copperThickness_um: 11.2<br>aluminumThickness_um: 22.2<br>separatorThickness_um: 16.8<br>electrolyteBuffer_rel: 0.2<br>lampe: 0<br>lamne: 0<br>lli: 0",
          "Design: MC Variation sample #62<br>NPratio: 1.039106051327928<br>Vmin_V: 2.5<br>Vmax_V: 4.2<br>cathodePorosity: 0.14973<br>anodePorosity: 0.16926<br>cathodeThickness_um: 39.35991<br>anodeThickness_um: 49.07433<br>copperThickness_um: 11.2<br>aluminumThickness_um: 22.2<br>separatorThickness_um: 16.8<br>electrolyteBuffer_rel: 0.2<br>lampe: 0<br>lamne: 0<br>lli: 0",
          "Design: MC Variation sample #63<br>NPratio: 1.039106051327928<br>Vmin_V: 2.5<br>Vmax_V: 4.2<br>cathodePorosity: 0.13846<br>anodePorosity: 0.16431<br>cathodeThickness_um: 40.34582<br>anodeThickness_um: 47.25111<br>copperThickness_um: 11.2<br>aluminumThickness_um: 22.2<br>separatorThickness_um: 16.8<br>electrolyteBuffer_rel: 0.2<br>lampe: 0<br>lamne: 0<br>lli: 0",
          "Design: MC Variation sample #64<br>NPratio: 1.039106051327928<br>Vmin_V: 2.5<br>Vmax_V: 4.2<br>cathodePorosity: 0.14459<br>anodePorosity: 0.17243<br>cathodeThickness_um: 37.42272<br>anodeThickness_um: 57.04251<br>copperThickness_um: 11.2<br>aluminumThickness_um: 22.2<br>separatorThickness_um: 16.8<br>electrolyteBuffer_rel: 0.2<br>lampe: 0<br>lamne: 0<br>lli: 0",
          "Design: MC Variation sample #65<br>NPratio: 1.039106051327928<br>Vmin_V: 2.5<br>Vmax_V: 4.2<br>cathodePorosity: 0.14369<br>anodePorosity: 0.17025<br>cathodeThickness_um: 41.82422<br>anodeThickness_um: 48.35749<br>copperThickness_um: 11.2<br>aluminumThickness_um: 22.2<br>separatorThickness_um: 16.8<br>electrolyteBuffer_rel: 0.2<br>lampe: 0<br>lamne: 0<br>lli: 0",
          "Design: MC Variation sample #66<br>NPratio: 1.039106051327928<br>Vmin_V: 2.5<br>Vmax_V: 4.2<br>cathodePorosity: 0.1352<br>anodePorosity: 0.17542<br>cathodeThickness_um: 38.28611<br>anodeThickness_um: 47.92238<br>copperThickness_um: 11.2<br>aluminumThickness_um: 22.2<br>separatorThickness_um: 16.8<br>electrolyteBuffer_rel: 0.2<br>lampe: 0<br>lamne: 0<br>lli: 0",
          "Design: MC Variation sample #67<br>NPratio: 1.039106051327928<br>Vmin_V: 2.5<br>Vmax_V: 4.2<br>cathodePorosity: 0.13545<br>anodePorosity: 0.1712<br>cathodeThickness_um: 33.91048<br>anodeThickness_um: 43.38515<br>copperThickness_um: 11.2<br>aluminumThickness_um: 22.2<br>separatorThickness_um: 16.8<br>electrolyteBuffer_rel: 0.2<br>lampe: 0<br>lamne: 0<br>lli: 0",
          "Design: MC Variation sample #68<br>NPratio: 1.039106051327928<br>Vmin_V: 2.5<br>Vmax_V: 4.2<br>cathodePorosity: 0.14165<br>anodePorosity: 0.16622<br>cathodeThickness_um: 36.04083<br>anodeThickness_um: 49.74406<br>copperThickness_um: 11.2<br>aluminumThickness_um: 22.2<br>separatorThickness_um: 16.8<br>electrolyteBuffer_rel: 0.2<br>lampe: 0<br>lamne: 0<br>lli: 0",
          "Design: MC Variation sample #69<br>NPratio: 1.039106051327928<br>Vmin_V: 2.5<br>Vmax_V: 4.2<br>cathodePorosity: 0.1321<br>anodePorosity: 0.1595<br>cathodeThickness_um: 38.17688<br>anodeThickness_um: 49.70486<br>copperThickness_um: 11.2<br>aluminumThickness_um: 22.2<br>separatorThickness_um: 16.8<br>electrolyteBuffer_rel: 0.2<br>lampe: 0<br>lamne: 0<br>lli: 0",
          "Design: MC Variation sample #70<br>NPratio: 1.039106051327928<br>Vmin_V: 2.5<br>Vmax_V: 4.2<br>cathodePorosity: 0.1461<br>anodePorosity: 0.17243<br>cathodeThickness_um: 40.01207<br>anodeThickness_um: 48.4337<br>copperThickness_um: 11.2<br>aluminumThickness_um: 22.2<br>separatorThickness_um: 16.8<br>electrolyteBuffer_rel: 0.2<br>lampe: 0<br>lamne: 0<br>lli: 0",
          "Design: MC Variation sample #71<br>NPratio: 1.039106051327928<br>Vmin_V: 2.5<br>Vmax_V: 4.2<br>cathodePorosity: 0.13887<br>anodePorosity: 0.16584<br>cathodeThickness_um: 36.3873<br>anodeThickness_um: 47.62719<br>copperThickness_um: 11.2<br>aluminumThickness_um: 22.2<br>separatorThickness_um: 16.8<br>electrolyteBuffer_rel: 0.2<br>lampe: 0<br>lamne: 0<br>lli: 0",
          "Design: MC Variation sample #72<br>NPratio: 1.039106051327928<br>Vmin_V: 2.5<br>Vmax_V: 4.2<br>cathodePorosity: 0.14294<br>anodePorosity: 0.15401<br>cathodeThickness_um: 36.80439<br>anodeThickness_um: 49.51097<br>copperThickness_um: 11.2<br>aluminumThickness_um: 22.2<br>separatorThickness_um: 16.8<br>electrolyteBuffer_rel: 0.2<br>lampe: 0<br>lamne: 0<br>lli: 0",
          "Design: MC Variation sample #73<br>NPratio: 1.039106051327928<br>Vmin_V: 2.5<br>Vmax_V: 4.2<br>cathodePorosity: 0.14401<br>anodePorosity: 0.16247<br>cathodeThickness_um: 37.55503<br>anodeThickness_um: 53.09775<br>copperThickness_um: 11.2<br>aluminumThickness_um: 22.2<br>separatorThickness_um: 16.8<br>electrolyteBuffer_rel: 0.2<br>lampe: 0<br>lamne: 0<br>lli: 0",
          "Design: MC Variation sample #74<br>NPratio: 1.039106051327928<br>Vmin_V: 2.5<br>Vmax_V: 4.2<br>cathodePorosity: 0.13922<br>anodePorosity: 0.16368<br>cathodeThickness_um: 35.11295<br>anodeThickness_um: 48.72945<br>copperThickness_um: 11.2<br>aluminumThickness_um: 22.2<br>separatorThickness_um: 16.8<br>electrolyteBuffer_rel: 0.2<br>lampe: 0<br>lamne: 0<br>lli: 0",
          "Design: MC Variation sample #75<br>NPratio: 1.039106051327928<br>Vmin_V: 2.5<br>Vmax_V: 4.2<br>cathodePorosity: 0.14247<br>anodePorosity: 0.16591<br>cathodeThickness_um: 39.25156<br>anodeThickness_um: 53.41024<br>copperThickness_um: 11.2<br>aluminumThickness_um: 22.2<br>separatorThickness_um: 16.8<br>electrolyteBuffer_rel: 0.2<br>lampe: 0<br>lamne: 0<br>lli: 0",
          "Design: MC Variation sample #76<br>NPratio: 1.039106051327928<br>Vmin_V: 2.5<br>Vmax_V: 4.2<br>cathodePorosity: 0.13861<br>anodePorosity: 0.17267<br>cathodeThickness_um: 35.34794<br>anodeThickness_um: 50.53796<br>copperThickness_um: 11.2<br>aluminumThickness_um: 22.2<br>separatorThickness_um: 16.8<br>electrolyteBuffer_rel: 0.2<br>lampe: 0<br>lamne: 0<br>lli: 0",
          "Design: MC Variation sample #77<br>NPratio: 1.039106051327928<br>Vmin_V: 2.5<br>Vmax_V: 4.2<br>cathodePorosity: 0.14424<br>anodePorosity: 0.16846<br>cathodeThickness_um: 41.2305<br>anodeThickness_um: 47.02613<br>copperThickness_um: 11.2<br>aluminumThickness_um: 22.2<br>separatorThickness_um: 16.8<br>electrolyteBuffer_rel: 0.2<br>lampe: 0<br>lamne: 0<br>lli: 0",
          "Design: MC Variation sample #78<br>NPratio: 1.039106051327928<br>Vmin_V: 2.5<br>Vmax_V: 4.2<br>cathodePorosity: 0.13269<br>anodePorosity: 0.16995<br>cathodeThickness_um: 36.71978<br>anodeThickness_um: 50.25174<br>copperThickness_um: 11.2<br>aluminumThickness_um: 22.2<br>separatorThickness_um: 16.8<br>electrolyteBuffer_rel: 0.2<br>lampe: 0<br>lamne: 0<br>lli: 0",
          "Design: MC Variation sample #79<br>NPratio: 1.039106051327928<br>Vmin_V: 2.5<br>Vmax_V: 4.2<br>cathodePorosity: 0.14448<br>anodePorosity: 0.16663641853607114<br>cathodeThickness_um: 33.66162<br>anodeThickness_um: 49.85485<br>copperThickness_um: 11.2<br>aluminumThickness_um: 22.2<br>separatorThickness_um: 16.8<br>electrolyteBuffer_rel: 0.2<br>lampe: 0<br>lamne: 0<br>lli: 0",
          "Design: MC Variation sample #80<br>NPratio: 1.039106051327928<br>Vmin_V: 2.5<br>Vmax_V: 4.2<br>cathodePorosity: 0.14601<br>anodePorosity: 0.15988<br>cathodeThickness_um: 41.05016<br>anodeThickness_um: 52.08144<br>copperThickness_um: 11.2<br>aluminumThickness_um: 22.2<br>separatorThickness_um: 16.8<br>electrolyteBuffer_rel: 0.2<br>lampe: 0<br>lamne: 0<br>lli: 0",
          "Design: MC Variation sample #81<br>NPratio: 1.039106051327928<br>Vmin_V: 2.5<br>Vmax_V: 4.2<br>cathodePorosity: 0.13193<br>anodePorosity: 0.17715<br>cathodeThickness_um: 33.89189<br>anodeThickness_um: 50.78138<br>copperThickness_um: 11.2<br>aluminumThickness_um: 22.2<br>separatorThickness_um: 16.8<br>electrolyteBuffer_rel: 0.2<br>lampe: 0<br>lamne: 0<br>lli: 0",
          "Design: MC Variation sample #82<br>NPratio: 1.039106051327928<br>Vmin_V: 2.5<br>Vmax_V: 4.2<br>cathodePorosity: 0.14342<br>anodePorosity: 0.17605<br>cathodeThickness_um: 41.25022<br>anodeThickness_um: 46.10984<br>copperThickness_um: 11.2<br>aluminumThickness_um: 22.2<br>separatorThickness_um: 16.8<br>electrolyteBuffer_rel: 0.2<br>lampe: 0<br>lamne: 0<br>lli: 0",
          "Design: MC Variation sample #83<br>NPratio: 1.039106051327928<br>Vmin_V: 2.5<br>Vmax_V: 4.2<br>cathodePorosity: 0.13275<br>anodePorosity: 0.17039<br>cathodeThickness_um: 36.11306<br>anodeThickness_um: 49.61753<br>copperThickness_um: 11.2<br>aluminumThickness_um: 22.2<br>separatorThickness_um: 16.8<br>electrolyteBuffer_rel: 0.2<br>lampe: 0<br>lamne: 0<br>lli: 0",
          "Design: MC Variation sample #84<br>NPratio: 1.039106051327928<br>Vmin_V: 2.5<br>Vmax_V: 4.2<br>cathodePorosity: 0.13985<br>anodePorosity: 0.16729<br>cathodeThickness_um: 34.81586<br>anodeThickness_um: 52.25819<br>copperThickness_um: 11.2<br>aluminumThickness_um: 22.2<br>separatorThickness_um: 16.8<br>electrolyteBuffer_rel: 0.2<br>lampe: 0<br>lamne: 0<br>lli: 0",
          "Design: MC Variation sample #85<br>NPratio: 1.039106051327928<br>Vmin_V: 2.5<br>Vmax_V: 4.2<br>cathodePorosity: 0.15119<br>anodePorosity: 0.16849<br>cathodeThickness_um: 37.87812<br>anodeThickness_um: 46.87808<br>copperThickness_um: 11.2<br>aluminumThickness_um: 22.2<br>separatorThickness_um: 16.8<br>electrolyteBuffer_rel: 0.2<br>lampe: 0<br>lamne: 0<br>lli: 0",
          "Design: MC Variation sample #86<br>NPratio: 1.039106051327928<br>Vmin_V: 2.5<br>Vmax_V: 4.2<br>cathodePorosity: 0.13873<br>anodePorosity: 0.16781<br>cathodeThickness_um: 37.66522<br>anodeThickness_um: 50.4841<br>copperThickness_um: 11.2<br>aluminumThickness_um: 22.2<br>separatorThickness_um: 16.8<br>electrolyteBuffer_rel: 0.2<br>lampe: 0<br>lamne: 0<br>lli: 0",
          "Design: MC Variation sample #87<br>NPratio: 1.039106051327928<br>Vmin_V: 2.5<br>Vmax_V: 4.2<br>cathodePorosity: 0.15093<br>anodePorosity: 0.16113<br>cathodeThickness_um: 37.17015<br>anodeThickness_um: 50.8355<br>copperThickness_um: 11.2<br>aluminumThickness_um: 22.2<br>separatorThickness_um: 16.8<br>electrolyteBuffer_rel: 0.2<br>lampe: 0<br>lamne: 0<br>lli: 0",
          "Design: MC Variation sample #88<br>NPratio: 1.039106051327928<br>Vmin_V: 2.5<br>Vmax_V: 4.2<br>cathodePorosity: 0.13826<br>anodePorosity: 0.16292<br>cathodeThickness_um: 37.20881<br>anodeThickness_um: 51.90965<br>copperThickness_um: 11.2<br>aluminumThickness_um: 22.2<br>separatorThickness_um: 16.8<br>electrolyteBuffer_rel: 0.2<br>lampe: 0<br>lamne: 0<br>lli: 0",
          "Design: MC Variation sample #89<br>NPratio: 1.039106051327928<br>Vmin_V: 2.5<br>Vmax_V: 4.2<br>cathodePorosity: 0.14124<br>anodePorosity: 0.16932<br>cathodeThickness_um: 37.26597<br>anodeThickness_um: 50.40712<br>copperThickness_um: 11.2<br>aluminumThickness_um: 22.2<br>separatorThickness_um: 16.8<br>electrolyteBuffer_rel: 0.2<br>lampe: 0<br>lamne: 0<br>lli: 0",
          "Design: MC Variation sample #90<br>NPratio: 1.039106051327928<br>Vmin_V: 2.5<br>Vmax_V: 4.2<br>cathodePorosity: 0.14125<br>anodePorosity: 0.17109<br>cathodeThickness_um: 38.74349<br>anodeThickness_um: 50.92834<br>copperThickness_um: 11.2<br>aluminumThickness_um: 22.2<br>separatorThickness_um: 16.8<br>electrolyteBuffer_rel: 0.2<br>lampe: 0<br>lamne: 0<br>lli: 0",
          "Design: MC Variation sample #91<br>NPratio: 1.039106051327928<br>Vmin_V: 2.5<br>Vmax_V: 4.2<br>cathodePorosity: 0.13788<br>anodePorosity: 0.16596<br>cathodeThickness_um: 36.09507<br>anodeThickness_um: 46.60141<br>copperThickness_um: 11.2<br>aluminumThickness_um: 22.2<br>separatorThickness_um: 16.8<br>electrolyteBuffer_rel: 0.2<br>lampe: 0<br>lamne: 0<br>lli: 0",
          "Design: MC Variation sample #92<br>NPratio: 1.039106051327928<br>Vmin_V: 2.5<br>Vmax_V: 4.2<br>cathodePorosity: 0.14647<br>anodePorosity: 0.16089<br>cathodeThickness_um: 40.42596<br>anodeThickness_um: 48.78606<br>copperThickness_um: 11.2<br>aluminumThickness_um: 22.2<br>separatorThickness_um: 16.8<br>electrolyteBuffer_rel: 0.2<br>lampe: 0<br>lamne: 0<br>lli: 0",
          "Design: MC Variation sample #93<br>NPratio: 1.039106051327928<br>Vmin_V: 2.5<br>Vmax_V: 4.2<br>cathodePorosity: 0.14228<br>anodePorosity: 0.17993<br>cathodeThickness_um: 36.76843<br>anodeThickness_um: 45.1151<br>copperThickness_um: 11.2<br>aluminumThickness_um: 22.2<br>separatorThickness_um: 16.8<br>electrolyteBuffer_rel: 0.2<br>lampe: 0<br>lamne: 0<br>lli: 0",
          "Design: MC Variation sample #94<br>NPratio: 1.039106051327928<br>Vmin_V: 2.5<br>Vmax_V: 4.2<br>cathodePorosity: 0.13476<br>anodePorosity: 0.1662<br>cathodeThickness_um: 38.02112<br>anodeThickness_um: 48.28754<br>copperThickness_um: 11.2<br>aluminumThickness_um: 22.2<br>separatorThickness_um: 16.8<br>electrolyteBuffer_rel: 0.2<br>lampe: 0<br>lamne: 0<br>lli: 0",
          "Design: MC Variation sample #95<br>NPratio: 1.039106051327928<br>Vmin_V: 2.5<br>Vmax_V: 4.2<br>cathodePorosity: 0.13834<br>anodePorosity: 0.16396<br>cathodeThickness_um: 40.83188<br>anodeThickness_um: 47.04484<br>copperThickness_um: 11.2<br>aluminumThickness_um: 22.2<br>separatorThickness_um: 16.8<br>electrolyteBuffer_rel: 0.2<br>lampe: 0<br>lamne: 0<br>lli: 0",
          "Design: MC Variation sample #96<br>NPratio: 1.039106051327928<br>Vmin_V: 2.5<br>Vmax_V: 4.2<br>cathodePorosity: 0.13803<br>anodePorosity: 0.16571<br>cathodeThickness_um: 39.27193<br>anodeThickness_um: 47.98826<br>copperThickness_um: 11.2<br>aluminumThickness_um: 22.2<br>separatorThickness_um: 16.8<br>electrolyteBuffer_rel: 0.2<br>lampe: 0<br>lamne: 0<br>lli: 0",
          "Design: MC Variation sample #97<br>NPratio: 1.039106051327928<br>Vmin_V: 2.5<br>Vmax_V: 4.2<br>cathodePorosity: 0.14456<br>anodePorosity: 0.16264<br>cathodeThickness_um: 38.88731<br>anodeThickness_um: 50.67968<br>copperThickness_um: 11.2<br>aluminumThickness_um: 22.2<br>separatorThickness_um: 16.8<br>electrolyteBuffer_rel: 0.2<br>lampe: 0<br>lamne: 0<br>lli: 0",
          "Design: MC Variation sample #98<br>NPratio: 1.039106051327928<br>Vmin_V: 2.5<br>Vmax_V: 4.2<br>cathodePorosity: 0.13942<br>anodePorosity: 0.1748<br>cathodeThickness_um: 35.99739<br>anodeThickness_um: 51.66953<br>copperThickness_um: 11.2<br>aluminumThickness_um: 22.2<br>separatorThickness_um: 16.8<br>electrolyteBuffer_rel: 0.2<br>lampe: 0<br>lamne: 0<br>lli: 0",
          "Design: MC Variation sample #99<br>NPratio: 1.039106051327928<br>Vmin_V: 2.5<br>Vmax_V: 4.2<br>cathodePorosity: 0.14811<br>anodePorosity: 0.16432<br>cathodeThickness_um: 37.48726<br>anodeThickness_um: 50.91071<br>copperThickness_um: 11.2<br>aluminumThickness_um: 22.2<br>separatorThickness_um: 16.8<br>electrolyteBuffer_rel: 0.2<br>lampe: 0<br>lamne: 0<br>lli: 0",
          "Design: MC Variation sample #100<br>NPratio: 1.039106051327928<br>Vmin_V: 2.5<br>Vmax_V: 4.2<br>cathodePorosity: 0.14496<br>anodePorosity: 0.15969<br>cathodeThickness_um: 35.75182<br>anodeThickness_um: 47.35874<br>copperThickness_um: 11.2<br>aluminumThickness_um: 22.2<br>separatorThickness_um: 16.8<br>electrolyteBuffer_rel: 0.2<br>lampe: 0<br>lamne: 0<br>lli: 0",
          "Design: MC Variation sample #101<br>NPratio: 1.039106051327928<br>Vmin_V: 2.5<br>Vmax_V: 4.2<br>cathodePorosity: 0.14339<br>anodePorosity: 0.16286<br>cathodeThickness_um: 38.15946<br>anodeThickness_um: 43.71408<br>copperThickness_um: 11.2<br>aluminumThickness_um: 22.2<br>separatorThickness_um: 16.8<br>electrolyteBuffer_rel: 0.2<br>lampe: 0<br>lamne: 0<br>lli: 0",
          "Design: MC Variation sample #102<br>NPratio: 1.039106051327928<br>Vmin_V: 2.5<br>Vmax_V: 4.2<br>cathodePorosity: 0.13925<br>anodePorosity: 0.16765<br>cathodeThickness_um: 38.62927<br>anodeThickness_um: 51.43529<br>copperThickness_um: 11.2<br>aluminumThickness_um: 22.2<br>separatorThickness_um: 16.8<br>electrolyteBuffer_rel: 0.2<br>lampe: 0<br>lamne: 0<br>lli: 0",
          "Design: MC Variation sample #103<br>NPratio: 1.039106051327928<br>Vmin_V: 2.5<br>Vmax_V: 4.2<br>cathodePorosity: 0.13883<br>anodePorosity: 0.1631<br>cathodeThickness_um: 34.64196<br>anodeThickness_um: 50.59965<br>copperThickness_um: 11.2<br>aluminumThickness_um: 22.2<br>separatorThickness_um: 16.8<br>electrolyteBuffer_rel: 0.2<br>lampe: 0<br>lamne: 0<br>lli: 0",
          "Design: MC Variation sample #104<br>NPratio: 1.039106051327928<br>Vmin_V: 2.5<br>Vmax_V: 4.2<br>cathodePorosity: 0.13902<br>anodePorosity: 0.1647<br>cathodeThickness_um: 37.87902<br>anodeThickness_um: 49.07085<br>copperThickness_um: 11.2<br>aluminumThickness_um: 22.2<br>separatorThickness_um: 16.8<br>electrolyteBuffer_rel: 0.2<br>lampe: 0<br>lamne: 0<br>lli: 0",
          "Design: MC Variation sample #105<br>NPratio: 1.039106051327928<br>Vmin_V: 2.5<br>Vmax_V: 4.2<br>cathodePorosity: 0.14781<br>anodePorosity: 0.16685<br>cathodeThickness_um: 36.89299<br>anodeThickness_um: 49.45761<br>copperThickness_um: 11.2<br>aluminumThickness_um: 22.2<br>separatorThickness_um: 16.8<br>electrolyteBuffer_rel: 0.2<br>lampe: 0<br>lamne: 0<br>lli: 0",
          "Design: MC Variation sample #106<br>NPratio: 1.039106051327928<br>Vmin_V: 2.5<br>Vmax_V: 4.2<br>cathodePorosity: 0.14575<br>anodePorosity: 0.15957<br>cathodeThickness_um: 40.20239<br>anodeThickness_um: 50.19132<br>copperThickness_um: 11.2<br>aluminumThickness_um: 22.2<br>separatorThickness_um: 16.8<br>electrolyteBuffer_rel: 0.2<br>lampe: 0<br>lamne: 0<br>lli: 0",
          "Design: MC Variation sample #107<br>NPratio: 1.039106051327928<br>Vmin_V: 2.5<br>Vmax_V: 4.2<br>cathodePorosity: 0.14229<br>anodePorosity: 0.16228<br>cathodeThickness_um: 37.31914<br>anodeThickness_um: 48.7565<br>copperThickness_um: 11.2<br>aluminumThickness_um: 22.2<br>separatorThickness_um: 16.8<br>electrolyteBuffer_rel: 0.2<br>lampe: 0<br>lamne: 0<br>lli: 0",
          "Design: MC Variation sample #108<br>NPratio: 1.039106051327928<br>Vmin_V: 2.5<br>Vmax_V: 4.2<br>cathodePorosity: 0.13363<br>anodePorosity: 0.1667<br>cathodeThickness_um: 38.70755<br>anodeThickness_um: 50.91709<br>copperThickness_um: 11.2<br>aluminumThickness_um: 22.2<br>separatorThickness_um: 16.8<br>electrolyteBuffer_rel: 0.2<br>lampe: 0<br>lamne: 0<br>lli: 0",
          "Design: MC Variation sample #109<br>NPratio: 1.039106051327928<br>Vmin_V: 2.5<br>Vmax_V: 4.2<br>cathodePorosity: 0.15335<br>anodePorosity: 0.17323<br>cathodeThickness_um: 37.41559<br>anodeThickness_um: 48.12013<br>copperThickness_um: 11.2<br>aluminumThickness_um: 22.2<br>separatorThickness_um: 16.8<br>electrolyteBuffer_rel: 0.2<br>lampe: 0<br>lamne: 0<br>lli: 0",
          "Design: MC Variation sample #110<br>NPratio: 1.039106051327928<br>Vmin_V: 2.5<br>Vmax_V: 4.2<br>cathodePorosity: 0.15182<br>anodePorosity: 0.16669<br>cathodeThickness_um: 38.39374<br>anodeThickness_um: 44.66717<br>copperThickness_um: 11.2<br>aluminumThickness_um: 22.2<br>separatorThickness_um: 16.8<br>electrolyteBuffer_rel: 0.2<br>lampe: 0<br>lamne: 0<br>lli: 0",
          "Design: MC Variation sample #111<br>NPratio: 1.039106051327928<br>Vmin_V: 2.5<br>Vmax_V: 4.2<br>cathodePorosity: 0.12932<br>anodePorosity: 0.15806<br>cathodeThickness_um: 34.89367<br>anodeThickness_um: 43.95906<br>copperThickness_um: 11.2<br>aluminumThickness_um: 22.2<br>separatorThickness_um: 16.8<br>electrolyteBuffer_rel: 0.2<br>lampe: 0<br>lamne: 0<br>lli: 0",
          "Design: MC Variation sample #112<br>NPratio: 1.039106051327928<br>Vmin_V: 2.5<br>Vmax_V: 4.2<br>cathodePorosity: 0.13784<br>anodePorosity: 0.17287<br>cathodeThickness_um: 35.30272<br>anodeThickness_um: 48.34387<br>copperThickness_um: 11.2<br>aluminumThickness_um: 22.2<br>separatorThickness_um: 16.8<br>electrolyteBuffer_rel: 0.2<br>lampe: 0<br>lamne: 0<br>lli: 0",
          "Design: MC Variation sample #113<br>NPratio: 1.039106051327928<br>Vmin_V: 2.5<br>Vmax_V: 4.2<br>cathodePorosity: 0.13668<br>anodePorosity: 0.1702<br>cathodeThickness_um: 35.62209<br>anodeThickness_um: 52.12166<br>copperThickness_um: 11.2<br>aluminumThickness_um: 22.2<br>separatorThickness_um: 16.8<br>electrolyteBuffer_rel: 0.2<br>lampe: 0<br>lamne: 0<br>lli: 0",
          "Design: MC Variation sample #114<br>NPratio: 1.039106051327928<br>Vmin_V: 2.5<br>Vmax_V: 4.2<br>cathodePorosity: 0.14277<br>anodePorosity: 0.16218<br>cathodeThickness_um: 40.15344<br>anodeThickness_um: 48.96042<br>copperThickness_um: 11.2<br>aluminumThickness_um: 22.2<br>separatorThickness_um: 16.8<br>electrolyteBuffer_rel: 0.2<br>lampe: 0<br>lamne: 0<br>lli: 0",
          "Design: MC Variation sample #115<br>NPratio: 1.039106051327928<br>Vmin_V: 2.5<br>Vmax_V: 4.2<br>cathodePorosity: 0.13615<br>anodePorosity: 0.16734<br>cathodeThickness_um: 36.40984<br>anodeThickness_um: 47.52998<br>copperThickness_um: 11.2<br>aluminumThickness_um: 22.2<br>separatorThickness_um: 16.8<br>electrolyteBuffer_rel: 0.2<br>lampe: 0<br>lamne: 0<br>lli: 0",
          "Design: MC Variation sample #116<br>NPratio: 1.039106051327928<br>Vmin_V: 2.5<br>Vmax_V: 4.2<br>cathodePorosity: 0.14407<br>anodePorosity: 0.17087<br>cathodeThickness_um: 39.11312<br>anodeThickness_um: 48.60809<br>copperThickness_um: 11.2<br>aluminumThickness_um: 22.2<br>separatorThickness_um: 16.8<br>electrolyteBuffer_rel: 0.2<br>lampe: 0<br>lamne: 0<br>lli: 0",
          "Design: MC Variation sample #117<br>NPratio: 1.039106051327928<br>Vmin_V: 2.5<br>Vmax_V: 4.2<br>cathodePorosity: 0.14148<br>anodePorosity: 0.16355<br>cathodeThickness_um: 40.3474<br>anodeThickness_um: 49.34196<br>copperThickness_um: 11.2<br>aluminumThickness_um: 22.2<br>separatorThickness_um: 16.8<br>electrolyteBuffer_rel: 0.2<br>lampe: 0<br>lamne: 0<br>lli: 0",
          "Design: MC Variation sample #118<br>NPratio: 1.039106051327928<br>Vmin_V: 2.5<br>Vmax_V: 4.2<br>cathodePorosity: 0.14042<br>anodePorosity: 0.16606<br>cathodeThickness_um: 38.76911<br>anodeThickness_um: 46.34293<br>copperThickness_um: 11.2<br>aluminumThickness_um: 22.2<br>separatorThickness_um: 16.8<br>electrolyteBuffer_rel: 0.2<br>lampe: 0<br>lamne: 0<br>lli: 0",
          "Design: MC Variation sample #119<br>NPratio: 1.039106051327928<br>Vmin_V: 2.5<br>Vmax_V: 4.2<br>cathodePorosity: 0.14387<br>anodePorosity: 0.16321<br>cathodeThickness_um: 39.43844<br>anodeThickness_um: 44.25056<br>copperThickness_um: 11.2<br>aluminumThickness_um: 22.2<br>separatorThickness_um: 16.8<br>electrolyteBuffer_rel: 0.2<br>lampe: 0<br>lamne: 0<br>lli: 0",
          "Design: MC Variation sample #120<br>NPratio: 1.039106051327928<br>Vmin_V: 2.5<br>Vmax_V: 4.2<br>cathodePorosity: 0.13829<br>anodePorosity: 0.15887<br>cathodeThickness_um: 34.98231<br>anodeThickness_um: 51.48823<br>copperThickness_um: 11.2<br>aluminumThickness_um: 22.2<br>separatorThickness_um: 16.8<br>electrolyteBuffer_rel: 0.2<br>lampe: 0<br>lamne: 0<br>lli: 0",
          "Design: MC Variation sample #121<br>NPratio: 1.039106051327928<br>Vmin_V: 2.5<br>Vmax_V: 4.2<br>cathodePorosity: 0.14253<br>anodePorosity: 0.16617<br>cathodeThickness_um: 40.00021<br>anodeThickness_um: 46.45853<br>copperThickness_um: 11.2<br>aluminumThickness_um: 22.2<br>separatorThickness_um: 16.8<br>electrolyteBuffer_rel: 0.2<br>lampe: 0<br>lamne: 0<br>lli: 0",
          "Design: MC Variation sample #122<br>NPratio: 1.039106051327928<br>Vmin_V: 2.5<br>Vmax_V: 4.2<br>cathodePorosity: 0.13235<br>anodePorosity: 0.17538<br>cathodeThickness_um: 38.9981<br>anodeThickness_um: 45.35722<br>copperThickness_um: 11.2<br>aluminumThickness_um: 22.2<br>separatorThickness_um: 16.8<br>electrolyteBuffer_rel: 0.2<br>lampe: 0<br>lamne: 0<br>lli: 0",
          "Design: MC Variation sample #123<br>NPratio: 1.039106051327928<br>Vmin_V: 2.5<br>Vmax_V: 4.2<br>cathodePorosity: 0.14023<br>anodePorosity: 0.15904<br>cathodeThickness_um: 38.77998<br>anodeThickness_um: 49.21675<br>copperThickness_um: 11.2<br>aluminumThickness_um: 22.2<br>separatorThickness_um: 16.8<br>electrolyteBuffer_rel: 0.2<br>lampe: 0<br>lamne: 0<br>lli: 0",
          "Design: MC Variation sample #124<br>NPratio: 1.039106051327928<br>Vmin_V: 2.5<br>Vmax_V: 4.2<br>cathodePorosity: 0.14264<br>anodePorosity: 0.16533<br>cathodeThickness_um: 39.90543<br>anodeThickness_um: 47.00089<br>copperThickness_um: 11.2<br>aluminumThickness_um: 22.2<br>separatorThickness_um: 16.8<br>electrolyteBuffer_rel: 0.2<br>lampe: 0<br>lamne: 0<br>lli: 0",
          "Design: MC Variation sample #125<br>NPratio: 1.039106051327928<br>Vmin_V: 2.5<br>Vmax_V: 4.2<br>cathodePorosity: 0.14385<br>anodePorosity: 0.16375<br>cathodeThickness_um: 37.6826<br>anodeThickness_um: 47.64904<br>copperThickness_um: 11.2<br>aluminumThickness_um: 22.2<br>separatorThickness_um: 16.8<br>electrolyteBuffer_rel: 0.2<br>lampe: 0<br>lamne: 0<br>lli: 0",
          "Design: MC Variation sample #126<br>NPratio: 1.039106051327928<br>Vmin_V: 2.5<br>Vmax_V: 4.2<br>cathodePorosity: 0.14135<br>anodePorosity: 0.16566<br>cathodeThickness_um: 38.97594<br>anodeThickness_um: 46.42131<br>copperThickness_um: 11.2<br>aluminumThickness_um: 22.2<br>separatorThickness_um: 16.8<br>electrolyteBuffer_rel: 0.2<br>lampe: 0<br>lamne: 0<br>lli: 0",
          "Design: MC Variation sample #127<br>NPratio: 1.039106051327928<br>Vmin_V: 2.5<br>Vmax_V: 4.2<br>cathodePorosity: 0.14337<br>anodePorosity: 0.17488<br>cathodeThickness_um: 39.05401<br>anodeThickness_um: 50.69056<br>copperThickness_um: 11.2<br>aluminumThickness_um: 22.2<br>separatorThickness_um: 16.8<br>electrolyteBuffer_rel: 0.2<br>lampe: 0<br>lamne: 0<br>lli: 0",
          "Design: MC Variation sample #128<br>NPratio: 1.039106051327928<br>Vmin_V: 2.5<br>Vmax_V: 4.2<br>cathodePorosity: 0.14367<br>anodePorosity: 0.17205<br>cathodeThickness_um: 39.10263<br>anodeThickness_um: 49.41897<br>copperThickness_um: 11.2<br>aluminumThickness_um: 22.2<br>separatorThickness_um: 16.8<br>electrolyteBuffer_rel: 0.2<br>lampe: 0<br>lamne: 0<br>lli: 0",
          "Design: MC Variation sample #129<br>NPratio: 1.039106051327928<br>Vmin_V: 2.5<br>Vmax_V: 4.2<br>cathodePorosity: 0.13732<br>anodePorosity: 0.16704<br>cathodeThickness_um: 33.94413<br>anodeThickness_um: 48.95831<br>copperThickness_um: 11.2<br>aluminumThickness_um: 22.2<br>separatorThickness_um: 16.8<br>electrolyteBuffer_rel: 0.2<br>lampe: 0<br>lamne: 0<br>lli: 0",
          "Design: MC Variation sample #130<br>NPratio: 1.039106051327928<br>Vmin_V: 2.5<br>Vmax_V: 4.2<br>cathodePorosity: 0.14422<br>anodePorosity: 0.1666<br>cathodeThickness_um: 37.76685<br>anodeThickness_um: 51.92197<br>copperThickness_um: 11.2<br>aluminumThickness_um: 22.2<br>separatorThickness_um: 16.8<br>electrolyteBuffer_rel: 0.2<br>lampe: 0<br>lamne: 0<br>lli: 0",
          "Design: MC Variation sample #131<br>NPratio: 1.039106051327928<br>Vmin_V: 2.5<br>Vmax_V: 4.2<br>cathodePorosity: 0.14216134985845785<br>anodePorosity: 0.17205<br>cathodeThickness_um: 34.83817<br>anodeThickness_um: 46.3976<br>copperThickness_um: 11.2<br>aluminumThickness_um: 22.2<br>separatorThickness_um: 16.8<br>electrolyteBuffer_rel: 0.2<br>lampe: 0<br>lamne: 0<br>lli: 0",
          "Design: MC Variation sample #132<br>NPratio: 1.039106051327928<br>Vmin_V: 2.5<br>Vmax_V: 4.2<br>cathodePorosity: 0.13536<br>anodePorosity: 0.16098<br>cathodeThickness_um: 37.09423<br>anodeThickness_um: 50.44942<br>copperThickness_um: 11.2<br>aluminumThickness_um: 22.2<br>separatorThickness_um: 16.8<br>electrolyteBuffer_rel: 0.2<br>lampe: 0<br>lamne: 0<br>lli: 0",
          "Design: MC Variation sample #133<br>NPratio: 1.039106051327928<br>Vmin_V: 2.5<br>Vmax_V: 4.2<br>cathodePorosity: 0.14253<br>anodePorosity: 0.16996<br>cathodeThickness_um: 39.47031<br>anodeThickness_um: 51.4527<br>copperThickness_um: 11.2<br>aluminumThickness_um: 22.2<br>separatorThickness_um: 16.8<br>electrolyteBuffer_rel: 0.2<br>lampe: 0<br>lamne: 0<br>lli: 0",
          "Design: MC Variation sample #134<br>NPratio: 1.039106051327928<br>Vmin_V: 2.5<br>Vmax_V: 4.2<br>cathodePorosity: 0.1408<br>anodePorosity: 0.16287<br>cathodeThickness_um: 34.44472<br>anodeThickness_um: 47.59723<br>copperThickness_um: 11.2<br>aluminumThickness_um: 22.2<br>separatorThickness_um: 16.8<br>electrolyteBuffer_rel: 0.2<br>lampe: 0<br>lamne: 0<br>lli: 0",
          "Design: MC Variation sample #135<br>NPratio: 1.039106051327928<br>Vmin_V: 2.5<br>Vmax_V: 4.2<br>cathodePorosity: 0.14808<br>anodePorosity: 0.17057<br>cathodeThickness_um: 36.55901<br>anodeThickness_um: 48.88428<br>copperThickness_um: 11.2<br>aluminumThickness_um: 22.2<br>separatorThickness_um: 16.8<br>electrolyteBuffer_rel: 0.2<br>lampe: 0<br>lamne: 0<br>lli: 0",
          "Design: MC Variation sample #136<br>NPratio: 1.039106051327928<br>Vmin_V: 2.5<br>Vmax_V: 4.2<br>cathodePorosity: 0.13049<br>anodePorosity: 0.173<br>cathodeThickness_um: 37.75187<br>anodeThickness_um: 49.33393<br>copperThickness_um: 11.2<br>aluminumThickness_um: 22.2<br>separatorThickness_um: 16.8<br>electrolyteBuffer_rel: 0.2<br>lampe: 0<br>lamne: 0<br>lli: 0",
          "Design: MC Variation sample #137<br>NPratio: 1.039106051327928<br>Vmin_V: 2.5<br>Vmax_V: 4.2<br>cathodePorosity: 0.14909<br>anodePorosity: 0.16331<br>cathodeThickness_um: 36.99388<br>anodeThickness_um: 51.27345<br>copperThickness_um: 11.2<br>aluminumThickness_um: 22.2<br>separatorThickness_um: 16.8<br>electrolyteBuffer_rel: 0.2<br>lampe: 0<br>lamne: 0<br>lli: 0",
          "Design: MC Variation sample #138<br>NPratio: 1.039106051327928<br>Vmin_V: 2.5<br>Vmax_V: 4.2<br>cathodePorosity: 0.14023<br>anodePorosity: 0.16613<br>cathodeThickness_um: 35.03155<br>anodeThickness_um: 47.64787<br>copperThickness_um: 11.2<br>aluminumThickness_um: 22.2<br>separatorThickness_um: 16.8<br>electrolyteBuffer_rel: 0.2<br>lampe: 0<br>lamne: 0<br>lli: 0",
          "Design: MC Variation sample #139<br>NPratio: 1.039106051327928<br>Vmin_V: 2.5<br>Vmax_V: 4.2<br>cathodePorosity: 0.14728<br>anodePorosity: 0.17468<br>cathodeThickness_um: 35.43237<br>anodeThickness_um: 50.85152<br>copperThickness_um: 11.2<br>aluminumThickness_um: 22.2<br>separatorThickness_um: 16.8<br>electrolyteBuffer_rel: 0.2<br>lampe: 0<br>lamne: 0<br>lli: 0",
          "Design: MC Variation sample #140<br>NPratio: 1.039106051327928<br>Vmin_V: 2.5<br>Vmax_V: 4.2<br>cathodePorosity: 0.15201<br>anodePorosity: 0.17877<br>cathodeThickness_um: 35.78867<br>anodeThickness_um: 49.3598<br>copperThickness_um: 11.2<br>aluminumThickness_um: 22.2<br>separatorThickness_um: 16.8<br>electrolyteBuffer_rel: 0.2<br>lampe: 0<br>lamne: 0<br>lli: 0",
          "Design: MC Variation sample #141<br>NPratio: 1.039106051327928<br>Vmin_V: 2.5<br>Vmax_V: 4.2<br>cathodePorosity: 0.14424<br>anodePorosity: 0.16158<br>cathodeThickness_um: 37.41922<br>anodeThickness_um: 46.66768<br>copperThickness_um: 11.2<br>aluminumThickness_um: 22.2<br>separatorThickness_um: 16.8<br>electrolyteBuffer_rel: 0.2<br>lampe: 0<br>lamne: 0<br>lli: 0",
          "Design: MC Variation sample #142<br>NPratio: 1.039106051327928<br>Vmin_V: 2.5<br>Vmax_V: 4.2<br>cathodePorosity: 0.13466<br>anodePorosity: 0.17299<br>cathodeThickness_um: 40.41961<br>anodeThickness_um: 53.80401<br>copperThickness_um: 11.2<br>aluminumThickness_um: 22.2<br>separatorThickness_um: 16.8<br>electrolyteBuffer_rel: 0.2<br>lampe: 0<br>lamne: 0<br>lli: 0",
          "Design: MC Variation sample #143<br>NPratio: 1.039106051327928<br>Vmin_V: 2.5<br>Vmax_V: 4.2<br>cathodePorosity: 0.13513<br>anodePorosity: 0.15942<br>cathodeThickness_um: 35.5508<br>anodeThickness_um: 48.20703<br>copperThickness_um: 11.2<br>aluminumThickness_um: 22.2<br>separatorThickness_um: 16.8<br>electrolyteBuffer_rel: 0.2<br>lampe: 0<br>lamne: 0<br>lli: 0",
          "Design: MC Variation sample #144<br>NPratio: 1.039106051327928<br>Vmin_V: 2.5<br>Vmax_V: 4.2<br>cathodePorosity: 0.12932<br>anodePorosity: 0.1651<br>cathodeThickness_um: 40.86219<br>anodeThickness_um: 48.34082<br>copperThickness_um: 11.2<br>aluminumThickness_um: 22.2<br>separatorThickness_um: 16.8<br>electrolyteBuffer_rel: 0.2<br>lampe: 0<br>lamne: 0<br>lli: 0",
          "Design: MC Variation sample #145<br>NPratio: 1.039106051327928<br>Vmin_V: 2.5<br>Vmax_V: 4.2<br>cathodePorosity: 0.1408<br>anodePorosity: 0.16012<br>cathodeThickness_um: 38.6795<br>anodeThickness_um: 45.25791<br>copperThickness_um: 11.2<br>aluminumThickness_um: 22.2<br>separatorThickness_um: 16.8<br>electrolyteBuffer_rel: 0.2<br>lampe: 0<br>lamne: 0<br>lli: 0",
          "Design: MC Variation sample #146<br>NPratio: 1.039106051327928<br>Vmin_V: 2.5<br>Vmax_V: 4.2<br>cathodePorosity: 0.15182<br>anodePorosity: 0.16532<br>cathodeThickness_um: 36.78581<br>anodeThickness_um: 49.40572<br>copperThickness_um: 11.2<br>aluminumThickness_um: 22.2<br>separatorThickness_um: 16.8<br>electrolyteBuffer_rel: 0.2<br>lampe: 0<br>lamne: 0<br>lli: 0",
          "Design: MC Variation sample #147<br>NPratio: 1.039106051327928<br>Vmin_V: 2.5<br>Vmax_V: 4.2<br>cathodePorosity: 0.13964<br>anodePorosity: 0.16985<br>cathodeThickness_um: 38.04923<br>anodeThickness_um: 45.62539<br>copperThickness_um: 11.2<br>aluminumThickness_um: 22.2<br>separatorThickness_um: 16.8<br>electrolyteBuffer_rel: 0.2<br>lampe: 0<br>lamne: 0<br>lli: 0",
          "Design: MC Variation sample #148<br>NPratio: 1.039106051327928<br>Vmin_V: 2.5<br>Vmax_V: 4.2<br>cathodePorosity: 0.14299<br>anodePorosity: 0.16562<br>cathodeThickness_um: 36.52691<br>anodeThickness_um: 49.81799<br>copperThickness_um: 11.2<br>aluminumThickness_um: 22.2<br>separatorThickness_um: 16.8<br>electrolyteBuffer_rel: 0.2<br>lampe: 0<br>lamne: 0<br>lli: 0",
          "Design: MC Variation sample #149<br>NPratio: 1.039106051327928<br>Vmin_V: 2.5<br>Vmax_V: 4.2<br>cathodePorosity: 0.15081<br>anodePorosity: 0.1691<br>cathodeThickness_um: 40.73956<br>anodeThickness_um: 46.19143<br>copperThickness_um: 11.2<br>aluminumThickness_um: 22.2<br>separatorThickness_um: 16.8<br>electrolyteBuffer_rel: 0.2<br>lampe: 0<br>lamne: 0<br>lli: 0",
          "Design: MC Variation sample #150<br>NPratio: 1.039106051327928<br>Vmin_V: 2.5<br>Vmax_V: 4.2<br>cathodePorosity: 0.13835<br>anodePorosity: 0.16522<br>cathodeThickness_um: 37.77387<br>anodeThickness_um: 54.83455<br>copperThickness_um: 11.2<br>aluminumThickness_um: 22.2<br>separatorThickness_um: 16.8<br>electrolyteBuffer_rel: 0.2<br>lampe: 0<br>lamne: 0<br>lli: 0",
          "Design: MC Variation sample #151<br>NPratio: 1.039106051327928<br>Vmin_V: 2.5<br>Vmax_V: 4.2<br>cathodePorosity: 0.14623<br>anodePorosity: 0.17463<br>cathodeThickness_um: 37.70977<br>anodeThickness_um: 44.79095<br>copperThickness_um: 11.2<br>aluminumThickness_um: 22.2<br>separatorThickness_um: 16.8<br>electrolyteBuffer_rel: 0.2<br>lampe: 0<br>lamne: 0<br>lli: 0",
          "Design: MC Variation sample #152<br>NPratio: 1.039106051327928<br>Vmin_V: 2.5<br>Vmax_V: 4.2<br>cathodePorosity: 0.13549<br>anodePorosity: 0.16357<br>cathodeThickness_um: 37.67504<br>anodeThickness_um: 44.56817<br>copperThickness_um: 11.2<br>aluminumThickness_um: 22.2<br>separatorThickness_um: 16.8<br>electrolyteBuffer_rel: 0.2<br>lampe: 0<br>lamne: 0<br>lli: 0",
          "Design: MC Variation sample #153<br>NPratio: 1.039106051327928<br>Vmin_V: 2.5<br>Vmax_V: 4.2<br>cathodePorosity: 0.14411<br>anodePorosity: 0.17008<br>cathodeThickness_um: 35.98678<br>anodeThickness_um: 48.15225<br>copperThickness_um: 11.2<br>aluminumThickness_um: 22.2<br>separatorThickness_um: 16.8<br>electrolyteBuffer_rel: 0.2<br>lampe: 0<br>lamne: 0<br>lli: 0",
          "Design: MC Variation sample #154<br>NPratio: 1.039106051327928<br>Vmin_V: 2.5<br>Vmax_V: 4.2<br>cathodePorosity: 0.1394<br>anodePorosity: 0.16088<br>cathodeThickness_um: 37.10236<br>anodeThickness_um: 46.37418<br>copperThickness_um: 11.2<br>aluminumThickness_um: 22.2<br>separatorThickness_um: 16.8<br>electrolyteBuffer_rel: 0.2<br>lampe: 0<br>lamne: 0<br>lli: 0",
          "Design: MC Variation sample #155<br>NPratio: 1.039106051327928<br>Vmin_V: 2.5<br>Vmax_V: 4.2<br>cathodePorosity: 0.1377<br>anodePorosity: 0.1665<br>cathodeThickness_um: 36.05837<br>anodeThickness_um: 48.33264<br>copperThickness_um: 11.2<br>aluminumThickness_um: 22.2<br>separatorThickness_um: 16.8<br>electrolyteBuffer_rel: 0.2<br>lampe: 0<br>lamne: 0<br>lli: 0",
          "Design: MC Variation sample #156<br>NPratio: 1.039106051327928<br>Vmin_V: 2.5<br>Vmax_V: 4.2<br>cathodePorosity: 0.14468<br>anodePorosity: 0.16661<br>cathodeThickness_um: 38.36822<br>anodeThickness_um: 49.33552<br>copperThickness_um: 11.2<br>aluminumThickness_um: 22.2<br>separatorThickness_um: 16.8<br>electrolyteBuffer_rel: 0.2<br>lampe: 0<br>lamne: 0<br>lli: 0",
          "Design: MC Variation sample #157<br>NPratio: 1.039106051327928<br>Vmin_V: 2.5<br>Vmax_V: 4.2<br>cathodePorosity: 0.14028<br>anodePorosity: 0.157<br>cathodeThickness_um: 38.68498<br>anodeThickness_um: 49.57663<br>copperThickness_um: 11.2<br>aluminumThickness_um: 22.2<br>separatorThickness_um: 16.8<br>electrolyteBuffer_rel: 0.2<br>lampe: 0<br>lamne: 0<br>lli: 0",
          "Design: MC Variation sample #158<br>NPratio: 1.039106051327928<br>Vmin_V: 2.5<br>Vmax_V: 4.2<br>cathodePorosity: 0.14295<br>anodePorosity: 0.15732<br>cathodeThickness_um: 37.14859<br>anodeThickness_um: 51.8497<br>copperThickness_um: 11.2<br>aluminumThickness_um: 22.2<br>separatorThickness_um: 16.8<br>electrolyteBuffer_rel: 0.2<br>lampe: 0<br>lamne: 0<br>lli: 0",
          "Design: MC Variation sample #159<br>NPratio: 1.039106051327928<br>Vmin_V: 2.5<br>Vmax_V: 4.2<br>cathodePorosity: 0.1444<br>anodePorosity: 0.16608<br>cathodeThickness_um: 38.74772<br>anodeThickness_um: 49.5042<br>copperThickness_um: 11.2<br>aluminumThickness_um: 22.2<br>separatorThickness_um: 16.8<br>electrolyteBuffer_rel: 0.2<br>lampe: 0<br>lamne: 0<br>lli: 0",
          "Design: MC Variation sample #160<br>NPratio: 1.039106051327928<br>Vmin_V: 2.5<br>Vmax_V: 4.2<br>cathodePorosity: 0.14292<br>anodePorosity: 0.16706<br>cathodeThickness_um: 37.1639<br>anodeThickness_um: 46.98692<br>copperThickness_um: 11.2<br>aluminumThickness_um: 22.2<br>separatorThickness_um: 16.8<br>electrolyteBuffer_rel: 0.2<br>lampe: 0<br>lamne: 0<br>lli: 0",
          "Design: MC Variation sample #161<br>NPratio: 1.039106051327928<br>Vmin_V: 2.5<br>Vmax_V: 4.2<br>cathodePorosity: 0.14115<br>anodePorosity: 0.17394<br>cathodeThickness_um: 36.56217<br>anodeThickness_um: 48.48786<br>copperThickness_um: 11.2<br>aluminumThickness_um: 22.2<br>separatorThickness_um: 16.8<br>electrolyteBuffer_rel: 0.2<br>lampe: 0<br>lamne: 0<br>lli: 0",
          "Design: MC Variation sample #162<br>NPratio: 1.039106051327928<br>Vmin_V: 2.5<br>Vmax_V: 4.2<br>cathodePorosity: 0.13791<br>anodePorosity: 0.17123<br>cathodeThickness_um: 35.72729<br>anodeThickness_um: 51.12618<br>copperThickness_um: 11.2<br>aluminumThickness_um: 22.2<br>separatorThickness_um: 16.8<br>electrolyteBuffer_rel: 0.2<br>lampe: 0<br>lamne: 0<br>lli: 0",
          "Design: MC Variation sample #163<br>NPratio: 1.039106051327928<br>Vmin_V: 2.5<br>Vmax_V: 4.2<br>cathodePorosity: 0.14319<br>anodePorosity: 0.16047<br>cathodeThickness_um: 38.04101<br>anodeThickness_um: 49.21829<br>copperThickness_um: 11.2<br>aluminumThickness_um: 22.2<br>separatorThickness_um: 16.8<br>electrolyteBuffer_rel: 0.2<br>lampe: 0<br>lamne: 0<br>lli: 0",
          "Design: MC Variation sample #164<br>NPratio: 1.039106051327928<br>Vmin_V: 2.5<br>Vmax_V: 4.2<br>cathodePorosity: 0.14011<br>anodePorosity: 0.17283<br>cathodeThickness_um: 35.77818<br>anodeThickness_um: 49.98312<br>copperThickness_um: 11.2<br>aluminumThickness_um: 22.2<br>separatorThickness_um: 16.8<br>electrolyteBuffer_rel: 0.2<br>lampe: 0<br>lamne: 0<br>lli: 0",
          "Design: MC Variation sample #165<br>NPratio: 1.039106051327928<br>Vmin_V: 2.5<br>Vmax_V: 4.2<br>cathodePorosity: 0.14531<br>anodePorosity: 0.17398<br>cathodeThickness_um: 37.83545<br>anodeThickness_um: 50.21179<br>copperThickness_um: 11.2<br>aluminumThickness_um: 22.2<br>separatorThickness_um: 16.8<br>electrolyteBuffer_rel: 0.2<br>lampe: 0<br>lamne: 0<br>lli: 0",
          "Design: MC Variation sample #166<br>NPratio: 1.039106051327928<br>Vmin_V: 2.5<br>Vmax_V: 4.2<br>cathodePorosity: 0.14053<br>anodePorosity: 0.16205<br>cathodeThickness_um: 37.44738<br>anodeThickness_um: 50.12685<br>copperThickness_um: 11.2<br>aluminumThickness_um: 22.2<br>separatorThickness_um: 16.8<br>electrolyteBuffer_rel: 0.2<br>lampe: 0<br>lamne: 0<br>lli: 0",
          "Design: MC Variation sample #167<br>NPratio: 1.039106051327928<br>Vmin_V: 2.5<br>Vmax_V: 4.2<br>cathodePorosity: 0.1354<br>anodePorosity: 0.16736<br>cathodeThickness_um: 36.18655<br>anodeThickness_um: 49.34277<br>copperThickness_um: 11.2<br>aluminumThickness_um: 22.2<br>separatorThickness_um: 16.8<br>electrolyteBuffer_rel: 0.2<br>lampe: 0<br>lamne: 0<br>lli: 0",
          "Design: MC Variation sample #168<br>NPratio: 1.039106051327928<br>Vmin_V: 2.5<br>Vmax_V: 4.2<br>cathodePorosity: 0.14139<br>anodePorosity: 0.16032<br>cathodeThickness_um: 38.79257<br>anodeThickness_um: 44.36085<br>copperThickness_um: 11.2<br>aluminumThickness_um: 22.2<br>separatorThickness_um: 16.8<br>electrolyteBuffer_rel: 0.2<br>lampe: 0<br>lamne: 0<br>lli: 0",
          "Design: MC Variation sample #169<br>NPratio: 1.039106051327928<br>Vmin_V: 2.5<br>Vmax_V: 4.2<br>cathodePorosity: 0.1419<br>anodePorosity: 0.17161<br>cathodeThickness_um: 35.71155<br>anodeThickness_um: 46.4702<br>copperThickness_um: 11.2<br>aluminumThickness_um: 22.2<br>separatorThickness_um: 16.8<br>electrolyteBuffer_rel: 0.2<br>lampe: 0<br>lamne: 0<br>lli: 0",
          "Design: MC Variation sample #170<br>NPratio: 1.039106051327928<br>Vmin_V: 2.5<br>Vmax_V: 4.2<br>cathodePorosity: 0.1301<br>anodePorosity: 0.16576<br>cathodeThickness_um: 38.72859<br>anodeThickness_um: 49.34127<br>copperThickness_um: 11.2<br>aluminumThickness_um: 22.2<br>separatorThickness_um: 16.8<br>electrolyteBuffer_rel: 0.2<br>lampe: 0<br>lamne: 0<br>lli: 0",
          "Design: MC Variation sample #171<br>NPratio: 1.039106051327928<br>Vmin_V: 2.5<br>Vmax_V: 4.2<br>cathodePorosity: 0.1397<br>anodePorosity: 0.16482<br>cathodeThickness_um: 38.1405<br>anodeThickness_um: 49.34491<br>copperThickness_um: 11.2<br>aluminumThickness_um: 22.2<br>separatorThickness_um: 16.8<br>electrolyteBuffer_rel: 0.2<br>lampe: 0<br>lamne: 0<br>lli: 0",
          "Design: MC Variation sample #172<br>NPratio: 1.039106051327928<br>Vmin_V: 2.5<br>Vmax_V: 4.2<br>cathodePorosity: 0.14225<br>anodePorosity: 0.17302<br>cathodeThickness_um: 36.61885<br>anodeThickness_um: 47.21354<br>copperThickness_um: 11.2<br>aluminumThickness_um: 22.2<br>separatorThickness_um: 16.8<br>electrolyteBuffer_rel: 0.2<br>lampe: 0<br>lamne: 0<br>lli: 0",
          "Design: MC Variation sample #173<br>NPratio: 1.039106051327928<br>Vmin_V: 2.5<br>Vmax_V: 4.2<br>cathodePorosity: 0.1499<br>anodePorosity: 0.1677<br>cathodeThickness_um: 35.51072<br>anodeThickness_um: 48.11693<br>copperThickness_um: 11.2<br>aluminumThickness_um: 22.2<br>separatorThickness_um: 16.8<br>electrolyteBuffer_rel: 0.2<br>lampe: 0<br>lamne: 0<br>lli: 0",
          "Design: MC Variation sample #174<br>NPratio: 1.039106051327928<br>Vmin_V: 2.5<br>Vmax_V: 4.2<br>cathodePorosity: 0.13173<br>anodePorosity: 0.16156<br>cathodeThickness_um: 34.93198<br>anodeThickness_um: 49.70635<br>copperThickness_um: 11.2<br>aluminumThickness_um: 22.2<br>separatorThickness_um: 16.8<br>electrolyteBuffer_rel: 0.2<br>lampe: 0<br>lamne: 0<br>lli: 0",
          "Design: MC Variation sample #175<br>NPratio: 1.039106051327928<br>Vmin_V: 2.5<br>Vmax_V: 4.2<br>cathodePorosity: 0.13233<br>anodePorosity: 0.15944<br>cathodeThickness_um: 38.54864<br>anodeThickness_um: 46.16652<br>copperThickness_um: 11.2<br>aluminumThickness_um: 22.2<br>separatorThickness_um: 16.8<br>electrolyteBuffer_rel: 0.2<br>lampe: 0<br>lamne: 0<br>lli: 0",
          "Design: MC Variation sample #176<br>NPratio: 1.039106051327928<br>Vmin_V: 2.5<br>Vmax_V: 4.2<br>cathodePorosity: 0.13346<br>anodePorosity: 0.15899<br>cathodeThickness_um: 36.84392<br>anodeThickness_um: 49.33585<br>copperThickness_um: 11.2<br>aluminumThickness_um: 22.2<br>separatorThickness_um: 16.8<br>electrolyteBuffer_rel: 0.2<br>lampe: 0<br>lamne: 0<br>lli: 0",
          "Design: MC Variation sample #177<br>NPratio: 1.039106051327928<br>Vmin_V: 2.5<br>Vmax_V: 4.2<br>cathodePorosity: 0.14585<br>anodePorosity: 0.16916<br>cathodeThickness_um: 35.05111<br>anodeThickness_um: 48.87922<br>copperThickness_um: 11.2<br>aluminumThickness_um: 22.2<br>separatorThickness_um: 16.8<br>electrolyteBuffer_rel: 0.2<br>lampe: 0<br>lamne: 0<br>lli: 0",
          "Design: MC Variation sample #178<br>NPratio: 1.039106051327928<br>Vmin_V: 2.5<br>Vmax_V: 4.2<br>cathodePorosity: 0.14465<br>anodePorosity: 0.16591<br>cathodeThickness_um: 34.78929<br>anodeThickness_um: 47.47459<br>copperThickness_um: 11.2<br>aluminumThickness_um: 22.2<br>separatorThickness_um: 16.8<br>electrolyteBuffer_rel: 0.2<br>lampe: 0<br>lamne: 0<br>lli: 0",
          "Design: MC Variation sample #179<br>NPratio: 1.039106051327928<br>Vmin_V: 2.5<br>Vmax_V: 4.2<br>cathodePorosity: 0.1401<br>anodePorosity: 0.17307<br>cathodeThickness_um: 37.51325<br>anodeThickness_um: 47.89943<br>copperThickness_um: 11.2<br>aluminumThickness_um: 22.2<br>separatorThickness_um: 16.8<br>electrolyteBuffer_rel: 0.2<br>lampe: 0<br>lamne: 0<br>lli: 0",
          "Design: MC Variation sample #180<br>NPratio: 1.039106051327928<br>Vmin_V: 2.5<br>Vmax_V: 4.2<br>cathodePorosity: 0.14347<br>anodePorosity: 0.17265<br>cathodeThickness_um: 38.76176<br>anodeThickness_um: 48.08526<br>copperThickness_um: 11.2<br>aluminumThickness_um: 22.2<br>separatorThickness_um: 16.8<br>electrolyteBuffer_rel: 0.2<br>lampe: 0<br>lamne: 0<br>lli: 0",
          "Design: MC Variation sample #181<br>NPratio: 1.039106051327928<br>Vmin_V: 2.5<br>Vmax_V: 4.2<br>cathodePorosity: 0.14907<br>anodePorosity: 0.17916<br>cathodeThickness_um: 35.37999<br>anodeThickness_um: 50.54517<br>copperThickness_um: 11.2<br>aluminumThickness_um: 22.2<br>separatorThickness_um: 16.8<br>electrolyteBuffer_rel: 0.2<br>lampe: 0<br>lamne: 0<br>lli: 0",
          "Design: MC Variation sample #182<br>NPratio: 1.039106051327928<br>Vmin_V: 2.5<br>Vmax_V: 4.2<br>cathodePorosity: 0.1362<br>anodePorosity: 0.18852<br>cathodeThickness_um: 36.17162<br>anodeThickness_um: 47.99094<br>copperThickness_um: 11.2<br>aluminumThickness_um: 22.2<br>separatorThickness_um: 16.8<br>electrolyteBuffer_rel: 0.2<br>lampe: 0<br>lamne: 0<br>lli: 0",
          "Design: MC Variation sample #183<br>NPratio: 1.039106051327928<br>Vmin_V: 2.5<br>Vmax_V: 4.2<br>cathodePorosity: 0.14425<br>anodePorosity: 0.17612<br>cathodeThickness_um: 37.98484<br>anodeThickness_um: 45.41068<br>copperThickness_um: 11.2<br>aluminumThickness_um: 22.2<br>separatorThickness_um: 16.8<br>electrolyteBuffer_rel: 0.2<br>lampe: 0<br>lamne: 0<br>lli: 0",
          "Design: MC Variation sample #184<br>NPratio: 1.039106051327928<br>Vmin_V: 2.5<br>Vmax_V: 4.2<br>cathodePorosity: 0.14058<br>anodePorosity: 0.16983<br>cathodeThickness_um: 36.1245<br>anodeThickness_um: 45.91664<br>copperThickness_um: 11.2<br>aluminumThickness_um: 22.2<br>separatorThickness_um: 16.8<br>electrolyteBuffer_rel: 0.2<br>lampe: 0<br>lamne: 0<br>lli: 0",
          "Design: MC Variation sample #185<br>NPratio: 1.039106051327928<br>Vmin_V: 2.5<br>Vmax_V: 4.2<br>cathodePorosity: 0.14227<br>anodePorosity: 0.16409<br>cathodeThickness_um: 38.86126<br>anodeThickness_um: 47.62882<br>copperThickness_um: 11.2<br>aluminumThickness_um: 22.2<br>separatorThickness_um: 16.8<br>electrolyteBuffer_rel: 0.2<br>lampe: 0<br>lamne: 0<br>lli: 0",
          "Design: MC Variation sample #186<br>NPratio: 1.039106051327928<br>Vmin_V: 2.5<br>Vmax_V: 4.2<br>cathodePorosity: 0.13355<br>anodePorosity: 0.1611<br>cathodeThickness_um: 40.01138<br>anodeThickness_um: 47.09218<br>copperThickness_um: 11.2<br>aluminumThickness_um: 22.2<br>separatorThickness_um: 16.8<br>electrolyteBuffer_rel: 0.2<br>lampe: 0<br>lamne: 0<br>lli: 0",
          "Design: MC Variation sample #187<br>NPratio: 1.039106051327928<br>Vmin_V: 2.5<br>Vmax_V: 4.2<br>cathodePorosity: 0.15381<br>anodePorosity: 0.16329<br>cathodeThickness_um: 35.301<br>anodeThickness_um: 50.10168<br>copperThickness_um: 11.2<br>aluminumThickness_um: 22.2<br>separatorThickness_um: 16.8<br>electrolyteBuffer_rel: 0.2<br>lampe: 0<br>lamne: 0<br>lli: 0",
          "Design: MC Variation sample #188<br>NPratio: 1.039106051327928<br>Vmin_V: 2.5<br>Vmax_V: 4.2<br>cathodePorosity: 0.14337<br>anodePorosity: 0.16177<br>cathodeThickness_um: 41.93369<br>anodeThickness_um: 46.02066<br>copperThickness_um: 11.2<br>aluminumThickness_um: 22.2<br>separatorThickness_um: 16.8<br>electrolyteBuffer_rel: 0.2<br>lampe: 0<br>lamne: 0<br>lli: 0",
          "Design: MC Variation sample #189<br>NPratio: 1.039106051327928<br>Vmin_V: 2.5<br>Vmax_V: 4.2<br>cathodePorosity: 0.14555<br>anodePorosity: 0.16086<br>cathodeThickness_um: 37.27867<br>anodeThickness_um: 52.47002<br>copperThickness_um: 11.2<br>aluminumThickness_um: 22.2<br>separatorThickness_um: 16.8<br>electrolyteBuffer_rel: 0.2<br>lampe: 0<br>lamne: 0<br>lli: 0",
          "Design: MC Variation sample #190<br>NPratio: 1.039106051327928<br>Vmin_V: 2.5<br>Vmax_V: 4.2<br>cathodePorosity: 0.1408<br>anodePorosity: 0.16083<br>cathodeThickness_um: 39.12464<br>anodeThickness_um: 49.78562<br>copperThickness_um: 11.2<br>aluminumThickness_um: 22.2<br>separatorThickness_um: 16.8<br>electrolyteBuffer_rel: 0.2<br>lampe: 0<br>lamne: 0<br>lli: 0",
          "Design: MC Variation sample #191<br>NPratio: 1.039106051327928<br>Vmin_V: 2.5<br>Vmax_V: 4.2<br>cathodePorosity: 0.13519<br>anodePorosity: 0.16697<br>cathodeThickness_um: 36.22135<br>anodeThickness_um: 49.00348<br>copperThickness_um: 11.2<br>aluminumThickness_um: 22.2<br>separatorThickness_um: 16.8<br>electrolyteBuffer_rel: 0.2<br>lampe: 0<br>lamne: 0<br>lli: 0",
          "Design: MC Variation sample #192<br>NPratio: 1.039106051327928<br>Vmin_V: 2.5<br>Vmax_V: 4.2<br>cathodePorosity: 0.13869<br>anodePorosity: 0.1539<br>cathodeThickness_um: 38.5832<br>anodeThickness_um: 45.39766<br>copperThickness_um: 11.2<br>aluminumThickness_um: 22.2<br>separatorThickness_um: 16.8<br>electrolyteBuffer_rel: 0.2<br>lampe: 0<br>lamne: 0<br>lli: 0",
          "Design: MC Variation sample #193<br>NPratio: 1.039106051327928<br>Vmin_V: 2.5<br>Vmax_V: 4.2<br>cathodePorosity: 0.15141<br>anodePorosity: 0.17798<br>cathodeThickness_um: 36.60736<br>anodeThickness_um: 47.4985<br>copperThickness_um: 11.2<br>aluminumThickness_um: 22.2<br>separatorThickness_um: 16.8<br>electrolyteBuffer_rel: 0.2<br>lampe: 0<br>lamne: 0<br>lli: 0",
          "Design: MC Variation sample #194<br>NPratio: 1.039106051327928<br>Vmin_V: 2.5<br>Vmax_V: 4.2<br>cathodePorosity: 0.14744<br>anodePorosity: 0.17065<br>cathodeThickness_um: 37.21601<br>anodeThickness_um: 47.87618<br>copperThickness_um: 11.2<br>aluminumThickness_um: 22.2<br>separatorThickness_um: 16.8<br>electrolyteBuffer_rel: 0.2<br>lampe: 0<br>lamne: 0<br>lli: 0",
          "Design: MC Variation sample #195<br>NPratio: 1.039106051327928<br>Vmin_V: 2.5<br>Vmax_V: 4.2<br>cathodePorosity: 0.14163<br>anodePorosity: 0.17951<br>cathodeThickness_um: 37.70807<br>anodeThickness_um: 47.71339<br>copperThickness_um: 11.2<br>aluminumThickness_um: 22.2<br>separatorThickness_um: 16.8<br>electrolyteBuffer_rel: 0.2<br>lampe: 0<br>lamne: 0<br>lli: 0",
          "Design: MC Variation sample #196<br>NPratio: 1.039106051327928<br>Vmin_V: 2.5<br>Vmax_V: 4.2<br>cathodePorosity: 0.13708<br>anodePorosity: 0.17002<br>cathodeThickness_um: 35.29738<br>anodeThickness_um: 48.29266<br>copperThickness_um: 11.2<br>aluminumThickness_um: 22.2<br>separatorThickness_um: 16.8<br>electrolyteBuffer_rel: 0.2<br>lampe: 0<br>lamne: 0<br>lli: 0",
          "Design: MC Variation sample #197<br>NPratio: 1.039106051327928<br>Vmin_V: 2.5<br>Vmax_V: 4.2<br>cathodePorosity: 0.1515<br>anodePorosity: 0.16501<br>cathodeThickness_um: 37.30989<br>anodeThickness_um: 50.71351<br>copperThickness_um: 11.2<br>aluminumThickness_um: 22.2<br>separatorThickness_um: 16.8<br>electrolyteBuffer_rel: 0.2<br>lampe: 0<br>lamne: 0<br>lli: 0",
          "Design: MC Variation sample #198<br>NPratio: 1.039106051327928<br>Vmin_V: 2.5<br>Vmax_V: 4.2<br>cathodePorosity: 0.14061<br>anodePorosity: 0.16119<br>cathodeThickness_um: 36.43064<br>anodeThickness_um: 51.46904<br>copperThickness_um: 11.2<br>aluminumThickness_um: 22.2<br>separatorThickness_um: 16.8<br>electrolyteBuffer_rel: 0.2<br>lampe: 0<br>lamne: 0<br>lli: 0",
          "Design: MC Variation sample #199<br>NPratio: 1.039106051327928<br>Vmin_V: 2.5<br>Vmax_V: 4.2<br>cathodePorosity: 0.13533<br>anodePorosity: 0.1751<br>cathodeThickness_um: 40.74956<br>anodeThickness_um: 48.19084<br>copperThickness_um: 11.2<br>aluminumThickness_um: 22.2<br>separatorThickness_um: 16.8<br>electrolyteBuffer_rel: 0.2<br>lampe: 0<br>lamne: 0<br>lli: 0",
          "Design: MC Variation sample #200<br>NPratio: 1.039106051327928<br>Vmin_V: 2.5<br>Vmax_V: 4.2<br>cathodePorosity: 0.14807<br>anodePorosity: 0.15493<br>cathodeThickness_um: 37.31451<br>anodeThickness_um: 44.37338<br>copperThickness_um: 11.2<br>aluminumThickness_um: 22.2<br>separatorThickness_um: 16.8<br>electrolyteBuffer_rel: 0.2<br>lampe: 0<br>lamne: 0<br>lli: 0"
         ],
         "type": "scatter",
         "x": [
          4.668339587362082,
          4.436255656875266,
          4.693740206702114,
          4.407702961940657,
          4.429371861148426,
          4.706573549350319,
          4.505028360771135,
          4.121220697233831,
          4.830110646094572,
          4.191634509823384,
          4.659095607993293,
          4.486161833844264,
          4.701238915302329,
          4.322383585736218,
          4.547549587494514,
          4.641501239901341,
          4.6035229474171775,
          4.834294711427678,
          4.441232546635966,
          4.6927404765895435,
          4.585149744694906,
          4.282703127877322,
          4.502755676217519,
          4.466605112846582,
          4.123404435572206,
          4.353114078116151,
          4.4593477921670015,
          4.2473412359555915,
          3.9925969848003158,
          4.448718701731313,
          4.243285086665824,
          4.200700155938971,
          4.642523683636571,
          4.530872013928517,
          4.370426813269816,
          4.903710661840383,
          4.666362510724657,
          4.231395917791308,
          4.491791528012289,
          4.586266832757471,
          4.856524233871202,
          4.791069894065531,
          4.181333621962299,
          4.307367404579822,
          4.754394198222568,
          4.462530752117183,
          4.27311234066266,
          4.667221103852053,
          4.809119249170357,
          4.192395190777292,
          4.371899044010935,
          4.581919502482948,
          4.791480193875214,
          3.8040129276683112,
          4.570997761114635,
          4.694663955195662,
          4.780174826062442,
          4.413388008640412,
          4.614827018927459,
          4.549107180894893,
          4.780565519738124,
          4.645783528436332,
          4.898491603486886,
          3.9662442484183744,
          4.9025318023267594,
          4.713462612353189,
          4.518785642514836,
          4.281201911412957,
          4.579515305687145,
          4.781047688632314,
          4.4832813230414805,
          4.3575659209182955,
          4.212030134420386,
          4.252707789559472,
          4.391773773218093,
          4.177532659043821,
          4.890349668004131,
          4.389236097758497,
          3.975894878676317,
          4.634606600345553,
          4.037383562301552,
          4.847568539298464,
          4.362095943974651,
          3.9880044786799838,
          4.6242873733001435,
          4.437878970123453,
          4.268884791630457,
          4.288078922675492,
          4.383985431925587,
          4.51537514144459,
          4.527665669895381,
          4.785777646614402,
          4.69309644844065,
          4.650997858378975,
          4.913740652317669,
          4.782049270200219,
          4.512820688080258,
          4.1771723152942215,
          4.322622070342618,
          4.378573981433632,
          4.834168620842977,
          4.477434791129292,
          4.074057823651315,
          4.550801103416915,
          4.35851135490712,
          4.6734469776286245,
          4.48404153894663,
          4.556647207436741,
          4.480326989847988,
          4.799118583733891,
          4.619417214007949,
          4.324190449756734,
          4.114918892533534,
          4.773553389217313,
          4.512824011781674,
          4.691183178513901,
          4.778708755781856,
          4.817293618494564,
          4.856029079115243,
          4.053199413646521,
          4.874662905934031,
          4.855274072706376,
          4.624019631636021,
          4.866895425118819,
          4.592757482510294,
          4.8259270968304415,
          4.556150630174308,
          4.6402380116762005,
          4.114397531171942,
          4.316308775594015,
          4.37398190485637,
          4.387644491647349,
          4.548702118650035,
          4.238648615245274,
          4.363052890262307,
          4.587673330025915,
          4.235871185645433,
          4.314058168322147,
          4.115022826715983,
          4.229910393410539,
          4.625713480174196,
          4.553009840305281,
          4.360196635144701,
          4.937298799013903,
          4.857682883251688,
          4.321189981279898,
          4.797651113886636,
          4.322512464560467,
          4.856931943536515,
          4.167060178820312,
          4.774803136508117,
          4.838723550858212,
          4.372407745922187,
          4.642139264782017,
          4.405025471432532,
          4.551701716689512,
          4.585769507705867,
          4.246198359954603,
          4.582858408441784,
          4.591311494603162,
          4.441069367490914,
          4.185358781793975,
          4.524620806378967,
          4.254915529521755,
          4.440697983403141,
          4.416864229880848,
          4.367364739263344,
          4.863515267186362,
          4.4734841843800375,
          4.687733079394663,
          4.556810225703806,
          4.526575117276646,
          4.278061590817216,
          4.209954161734973,
          4.852753795638572,
          4.443886622134204,
          4.201162506633663,
          4.268232148624882,
          4.594878090143223,
          4.69497412698119,
          4.124491848441812,
          4.483983118660684,
          4.7786405751737915,
          4.56671881906318,
          4.733238004572587,
          4.912958692853428,
          4.089516135789833,
          4.898145829339609,
          4.209216897346515,
          4.621520588939991,
          4.395235526992081,
          4.857810234659674,
          4.4518148828969135,
          4.510570991634125,
          4.62759761919274,
          4.327695146415393,
          4.294686040652052,
          4.210951042196879,
          4.891114206549163,
          4.737317584788638
         ],
         "y": [
          0.01731994660206158,
          0.018234252896192935,
          0.017398046465860725,
          0.01712873714933532,
          0.01752650868579668,
          0.016746255528257384,
          0.017867397738729564,
          0.016600128848212617,
          0.016145072897405868,
          0.01690123815416037,
          0.01764132554208668,
          0.01788436539908854,
          0.016922220490068182,
          0.01714567057166781,
          0.017917909672535964,
          0.015546941346979155,
          0.017849794609705396,
          0.016445024249015856,
          0.017314119167229948,
          0.016760042319640487,
          0.016527530974273896,
          0.017398069895823286,
          0.018234098704639493,
          0.0183799176336253,
          0.01711412289538457,
          0.017244932004957414,
          0.01806189194498011,
          0.01720178823084888,
          0.017257584017889693,
          0.01732611728179262,
          0.016902793089969084,
          0.017474692348905918,
          0.017232954775567612,
          0.01832688021962186,
          0.017493322333116564,
          0.01589969416789529,
          0.01581823989686071,
          0.01714828790777598,
          0.01815688632879495,
          0.017965152090783608,
          0.015650873003613005,
          0.016296160789972564,
          0.016934297576720148,
          0.017334500230102717,
          0.015139214966179353,
          0.018265903232654316,
          0.017099593297997814,
          0.016192722690254523,
          0.014256460601973314,
          0.017478075708947848,
          0.01770122382513284,
          0.017866605753058915,
          0.016437343871421685,
          0.018317941140552536,
          0.018492727194999795,
          0.014989836886353266,
          0.014230652842320096,
          0.017543277179728277,
          0.018310471924630322,
          0.017083440129605793,
          0.01448256551472692,
          0.01712087211734212,
          0.015477105196003652,
          0.017766105495395708,
          0.015420006567836934,
          0.016202558224279053,
          0.016394384767087513,
          0.017104043483243368,
          0.018599035388117177,
          0.015612506642808093,
          0.017545306400883587,
          0.017797027178667917,
          0.01743345447711494,
          0.01685947105673539,
          0.018476075296854206,
          0.016674662893085983,
          0.015143846992706505,
          0.018205837096983826,
          0.016347226744949064,
          0.01890554960254501,
          0.016577467100148586,
          0.014943328742221729,
          0.017936037546374968,
          0.016960937498745644,
          0.016396179024869475,
          0.018237779519904747,
          0.017113060847870076,
          0.017558540399111883,
          0.018038034474736064,
          0.018097658413143213,
          0.017531375326529684,
          0.01638754187848639,
          0.014712329141644595,
          0.017610831133598435,
          0.015454788151988948,
          0.01614932396335932,
          0.018175761164813575,
          0.016823635545709197,
          0.017511760755179167,
          0.017634431444480285,
          0.014454089675025244,
          0.018398208135895384,
          0.016786170895776602,
          0.018088176394795267,
          0.017694630322719722,
          0.01813974026776754,
          0.017765436366742077,
          0.01854256669867101,
          0.017280649768868225,
          0.014401556682651494,
          0.01677837264670587,
          0.017439194983892122,
          0.017004406738981435,
          0.016629962949151582,
          0.017696742290381047,
          0.016590724139105194,
          0.016713361005887658,
          0.015258067350514515,
          0.014668602156326233,
          0.017146189513912603,
          0.01507035934359274,
          0.014872915971416005,
          0.018292367920320452,
          0.015270721533920137,
          0.017546073114563347,
          0.015239255981083106,
          0.018083587590304165,
          0.017387925805047742,
          0.016411654908638187,
          0.017595268845291258,
          0.01700021019140692,
          0.018232723598417523,
          0.01834012119500386,
          0.01662581541328595,
          0.01757334411496545,
          0.01816990280284147,
          0.017012702762405497,
          0.017275008597314945,
          0.016381032096248437,
          0.016554306844613967,
          0.01703766051033127,
          0.018956309190280858,
          0.01778750596495972,
          0.0160796492263941,
          0.01502958712588876,
          0.01735672671403714,
          0.014950283914153427,
          0.017449065648121126,
          0.014724843986524579,
          0.017816691896525343,
          0.014355439779238465,
          0.014890544154960614,
          0.017503894410626945,
          0.017008464135216884,
          0.017794546847615292,
          0.01797587637798186,
          0.018463379350968125,
          0.017431446484803458,
          0.018033039420584054,
          0.017167871072892124,
          0.0173734037903542,
          0.01685528167986299,
          0.018000209969291026,
          0.01692225795252525,
          0.017683032630177432,
          0.018289705370696303,
          0.017912812164175507,
          0.014757444039489137,
          0.017210774567107123,
          0.017996003826835597,
          0.01814277764934524,
          0.017326451785452196,
          0.01688143745506025,
          0.01702937874802341,
          0.015693528329482214,
          0.0184421628651949,
          0.01641886035666404,
          0.016792363659926268,
          0.01725830883077366,
          0.016241750705310535,
          0.016210178738119134,
          0.017303699831923047,
          0.014528784784680652,
          0.016880006192573804,
          0.016308987007772478,
          0.015723321920308193,
          0.01638533385951289,
          0.015396556326150201,
          0.017306535855214876,
          0.018370479930924756,
          0.01802383732790694,
          0.015441251692698912,
          0.017053135858247064,
          0.01745309854455925,
          0.016400319031440062,
          0.017474070895609862,
          0.017220855279840595,
          0.017194370486680467,
          0.01547493802711802,
          0.015261741627921752
         ]
        }
       ],
       "layout": {
        "height": 600,
        "paper_bgcolor": "rgba(240,240,240,1)",
        "plot_bgcolor": "rgba(240,240,240,1)",
        "template": {
         "data": {
          "bar": [
           {
            "error_x": {
             "color": "#2a3f5f"
            },
            "error_y": {
             "color": "#2a3f5f"
            },
            "marker": {
             "line": {
              "color": "#E5ECF6",
              "width": 0.5
             },
             "pattern": {
              "fillmode": "overlay",
              "size": 10,
              "solidity": 0.2
             }
            },
            "type": "bar"
           }
          ],
          "barpolar": [
           {
            "marker": {
             "line": {
              "color": "#E5ECF6",
              "width": 0.5
             },
             "pattern": {
              "fillmode": "overlay",
              "size": 10,
              "solidity": 0.2
             }
            },
            "type": "barpolar"
           }
          ],
          "carpet": [
           {
            "aaxis": {
             "endlinecolor": "#2a3f5f",
             "gridcolor": "white",
             "linecolor": "white",
             "minorgridcolor": "white",
             "startlinecolor": "#2a3f5f"
            },
            "baxis": {
             "endlinecolor": "#2a3f5f",
             "gridcolor": "white",
             "linecolor": "white",
             "minorgridcolor": "white",
             "startlinecolor": "#2a3f5f"
            },
            "type": "carpet"
           }
          ],
          "choropleth": [
           {
            "colorbar": {
             "outlinewidth": 0,
             "ticks": ""
            },
            "type": "choropleth"
           }
          ],
          "contour": [
           {
            "colorbar": {
             "outlinewidth": 0,
             "ticks": ""
            },
            "colorscale": [
             [
              0,
              "#0d0887"
             ],
             [
              0.1111111111111111,
              "#46039f"
             ],
             [
              0.2222222222222222,
              "#7201a8"
             ],
             [
              0.3333333333333333,
              "#9c179e"
             ],
             [
              0.4444444444444444,
              "#bd3786"
             ],
             [
              0.5555555555555556,
              "#d8576b"
             ],
             [
              0.6666666666666666,
              "#ed7953"
             ],
             [
              0.7777777777777778,
              "#fb9f3a"
             ],
             [
              0.8888888888888888,
              "#fdca26"
             ],
             [
              1,
              "#f0f921"
             ]
            ],
            "type": "contour"
           }
          ],
          "contourcarpet": [
           {
            "colorbar": {
             "outlinewidth": 0,
             "ticks": ""
            },
            "type": "contourcarpet"
           }
          ],
          "heatmap": [
           {
            "colorbar": {
             "outlinewidth": 0,
             "ticks": ""
            },
            "colorscale": [
             [
              0,
              "#0d0887"
             ],
             [
              0.1111111111111111,
              "#46039f"
             ],
             [
              0.2222222222222222,
              "#7201a8"
             ],
             [
              0.3333333333333333,
              "#9c179e"
             ],
             [
              0.4444444444444444,
              "#bd3786"
             ],
             [
              0.5555555555555556,
              "#d8576b"
             ],
             [
              0.6666666666666666,
              "#ed7953"
             ],
             [
              0.7777777777777778,
              "#fb9f3a"
             ],
             [
              0.8888888888888888,
              "#fdca26"
             ],
             [
              1,
              "#f0f921"
             ]
            ],
            "type": "heatmap"
           }
          ],
          "heatmapgl": [
           {
            "colorbar": {
             "outlinewidth": 0,
             "ticks": ""
            },
            "colorscale": [
             [
              0,
              "#0d0887"
             ],
             [
              0.1111111111111111,
              "#46039f"
             ],
             [
              0.2222222222222222,
              "#7201a8"
             ],
             [
              0.3333333333333333,
              "#9c179e"
             ],
             [
              0.4444444444444444,
              "#bd3786"
             ],
             [
              0.5555555555555556,
              "#d8576b"
             ],
             [
              0.6666666666666666,
              "#ed7953"
             ],
             [
              0.7777777777777778,
              "#fb9f3a"
             ],
             [
              0.8888888888888888,
              "#fdca26"
             ],
             [
              1,
              "#f0f921"
             ]
            ],
            "type": "heatmapgl"
           }
          ],
          "histogram": [
           {
            "marker": {
             "pattern": {
              "fillmode": "overlay",
              "size": 10,
              "solidity": 0.2
             }
            },
            "type": "histogram"
           }
          ],
          "histogram2d": [
           {
            "colorbar": {
             "outlinewidth": 0,
             "ticks": ""
            },
            "colorscale": [
             [
              0,
              "#0d0887"
             ],
             [
              0.1111111111111111,
              "#46039f"
             ],
             [
              0.2222222222222222,
              "#7201a8"
             ],
             [
              0.3333333333333333,
              "#9c179e"
             ],
             [
              0.4444444444444444,
              "#bd3786"
             ],
             [
              0.5555555555555556,
              "#d8576b"
             ],
             [
              0.6666666666666666,
              "#ed7953"
             ],
             [
              0.7777777777777778,
              "#fb9f3a"
             ],
             [
              0.8888888888888888,
              "#fdca26"
             ],
             [
              1,
              "#f0f921"
             ]
            ],
            "type": "histogram2d"
           }
          ],
          "histogram2dcontour": [
           {
            "colorbar": {
             "outlinewidth": 0,
             "ticks": ""
            },
            "colorscale": [
             [
              0,
              "#0d0887"
             ],
             [
              0.1111111111111111,
              "#46039f"
             ],
             [
              0.2222222222222222,
              "#7201a8"
             ],
             [
              0.3333333333333333,
              "#9c179e"
             ],
             [
              0.4444444444444444,
              "#bd3786"
             ],
             [
              0.5555555555555556,
              "#d8576b"
             ],
             [
              0.6666666666666666,
              "#ed7953"
             ],
             [
              0.7777777777777778,
              "#fb9f3a"
             ],
             [
              0.8888888888888888,
              "#fdca26"
             ],
             [
              1,
              "#f0f921"
             ]
            ],
            "type": "histogram2dcontour"
           }
          ],
          "mesh3d": [
           {
            "colorbar": {
             "outlinewidth": 0,
             "ticks": ""
            },
            "type": "mesh3d"
           }
          ],
          "parcoords": [
           {
            "line": {
             "colorbar": {
              "outlinewidth": 0,
              "ticks": ""
             }
            },
            "type": "parcoords"
           }
          ],
          "pie": [
           {
            "automargin": true,
            "type": "pie"
           }
          ],
          "scatter": [
           {
            "fillpattern": {
             "fillmode": "overlay",
             "size": 10,
             "solidity": 0.2
            },
            "type": "scatter"
           }
          ],
          "scatter3d": [
           {
            "line": {
             "colorbar": {
              "outlinewidth": 0,
              "ticks": ""
             }
            },
            "marker": {
             "colorbar": {
              "outlinewidth": 0,
              "ticks": ""
             }
            },
            "type": "scatter3d"
           }
          ],
          "scattercarpet": [
           {
            "marker": {
             "colorbar": {
              "outlinewidth": 0,
              "ticks": ""
             }
            },
            "type": "scattercarpet"
           }
          ],
          "scattergeo": [
           {
            "marker": {
             "colorbar": {
              "outlinewidth": 0,
              "ticks": ""
             }
            },
            "type": "scattergeo"
           }
          ],
          "scattergl": [
           {
            "marker": {
             "colorbar": {
              "outlinewidth": 0,
              "ticks": ""
             }
            },
            "type": "scattergl"
           }
          ],
          "scattermapbox": [
           {
            "marker": {
             "colorbar": {
              "outlinewidth": 0,
              "ticks": ""
             }
            },
            "type": "scattermapbox"
           }
          ],
          "scatterpolar": [
           {
            "marker": {
             "colorbar": {
              "outlinewidth": 0,
              "ticks": ""
             }
            },
            "type": "scatterpolar"
           }
          ],
          "scatterpolargl": [
           {
            "marker": {
             "colorbar": {
              "outlinewidth": 0,
              "ticks": ""
             }
            },
            "type": "scatterpolargl"
           }
          ],
          "scatterternary": [
           {
            "marker": {
             "colorbar": {
              "outlinewidth": 0,
              "ticks": ""
             }
            },
            "type": "scatterternary"
           }
          ],
          "surface": [
           {
            "colorbar": {
             "outlinewidth": 0,
             "ticks": ""
            },
            "colorscale": [
             [
              0,
              "#0d0887"
             ],
             [
              0.1111111111111111,
              "#46039f"
             ],
             [
              0.2222222222222222,
              "#7201a8"
             ],
             [
              0.3333333333333333,
              "#9c179e"
             ],
             [
              0.4444444444444444,
              "#bd3786"
             ],
             [
              0.5555555555555556,
              "#d8576b"
             ],
             [
              0.6666666666666666,
              "#ed7953"
             ],
             [
              0.7777777777777778,
              "#fb9f3a"
             ],
             [
              0.8888888888888888,
              "#fdca26"
             ],
             [
              1,
              "#f0f921"
             ]
            ],
            "type": "surface"
           }
          ],
          "table": [
           {
            "cells": {
             "fill": {
              "color": "#EBF0F8"
             },
             "line": {
              "color": "white"
             }
            },
            "header": {
             "fill": {
              "color": "#C8D4E3"
             },
             "line": {
              "color": "white"
             }
            },
            "type": "table"
           }
          ]
         },
         "layout": {
          "annotationdefaults": {
           "arrowcolor": "#2a3f5f",
           "arrowhead": 0,
           "arrowwidth": 1
          },
          "autotypenumbers": "strict",
          "coloraxis": {
           "colorbar": {
            "outlinewidth": 0,
            "ticks": ""
           }
          },
          "colorscale": {
           "diverging": [
            [
             0,
             "#8e0152"
            ],
            [
             0.1,
             "#c51b7d"
            ],
            [
             0.2,
             "#de77ae"
            ],
            [
             0.3,
             "#f1b6da"
            ],
            [
             0.4,
             "#fde0ef"
            ],
            [
             0.5,
             "#f7f7f7"
            ],
            [
             0.6,
             "#e6f5d0"
            ],
            [
             0.7,
             "#b8e186"
            ],
            [
             0.8,
             "#7fbc41"
            ],
            [
             0.9,
             "#4d9221"
            ],
            [
             1,
             "#276419"
            ]
           ],
           "sequential": [
            [
             0,
             "#0d0887"
            ],
            [
             0.1111111111111111,
             "#46039f"
            ],
            [
             0.2222222222222222,
             "#7201a8"
            ],
            [
             0.3333333333333333,
             "#9c179e"
            ],
            [
             0.4444444444444444,
             "#bd3786"
            ],
            [
             0.5555555555555556,
             "#d8576b"
            ],
            [
             0.6666666666666666,
             "#ed7953"
            ],
            [
             0.7777777777777778,
             "#fb9f3a"
            ],
            [
             0.8888888888888888,
             "#fdca26"
            ],
            [
             1,
             "#f0f921"
            ]
           ],
           "sequentialminus": [
            [
             0,
             "#0d0887"
            ],
            [
             0.1111111111111111,
             "#46039f"
            ],
            [
             0.2222222222222222,
             "#7201a8"
            ],
            [
             0.3333333333333333,
             "#9c179e"
            ],
            [
             0.4444444444444444,
             "#bd3786"
            ],
            [
             0.5555555555555556,
             "#d8576b"
            ],
            [
             0.6666666666666666,
             "#ed7953"
            ],
            [
             0.7777777777777778,
             "#fb9f3a"
            ],
            [
             0.8888888888888888,
             "#fdca26"
            ],
            [
             1,
             "#f0f921"
            ]
           ]
          },
          "colorway": [
           "#636efa",
           "#EF553B",
           "#00cc96",
           "#ab63fa",
           "#FFA15A",
           "#19d3f3",
           "#FF6692",
           "#B6E880",
           "#FF97FF",
           "#FECB52"
          ],
          "font": {
           "color": "#2a3f5f"
          },
          "geo": {
           "bgcolor": "white",
           "lakecolor": "white",
           "landcolor": "#E5ECF6",
           "showlakes": true,
           "showland": true,
           "subunitcolor": "white"
          },
          "hoverlabel": {
           "align": "left"
          },
          "hovermode": "closest",
          "mapbox": {
           "style": "light"
          },
          "paper_bgcolor": "white",
          "plot_bgcolor": "#E5ECF6",
          "polar": {
           "angularaxis": {
            "gridcolor": "white",
            "linecolor": "white",
            "ticks": ""
           },
           "bgcolor": "#E5ECF6",
           "radialaxis": {
            "gridcolor": "white",
            "linecolor": "white",
            "ticks": ""
           }
          },
          "scene": {
           "xaxis": {
            "backgroundcolor": "#E5ECF6",
            "gridcolor": "white",
            "gridwidth": 2,
            "linecolor": "white",
            "showbackground": true,
            "ticks": "",
            "zerolinecolor": "white"
           },
           "yaxis": {
            "backgroundcolor": "#E5ECF6",
            "gridcolor": "white",
            "gridwidth": 2,
            "linecolor": "white",
            "showbackground": true,
            "ticks": "",
            "zerolinecolor": "white"
           },
           "zaxis": {
            "backgroundcolor": "#E5ECF6",
            "gridcolor": "white",
            "gridwidth": 2,
            "linecolor": "white",
            "showbackground": true,
            "ticks": "",
            "zerolinecolor": "white"
           }
          },
          "shapedefaults": {
           "line": {
            "color": "#2a3f5f"
           }
          },
          "ternary": {
           "aaxis": {
            "gridcolor": "white",
            "linecolor": "white",
            "ticks": ""
           },
           "baxis": {
            "gridcolor": "white",
            "linecolor": "white",
            "ticks": ""
           },
           "bgcolor": "#E5ECF6",
           "caxis": {
            "gridcolor": "white",
            "linecolor": "white",
            "ticks": ""
           }
          },
          "title": {
           "x": 0.05
          },
          "xaxis": {
           "automargin": true,
           "gridcolor": "white",
           "linecolor": "white",
           "ticks": "",
           "title": {
            "standoff": 15
           },
           "zerolinecolor": "white",
           "zerolinewidth": 2
          },
          "yaxis": {
           "automargin": true,
           "gridcolor": "white",
           "linecolor": "white",
           "ticks": "",
           "title": {
            "standoff": 15
           },
           "zerolinecolor": "white",
           "zerolinewidth": 2
          }
         }
        },
        "title": {
         "text": "Capacity vs DCIR"
        },
        "width": 800,
        "xaxis": {
         "title": {
          "text": "Capacity [Ah]"
         }
        },
        "yaxis": {
         "title": {
          "text": "Resistance (Ω)"
         }
        }
       }
      }
     },
     "metadata": {},
     "output_type": "display_data"
    }
   ],
   "source": [
    "fig_heat = mc.plot_capacity_resistance_heatmap(\n",
    "    var_kpis,\n",
    "    dcir,\n",
    "    changes=changes,\n",
    "    base_design=base_design,\n",
    "    include_baseline=False,\n",
    "    bins=(30, 30),\n",
    "    title=\"Capacity vs DCIR\",\n",
    "    marker_size=8,\n",
    ")\n",
    "fig_heat.show()"
   ]
  },
  {
   "cell_type": "markdown",
   "id": "e9110ca2",
   "metadata": {},
   "source": [
    "Lastly, we can download those designs to use them with the `Breathe Model` simulink model. We will save the designs to a `manufacturing_variability` folder in the current directory."
   ]
  },
  {
   "cell_type": "code",
   "execution_count": 12,
   "id": "7770fa9d",
   "metadata": {},
   "outputs": [
    {
     "name": "stderr",
     "output_type": "stream",
     "text": [
      "Running...: 100%|██████████| 200/200 [00:20<00:00,  9.99 designs/s]\n"
     ]
    },
    {
     "data": {
      "text/plain": [
       "['manufacturing_variability\\\\BMJN_0.json',\n",
       " 'manufacturing_variability\\\\BMJN_1.json',\n",
       " 'manufacturing_variability\\\\BMJN_2.json',\n",
       " 'manufacturing_variability\\\\BMJN_3.json',\n",
       " 'manufacturing_variability\\\\BMJN_4.json',\n",
       " 'manufacturing_variability\\\\BMJN_5.json',\n",
       " 'manufacturing_variability\\\\BMJN_6.json',\n",
       " 'manufacturing_variability\\\\BMJN_7.json',\n",
       " 'manufacturing_variability\\\\BMJN_8.json',\n",
       " 'manufacturing_variability\\\\BMJN_9.json',\n",
       " 'manufacturing_variability\\\\BMJN_10.json',\n",
       " 'manufacturing_variability\\\\BMJN_11.json',\n",
       " 'manufacturing_variability\\\\BMJN_12.json',\n",
       " 'manufacturing_variability\\\\BMJN_13.json',\n",
       " 'manufacturing_variability\\\\BMJN_14.json',\n",
       " 'manufacturing_variability\\\\BMJN_15.json',\n",
       " 'manufacturing_variability\\\\BMJN_16.json',\n",
       " 'manufacturing_variability\\\\BMJN_17.json',\n",
       " 'manufacturing_variability\\\\BMJN_18.json',\n",
       " 'manufacturing_variability\\\\BMJN_19.json',\n",
       " 'manufacturing_variability\\\\BMJN_20.json',\n",
       " 'manufacturing_variability\\\\BMJN_21.json',\n",
       " 'manufacturing_variability\\\\BMJN_22.json',\n",
       " 'manufacturing_variability\\\\BMJN_23.json',\n",
       " 'manufacturing_variability\\\\BMJN_24.json',\n",
       " 'manufacturing_variability\\\\BMJN_25.json',\n",
       " 'manufacturing_variability\\\\BMJN_26.json',\n",
       " 'manufacturing_variability\\\\BMJN_27.json',\n",
       " 'manufacturing_variability\\\\BMJN_28.json',\n",
       " 'manufacturing_variability\\\\BMJN_29.json',\n",
       " 'manufacturing_variability\\\\BMJN_30.json',\n",
       " 'manufacturing_variability\\\\BMJN_31.json',\n",
       " 'manufacturing_variability\\\\BMJN_32.json',\n",
       " 'manufacturing_variability\\\\BMJN_33.json',\n",
       " 'manufacturing_variability\\\\BMJN_34.json',\n",
       " 'manufacturing_variability\\\\BMJN_35.json',\n",
       " 'manufacturing_variability\\\\BMJN_36.json',\n",
       " 'manufacturing_variability\\\\BMJN_37.json',\n",
       " 'manufacturing_variability\\\\BMJN_38.json',\n",
       " 'manufacturing_variability\\\\BMJN_39.json',\n",
       " 'manufacturing_variability\\\\BMJN_40.json',\n",
       " 'manufacturing_variability\\\\BMJN_41.json',\n",
       " 'manufacturing_variability\\\\BMJN_42.json',\n",
       " 'manufacturing_variability\\\\BMJN_43.json',\n",
       " 'manufacturing_variability\\\\BMJN_44.json',\n",
       " 'manufacturing_variability\\\\BMJN_45.json',\n",
       " 'manufacturing_variability\\\\BMJN_46.json',\n",
       " 'manufacturing_variability\\\\BMJN_47.json',\n",
       " 'manufacturing_variability\\\\BMJN_48.json',\n",
       " 'manufacturing_variability\\\\BMJN_49.json',\n",
       " 'manufacturing_variability\\\\BMJN_50.json',\n",
       " 'manufacturing_variability\\\\BMJN_51.json',\n",
       " 'manufacturing_variability\\\\BMJN_52.json',\n",
       " 'manufacturing_variability\\\\BMJN_53.json',\n",
       " 'manufacturing_variability\\\\BMJN_54.json',\n",
       " 'manufacturing_variability\\\\BMJN_55.json',\n",
       " 'manufacturing_variability\\\\BMJN_56.json',\n",
       " 'manufacturing_variability\\\\BMJN_57.json',\n",
       " 'manufacturing_variability\\\\BMJN_58.json',\n",
       " 'manufacturing_variability\\\\BMJN_59.json',\n",
       " 'manufacturing_variability\\\\BMJN_60.json',\n",
       " 'manufacturing_variability\\\\BMJN_61.json',\n",
       " 'manufacturing_variability\\\\BMJN_62.json',\n",
       " 'manufacturing_variability\\\\BMJN_63.json',\n",
       " 'manufacturing_variability\\\\BMJN_64.json',\n",
       " 'manufacturing_variability\\\\BMJN_65.json',\n",
       " 'manufacturing_variability\\\\BMJN_66.json',\n",
       " 'manufacturing_variability\\\\BMJN_67.json',\n",
       " 'manufacturing_variability\\\\BMJN_68.json',\n",
       " 'manufacturing_variability\\\\BMJN_69.json',\n",
       " 'manufacturing_variability\\\\BMJN_70.json',\n",
       " 'manufacturing_variability\\\\BMJN_71.json',\n",
       " 'manufacturing_variability\\\\BMJN_72.json',\n",
       " 'manufacturing_variability\\\\BMJN_73.json',\n",
       " 'manufacturing_variability\\\\BMJN_74.json',\n",
       " 'manufacturing_variability\\\\BMJN_75.json',\n",
       " 'manufacturing_variability\\\\BMJN_76.json',\n",
       " 'manufacturing_variability\\\\BMJN_77.json',\n",
       " 'manufacturing_variability\\\\BMJN_78.json',\n",
       " 'manufacturing_variability\\\\BMJN_79.json',\n",
       " 'manufacturing_variability\\\\BMJN_80.json',\n",
       " 'manufacturing_variability\\\\BMJN_81.json',\n",
       " 'manufacturing_variability\\\\BMJN_82.json',\n",
       " 'manufacturing_variability\\\\BMJN_83.json',\n",
       " 'manufacturing_variability\\\\BMJN_84.json',\n",
       " 'manufacturing_variability\\\\BMJN_85.json',\n",
       " 'manufacturing_variability\\\\BMJN_86.json',\n",
       " 'manufacturing_variability\\\\BMJN_87.json',\n",
       " 'manufacturing_variability\\\\BMJN_88.json',\n",
       " 'manufacturing_variability\\\\BMJN_89.json',\n",
       " 'manufacturing_variability\\\\BMJN_90.json',\n",
       " 'manufacturing_variability\\\\BMJN_91.json',\n",
       " 'manufacturing_variability\\\\BMJN_92.json',\n",
       " 'manufacturing_variability\\\\BMJN_93.json',\n",
       " 'manufacturing_variability\\\\BMJN_94.json',\n",
       " 'manufacturing_variability\\\\BMJN_95.json',\n",
       " 'manufacturing_variability\\\\BMJN_96.json',\n",
       " 'manufacturing_variability\\\\BMJN_97.json',\n",
       " 'manufacturing_variability\\\\BMJN_98.json',\n",
       " 'manufacturing_variability\\\\BMJN_99.json',\n",
       " 'manufacturing_variability\\\\BMJN_100.json',\n",
       " 'manufacturing_variability\\\\BMJN_101.json',\n",
       " 'manufacturing_variability\\\\BMJN_102.json',\n",
       " 'manufacturing_variability\\\\BMJN_103.json',\n",
       " 'manufacturing_variability\\\\BMJN_104.json',\n",
       " 'manufacturing_variability\\\\BMJN_105.json',\n",
       " 'manufacturing_variability\\\\BMJN_106.json',\n",
       " 'manufacturing_variability\\\\BMJN_107.json',\n",
       " 'manufacturing_variability\\\\BMJN_108.json',\n",
       " 'manufacturing_variability\\\\BMJN_109.json',\n",
       " 'manufacturing_variability\\\\BMJN_110.json',\n",
       " 'manufacturing_variability\\\\BMJN_111.json',\n",
       " 'manufacturing_variability\\\\BMJN_112.json',\n",
       " 'manufacturing_variability\\\\BMJN_113.json',\n",
       " 'manufacturing_variability\\\\BMJN_114.json',\n",
       " 'manufacturing_variability\\\\BMJN_115.json',\n",
       " 'manufacturing_variability\\\\BMJN_116.json',\n",
       " 'manufacturing_variability\\\\BMJN_117.json',\n",
       " 'manufacturing_variability\\\\BMJN_118.json',\n",
       " 'manufacturing_variability\\\\BMJN_119.json',\n",
       " 'manufacturing_variability\\\\BMJN_120.json',\n",
       " 'manufacturing_variability\\\\BMJN_121.json',\n",
       " 'manufacturing_variability\\\\BMJN_122.json',\n",
       " 'manufacturing_variability\\\\BMJN_123.json',\n",
       " 'manufacturing_variability\\\\BMJN_124.json',\n",
       " 'manufacturing_variability\\\\BMJN_125.json',\n",
       " 'manufacturing_variability\\\\BMJN_126.json',\n",
       " 'manufacturing_variability\\\\BMJN_127.json',\n",
       " 'manufacturing_variability\\\\BMJN_128.json',\n",
       " 'manufacturing_variability\\\\BMJN_129.json',\n",
       " 'manufacturing_variability\\\\BMJN_130.json',\n",
       " 'manufacturing_variability\\\\BMJN_131.json',\n",
       " 'manufacturing_variability\\\\BMJN_132.json',\n",
       " 'manufacturing_variability\\\\BMJN_133.json',\n",
       " 'manufacturing_variability\\\\BMJN_134.json',\n",
       " 'manufacturing_variability\\\\BMJN_135.json',\n",
       " 'manufacturing_variability\\\\BMJN_136.json',\n",
       " 'manufacturing_variability\\\\BMJN_137.json',\n",
       " 'manufacturing_variability\\\\BMJN_138.json',\n",
       " 'manufacturing_variability\\\\BMJN_139.json',\n",
       " 'manufacturing_variability\\\\BMJN_140.json',\n",
       " 'manufacturing_variability\\\\BMJN_141.json',\n",
       " 'manufacturing_variability\\\\BMJN_142.json',\n",
       " 'manufacturing_variability\\\\BMJN_143.json',\n",
       " 'manufacturing_variability\\\\BMJN_144.json',\n",
       " 'manufacturing_variability\\\\BMJN_145.json',\n",
       " 'manufacturing_variability\\\\BMJN_146.json',\n",
       " 'manufacturing_variability\\\\BMJN_147.json',\n",
       " 'manufacturing_variability\\\\BMJN_148.json',\n",
       " 'manufacturing_variability\\\\BMJN_149.json',\n",
       " 'manufacturing_variability\\\\BMJN_150.json',\n",
       " 'manufacturing_variability\\\\BMJN_151.json',\n",
       " 'manufacturing_variability\\\\BMJN_152.json',\n",
       " 'manufacturing_variability\\\\BMJN_153.json',\n",
       " 'manufacturing_variability\\\\BMJN_154.json',\n",
       " 'manufacturing_variability\\\\BMJN_155.json',\n",
       " 'manufacturing_variability\\\\BMJN_156.json',\n",
       " 'manufacturing_variability\\\\BMJN_157.json',\n",
       " 'manufacturing_variability\\\\BMJN_158.json',\n",
       " 'manufacturing_variability\\\\BMJN_159.json',\n",
       " 'manufacturing_variability\\\\BMJN_160.json',\n",
       " 'manufacturing_variability\\\\BMJN_161.json',\n",
       " 'manufacturing_variability\\\\BMJN_162.json',\n",
       " 'manufacturing_variability\\\\BMJN_163.json',\n",
       " 'manufacturing_variability\\\\BMJN_164.json',\n",
       " 'manufacturing_variability\\\\BMJN_165.json',\n",
       " 'manufacturing_variability\\\\BMJN_166.json',\n",
       " 'manufacturing_variability\\\\BMJN_167.json',\n",
       " 'manufacturing_variability\\\\BMJN_168.json',\n",
       " 'manufacturing_variability\\\\BMJN_169.json',\n",
       " 'manufacturing_variability\\\\BMJN_170.json',\n",
       " 'manufacturing_variability\\\\BMJN_171.json',\n",
       " 'manufacturing_variability\\\\BMJN_172.json',\n",
       " 'manufacturing_variability\\\\BMJN_173.json',\n",
       " 'manufacturing_variability\\\\BMJN_174.json',\n",
       " 'manufacturing_variability\\\\BMJN_175.json',\n",
       " 'manufacturing_variability\\\\BMJN_176.json',\n",
       " 'manufacturing_variability\\\\BMJN_177.json',\n",
       " 'manufacturing_variability\\\\BMJN_178.json',\n",
       " 'manufacturing_variability\\\\BMJN_179.json',\n",
       " 'manufacturing_variability\\\\BMJN_180.json',\n",
       " 'manufacturing_variability\\\\BMJN_181.json',\n",
       " 'manufacturing_variability\\\\BMJN_182.json',\n",
       " 'manufacturing_variability\\\\BMJN_183.json',\n",
       " 'manufacturing_variability\\\\BMJN_184.json',\n",
       " 'manufacturing_variability\\\\BMJN_185.json',\n",
       " 'manufacturing_variability\\\\BMJN_186.json',\n",
       " 'manufacturing_variability\\\\BMJN_187.json',\n",
       " 'manufacturing_variability\\\\BMJN_188.json',\n",
       " 'manufacturing_variability\\\\BMJN_189.json',\n",
       " 'manufacturing_variability\\\\BMJN_190.json',\n",
       " 'manufacturing_variability\\\\BMJN_191.json',\n",
       " 'manufacturing_variability\\\\BMJN_192.json',\n",
       " 'manufacturing_variability\\\\BMJN_193.json',\n",
       " 'manufacturing_variability\\\\BMJN_194.json',\n",
       " 'manufacturing_variability\\\\BMJN_195.json',\n",
       " 'manufacturing_variability\\\\BMJN_196.json',\n",
       " 'manufacturing_variability\\\\BMJN_197.json',\n",
       " 'manufacturing_variability\\\\BMJN_198.json',\n",
       " 'manufacturing_variability\\\\BMJN_199.json',\n",
       " 'manufacturing_variability\\\\BMJN_200.json']"
      ]
     },
     "execution_count": 12,
     "metadata": {},
     "output_type": "execute_result"
    }
   ],
   "source": [
    "folder = \"manufacturing_variability\"\n",
    "api.download_designs(base_battery, designs=changes, folder=folder)"
   ]
  }
 ],
 "metadata": {
  "kernelspec": {
   "display_name": "Python 3",
   "language": "python",
   "name": "python3"
  },
  "language_info": {
   "codemirror_mode": {
    "name": "ipython",
    "version": 3
   },
   "file_extension": ".py",
   "mimetype": "text/x-python",
   "name": "python",
   "nbconvert_exporter": "python",
   "pygments_lexer": "ipython3",
   "version": "3.11.9"
  }
 },
 "nbformat": 4,
 "nbformat_minor": 5
}
